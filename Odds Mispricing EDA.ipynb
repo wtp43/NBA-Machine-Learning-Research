{
 "cells": [
  {
   "cell_type": "code",
   "execution_count": 2,
   "id": "4584a1ce-112a-4f50-b78c-be7e78fe384c",
   "metadata": {},
   "outputs": [
    {
     "name": "stdout",
     "output_type": "stream",
     "text": [
      "time: 1.06 s (started: 2023-02-09 12:30:44 -05:00)\n"
     ]
    }
   ],
   "source": [
    "%%capture\n",
    "import warnings\n",
    "import math\n",
    "import pickle\n",
    "import pandas as pd\n",
    "import numpy as np\n",
    "from bokeh.plotting import figure, show\n",
    "from bokeh.io import output_notebook, push_notebook, show\n",
    "import matplotlib.pyplot as plt\n",
    "from datetime import date, datetime\n",
    "from tqdm.notebook import tqdm\n",
    "import re\n",
    "warnings.filterwarnings('ignore')\n",
    "try:\n",
    "    %load_ext autotime\n",
    "    %load_ext jupyterlab_notify\n",
    "except:\n",
    "    !pip3 install ipython-autotime\n",
    "    %load_ext autotime\n"
   ]
  },
  {
   "cell_type": "code",
   "execution_count": 74,
   "id": "29d598a4-8683-49f6-af3b-45500368794b",
   "metadata": {},
   "outputs": [
    {
     "data": {
      "text/plain": [
       "count    11469.000000\n",
       "mean         0.336153\n",
       "std          0.320110\n",
       "min          0.000000\n",
       "25%          0.000000\n",
       "50%          0.333333\n",
       "75%          0.666667\n",
       "max          1.000000\n",
       "Name: past_3_home_favorite_wins, dtype: float64"
      ]
     },
     "execution_count": 74,
     "metadata": {},
     "output_type": "execute_result"
    },
    {
     "name": "stdout",
     "output_type": "stream",
     "text": [
      "time: 405 ms (started: 2023-02-09 17:48:59 -05:00)\n"
     ]
    }
   ],
   "source": [
    "df = pd.read_csv('modern_matches.csv')\n",
    "df = df[['home_ml', 'away_ml', 'over', 'under',\n",
    "        'spread', 'home_spread', 'home_ps_odds', 'away_spread', 'away_ps_odds', \n",
    "        'movl', 'h_win', 'playoff_game', 'past_3_home_favorite_wins', \n",
    "         'past_3_away_favorite_wins', 'season']]\n",
    "df['vig'] = 1/df['home_ml'] + 1/df['away_ml'] \n",
    "df=df.dropna(subset=['home_ml','away_ml'])\n",
    "df['past_3_home_favorite_wins'].describe()\n"
   ]
  },
  {
   "cell_type": "code",
   "execution_count": 4,
   "id": "fbad096f-2f7e-49f2-8d7e-f51de548b784",
   "metadata": {},
   "outputs": [
    {
     "data": {
      "text/html": [
       "<div>\n",
       "<style scoped>\n",
       "    .dataframe tbody tr th:only-of-type {\n",
       "        vertical-align: middle;\n",
       "    }\n",
       "\n",
       "    .dataframe tbody tr th {\n",
       "        vertical-align: top;\n",
       "    }\n",
       "\n",
       "    .dataframe thead th {\n",
       "        text-align: right;\n",
       "    }\n",
       "</style>\n",
       "<table border=\"1\" class=\"dataframe\">\n",
       "  <thead>\n",
       "    <tr style=\"text-align: right;\">\n",
       "      <th></th>\n",
       "      <th>home_ml</th>\n",
       "      <th>away_ml</th>\n",
       "      <th>over</th>\n",
       "      <th>under</th>\n",
       "      <th>spread</th>\n",
       "      <th>home_spread</th>\n",
       "      <th>home_ps_odds</th>\n",
       "      <th>away_spread</th>\n",
       "      <th>away_ps_odds</th>\n",
       "      <th>movl</th>\n",
       "      <th>h_win</th>\n",
       "      <th>playoff_game</th>\n",
       "      <th>vig</th>\n",
       "    </tr>\n",
       "  </thead>\n",
       "  <tbody>\n",
       "    <tr>\n",
       "      <th>0</th>\n",
       "      <td>1.099266</td>\n",
       "      <td>8.100000</td>\n",
       "      <td>1.928189</td>\n",
       "      <td>1.919112</td>\n",
       "      <td>189.000000</td>\n",
       "      <td>-12.250000</td>\n",
       "      <td>1.918323</td>\n",
       "      <td>12.250000</td>\n",
       "      <td>1.930435</td>\n",
       "      <td>10.0</td>\n",
       "      <td>1</td>\n",
       "      <td>0.0</td>\n",
       "      <td>1.033155</td>\n",
       "    </tr>\n",
       "    <tr>\n",
       "      <th>1</th>\n",
       "      <td>1.456783</td>\n",
       "      <td>2.830000</td>\n",
       "      <td>1.919388</td>\n",
       "      <td>1.913339</td>\n",
       "      <td>188.583333</td>\n",
       "      <td>-5.000000</td>\n",
       "      <td>1.914808</td>\n",
       "      <td>5.000000</td>\n",
       "      <td>1.917832</td>\n",
       "      <td>12.0</td>\n",
       "      <td>1</td>\n",
       "      <td>0.0</td>\n",
       "      <td>1.039801</td>\n",
       "    </tr>\n",
       "    <tr>\n",
       "      <th>2</th>\n",
       "      <td>5.400000</td>\n",
       "      <td>1.171482</td>\n",
       "      <td>1.913339</td>\n",
       "      <td>1.919388</td>\n",
       "      <td>202.083333</td>\n",
       "      <td>9.666667</td>\n",
       "      <td>1.931457</td>\n",
       "      <td>-9.666667</td>\n",
       "      <td>1.902503</td>\n",
       "      <td>13.0</td>\n",
       "      <td>1</td>\n",
       "      <td>0.0</td>\n",
       "      <td>1.038805</td>\n",
       "    </tr>\n",
       "    <tr>\n",
       "      <th>3</th>\n",
       "      <td>1.103647</td>\n",
       "      <td>7.890000</td>\n",
       "      <td>1.898696</td>\n",
       "      <td>1.950524</td>\n",
       "      <td>206.333333</td>\n",
       "      <td>-12.000000</td>\n",
       "      <td>1.902854</td>\n",
       "      <td>12.000000</td>\n",
       "      <td>1.952132</td>\n",
       "      <td>31.0</td>\n",
       "      <td>1</td>\n",
       "      <td>0.0</td>\n",
       "      <td>1.032829</td>\n",
       "    </tr>\n",
       "    <tr>\n",
       "      <th>4</th>\n",
       "      <td>1.058775</td>\n",
       "      <td>11.460000</td>\n",
       "      <td>1.926327</td>\n",
       "      <td>1.921602</td>\n",
       "      <td>200.583333</td>\n",
       "      <td>-13.000000</td>\n",
       "      <td>1.917696</td>\n",
       "      <td>13.000000</td>\n",
       "      <td>1.929807</td>\n",
       "      <td>13.0</td>\n",
       "      <td>1</td>\n",
       "      <td>0.0</td>\n",
       "      <td>1.031748</td>\n",
       "    </tr>\n",
       "  </tbody>\n",
       "</table>\n",
       "</div>"
      ],
      "text/plain": [
       "    home_ml    away_ml      over     under      spread  home_spread  \\\n",
       "0  1.099266   8.100000  1.928189  1.919112  189.000000   -12.250000   \n",
       "1  1.456783   2.830000  1.919388  1.913339  188.583333    -5.000000   \n",
       "2  5.400000   1.171482  1.913339  1.919388  202.083333     9.666667   \n",
       "3  1.103647   7.890000  1.898696  1.950524  206.333333   -12.000000   \n",
       "4  1.058775  11.460000  1.926327  1.921602  200.583333   -13.000000   \n",
       "\n",
       "   home_ps_odds  away_spread  away_ps_odds  movl  h_win  playoff_game  \\\n",
       "0      1.918323    12.250000      1.930435  10.0      1           0.0   \n",
       "1      1.914808     5.000000      1.917832  12.0      1           0.0   \n",
       "2      1.931457    -9.666667      1.902503  13.0      1           0.0   \n",
       "3      1.902854    12.000000      1.952132  31.0      1           0.0   \n",
       "4      1.917696    13.000000      1.929807  13.0      1           0.0   \n",
       "\n",
       "        vig  \n",
       "0  1.033155  \n",
       "1  1.039801  \n",
       "2  1.038805  \n",
       "3  1.032829  \n",
       "4  1.031748  "
      ]
     },
     "execution_count": 4,
     "metadata": {},
     "output_type": "execute_result"
    },
    {
     "name": "stdout",
     "output_type": "stream",
     "text": [
      "time: 10.8 ms (started: 2023-02-09 00:29:57 -05:00)\n"
     ]
    }
   ],
   "source": [
    "df.head()"
   ]
  },
  {
   "cell_type": "markdown",
   "id": "a6316b1e-072a-4999-b634-42ba657ed157",
   "metadata": {},
   "source": [
    "## Underdog Win Percentage"
   ]
  },
  {
   "cell_type": "code",
   "execution_count": 136,
   "id": "c3fec929-66b3-4ecf-b4ae-5aa7d9fe4164",
   "metadata": {},
   "outputs": [
    {
     "data": {
      "text/plain": [
       "11516"
      ]
     },
     "execution_count": 136,
     "metadata": {},
     "output_type": "execute_result"
    },
    {
     "name": "stdout",
     "output_type": "stream",
     "text": [
      "time: 1.26 ms (started: 2023-02-08 02:12:46 -05:00)\n"
     ]
    }
   ],
   "source": [
    "len(df)"
   ]
  },
  {
   "cell_type": "code",
   "execution_count": 4,
   "id": "307a576d-555f-4add-9856-d4f2c0facc7a",
   "metadata": {},
   "outputs": [
    {
     "data": {
      "text/plain": [
       "11513"
      ]
     },
     "execution_count": 4,
     "metadata": {},
     "output_type": "execute_result"
    },
    {
     "name": "stdout",
     "output_type": "stream",
     "text": [
      "time: 4.46 ms (started: 2023-02-09 12:30:48 -05:00)\n"
     ]
    }
   ],
   "source": [
    "df=df.dropna(subset=['home_ml','away_ml'])\n",
    "len(df)"
   ]
  },
  {
   "cell_type": "code",
   "execution_count": 5,
   "id": "0c9019b9-ace0-4fed-9e82-7366a70fd879",
   "metadata": {},
   "outputs": [
    {
     "data": {
      "text/plain": [
       "home_ml         False\n",
       "away_ml         False\n",
       "over            False\n",
       "under           False\n",
       "spread          False\n",
       "home_spread     False\n",
       "home_ps_odds    False\n",
       "away_spread     False\n",
       "away_ps_odds    False\n",
       "movl            False\n",
       "h_win           False\n",
       "playoff_game    False\n",
       "vig             False\n",
       "dtype: bool"
      ]
     },
     "execution_count": 5,
     "metadata": {},
     "output_type": "execute_result"
    },
    {
     "name": "stdout",
     "output_type": "stream",
     "text": [
      "time: 5.29 ms (started: 2023-02-09 12:30:48 -05:00)\n"
     ]
    }
   ],
   "source": [
    "df.isna().any()"
   ]
  },
  {
   "cell_type": "markdown",
   "id": "4b366d03-bad6-41cc-aba5-1a3966204c75",
   "metadata": {},
   "source": [
    "### Percentage of underdogs from 2013 to 2022"
   ]
  },
  {
   "cell_type": "code",
   "execution_count": 59,
   "id": "df7f950b-a1d0-4c22-aa80-5494e2ebed87",
   "metadata": {},
   "outputs": [
    {
     "name": "stdout",
     "output_type": "stream",
     "text": [
      "total matches:  11516\n",
      "underdogs that won:  3683\n",
      "underdog win %:  0.3198159083014936\n",
      "time: 2.39 ms (started: 2023-02-07 19:25:28 -05:00)\n"
     ]
    }
   ],
   "source": [
    "n_matches = len(df)\n",
    "underdog_winners = df[ ((df.h_win == 1) & (df.home_ml > df.away_ml)) |\n",
    "                          ((df.h_win == 0) & (df.away_ml > df.home_ml)) ]\n",
    "\n",
    "print('total matches: ', n_matches)\n",
    "print('underdogs that won: ', len(underdog_winners))\n",
    "print('underdog win %: ', len(underdog_winners)/n_matches)"
   ]
  },
  {
   "cell_type": "code",
   "execution_count": 23,
   "id": "2110e6bb-594b-495a-b9c3-252302376135",
   "metadata": {},
   "outputs": [
    {
     "name": "stdout",
     "output_type": "stream",
     "text": [
      "number of underdogs whose odds > 3 (p(win) = 1/3):  5514\n",
      "number of underdogs whose odds > 3 (p(win) = 1/3):  1213\n",
      "win ratio 0.2199854914762423\n",
      "time: 3.89 ms (started: 2023-02-07 16:08:25 -05:00)\n"
     ]
    }
   ],
   "source": [
    "massive_underdogs = df[ (df.home_ml > 3) | (df.away_ml > 3) ]\n",
    "print('number of underdogs whose odds > 3 (p(win) = 1/3): ',\n",
    "     len(massive_underdogs))\n",
    "\n",
    "massive_underdog_winners = df[ (((df.h_win == 1) & (df.home_ml > df.away_ml)) |\n",
    "                          ((df.h_win == 0) & (df.away_ml > df.home_ml))) &\n",
    "                              ((df.home_ml > 3) | (df.away_ml > 3))]\n",
    "print('number of underdogs whose odds > 3 (p(win) = 1/3): ',\n",
    "     len(massive_underdog_winners))\n",
    "\n",
    "print('win ratio',len(massive_underdog_winners)/len(massive_underdogs))\n",
    "\n"
   ]
  },
  {
   "cell_type": "code",
   "execution_count": 47,
   "id": "fe0cc633-2590-4403-abd2-543a3fce9c32",
   "metadata": {},
   "outputs": [
    {
     "name": "stdout",
     "output_type": "stream",
     "text": [
      "number of underdogs with p(win) = 0.5: 3201\n",
      "number of underdog winners with p(win) = 0.5: 1383\n",
      "win ratio 0.4320524835988753\n",
      "number of underdogs with p(win) = 0.4: 2303\n",
      "number of underdog winners with p(win) = 0.4: 825\n",
      "win ratio 0.35822839774207554\n",
      "number of underdogs with p(win) = 0.3333333333333333: 1394\n",
      "number of underdog winners with p(win) = 0.3333333333333333: 406\n",
      "win ratio 0.29124820659971307\n",
      "number of underdogs with p(win) = 0.2857142857142857: 994\n",
      "number of underdog winners with p(win) = 0.2857142857142857: 294\n",
      "win ratio 0.29577464788732394\n",
      "number of underdogs with p(win) = 0.25: 651\n",
      "number of underdog winners with p(win) = 0.25: 138\n",
      "win ratio 0.2119815668202765\n",
      "time: 13.4 ms (started: 2023-02-07 16:51:10 -05:00)\n"
     ]
    }
   ],
   "source": [
    "odds = np.linspace(2,4,5)\n",
    "interval = 0.5\n",
    "for o in odds:\n",
    "    massive_underdogs = df[ ((df.home_ml > o) & (df.home_ml < (o+interval))) | \n",
    "                           ((df.away_ml > o) & (df.away_ml < (o+interval))) ]\n",
    "    print(f'number of underdogs with p(win) = {1/o}: {len(massive_underdogs)}')\n",
    "    massive_underdog_winners = df[ (((df.h_win == 1) & (df.home_ml > df.away_ml)) |\n",
    "                              ((df.h_win == 0) & (df.away_ml > df.home_ml))) &\n",
    "                                  (((df.home_ml > o) & (df.home_ml < (o+interval))) | \n",
    "                                   ((df.away_ml > o) & (df.away_ml < (o+interval))))]\n",
    "    print(f'number of underdog winners with p(win) = {1/o}: {len(massive_underdog_winners)}')\n",
    "    print(f'win ratio {len(massive_underdog_winners)/len(massive_underdogs)}')"
   ]
  },
  {
   "cell_type": "code",
   "execution_count": 48,
   "id": "bf5eb366-282b-462d-926c-1adbc5e5b31d",
   "metadata": {},
   "outputs": [
    {
     "data": {
      "text/html": [
       "<div>\n",
       "<style scoped>\n",
       "    .dataframe tbody tr th:only-of-type {\n",
       "        vertical-align: middle;\n",
       "    }\n",
       "\n",
       "    .dataframe tbody tr th {\n",
       "        vertical-align: top;\n",
       "    }\n",
       "\n",
       "    .dataframe thead th {\n",
       "        text-align: right;\n",
       "    }\n",
       "</style>\n",
       "<table border=\"1\" class=\"dataframe\">\n",
       "  <thead>\n",
       "    <tr style=\"text-align: right;\">\n",
       "      <th></th>\n",
       "      <th>home_ml</th>\n",
       "      <th>away_ml</th>\n",
       "      <th>over</th>\n",
       "      <th>under</th>\n",
       "      <th>spread</th>\n",
       "      <th>home_spread</th>\n",
       "      <th>away_spread</th>\n",
       "      <th>movl</th>\n",
       "      <th>h_win</th>\n",
       "    </tr>\n",
       "  </thead>\n",
       "  <tbody>\n",
       "    <tr>\n",
       "      <th>453</th>\n",
       "      <td>1.267079</td>\n",
       "      <td>4.060000</td>\n",
       "      <td>1.913966</td>\n",
       "      <td>1.933818</td>\n",
       "      <td>208.833333</td>\n",
       "      <td>-7.833333</td>\n",
       "      <td>7.833333</td>\n",
       "      <td>-19.0</td>\n",
       "      <td>0</td>\n",
       "    </tr>\n",
       "    <tr>\n",
       "      <th>477</th>\n",
       "      <td>1.238188</td>\n",
       "      <td>4.363333</td>\n",
       "      <td>1.930851</td>\n",
       "      <td>1.917049</td>\n",
       "      <td>220.000000</td>\n",
       "      <td>-8.833333</td>\n",
       "      <td>8.833333</td>\n",
       "      <td>-9.0</td>\n",
       "      <td>0</td>\n",
       "    </tr>\n",
       "    <tr>\n",
       "      <th>525</th>\n",
       "      <td>1.269202</td>\n",
       "      <td>4.035000</td>\n",
       "      <td>1.924870</td>\n",
       "      <td>1.923521</td>\n",
       "      <td>217.166667</td>\n",
       "      <td>-7.916667</td>\n",
       "      <td>7.916667</td>\n",
       "      <td>-1.0</td>\n",
       "      <td>0</td>\n",
       "    </tr>\n",
       "    <tr>\n",
       "      <th>569</th>\n",
       "      <td>1.271648</td>\n",
       "      <td>4.013333</td>\n",
       "      <td>1.919388</td>\n",
       "      <td>1.928490</td>\n",
       "      <td>213.083333</td>\n",
       "      <td>-8.250000</td>\n",
       "      <td>8.250000</td>\n",
       "      <td>-7.0</td>\n",
       "      <td>0</td>\n",
       "    </tr>\n",
       "    <tr>\n",
       "      <th>625</th>\n",
       "      <td>1.255423</td>\n",
       "      <td>4.176667</td>\n",
       "      <td>1.921602</td>\n",
       "      <td>1.926327</td>\n",
       "      <td>205.750000</td>\n",
       "      <td>-8.250000</td>\n",
       "      <td>8.250000</td>\n",
       "      <td>-4.0</td>\n",
       "      <td>0</td>\n",
       "    </tr>\n",
       "  </tbody>\n",
       "</table>\n",
       "</div>"
      ],
      "text/plain": [
       "      home_ml   away_ml      over     under      spread  home_spread  \\\n",
       "453  1.267079  4.060000  1.913966  1.933818  208.833333    -7.833333   \n",
       "477  1.238188  4.363333  1.930851  1.917049  220.000000    -8.833333   \n",
       "525  1.269202  4.035000  1.924870  1.923521  217.166667    -7.916667   \n",
       "569  1.271648  4.013333  1.919388  1.928490  213.083333    -8.250000   \n",
       "625  1.255423  4.176667  1.921602  1.926327  205.750000    -8.250000   \n",
       "\n",
       "     away_spread  movl  h_win  \n",
       "453     7.833333 -19.0      0  \n",
       "477     8.833333  -9.0      0  \n",
       "525     7.916667  -1.0      0  \n",
       "569     8.250000  -7.0      0  \n",
       "625     8.250000  -4.0      0  "
      ]
     },
     "execution_count": 48,
     "metadata": {},
     "output_type": "execute_result"
    },
    {
     "name": "stdout",
     "output_type": "stream",
     "text": [
      "time: 7.29 ms (started: 2023-02-07 16:53:55 -05:00)\n"
     ]
    }
   ],
   "source": [
    "massive_underdog_winners.head()"
   ]
  },
  {
   "cell_type": "code",
   "execution_count": 7,
   "id": "569b28ae-d979-4ae5-8ce1-2c10626c9fe1",
   "metadata": {},
   "outputs": [
    {
     "name": "stdout",
     "output_type": "stream",
     "text": [
      "time: 947 µs (started: 2023-02-09 12:31:05 -05:00)\n"
     ]
    }
   ],
   "source": [
    "# bet on underdogs\n",
    "def bet_underdog(df):\n",
    "    balance = 0\n",
    "    for index, row in df.iterrows():\n",
    "        # away is underdog, we bet on away\n",
    "        if row['home_ml'] < row['away_ml']:\n",
    "            if row['h_win']:\n",
    "                balance -= 1/(row['away_ml']-1)\n",
    "                df.at[index, 'bet_won'] = 0\n",
    "                df.at[index, 'profit'] = 0\n",
    "            else:\n",
    "                balance += 1\n",
    "                df.at[index, 'bet_won'] = 1\n",
    "                df.at[index, 'profit'] = 1\n",
    "            df.at[index, 'bet_amount'] = 1/(row['home_ml']+1)\n",
    "        else:\n",
    "            if row['h_win']:\n",
    "                balance += 1\n",
    "                df.at[index, 'bet_won'] = 1\n",
    "                df.at[index, 'profit'] = 1\n",
    "            else:\n",
    "                balance -= 1/(row['home_ml']-1)\n",
    "                df.at[index, 'bet_won'] = 0\n",
    "                df.at[index, 'profit'] = 0\n",
    "            df.at[index, 'bet_amount'] = 1/(row['away_ml']+1)\n",
    "\n",
    "        df.at[index, 'balance'] = balance\n",
    "    return balance\n",
    "        \n"
   ]
  },
  {
   "cell_type": "code",
   "execution_count": 8,
   "id": "069506ef-cf05-4888-8428-8a8e625aad8c",
   "metadata": {},
   "outputs": [
    {
     "name": "stdout",
     "output_type": "stream",
     "text": [
      "time: 1.03 ms (started: 2023-02-09 12:31:06 -05:00)\n"
     ]
    }
   ],
   "source": [
    "# bet on favorites\n",
    "def bet_favorite(df):\n",
    "    balance = 0\n",
    "    for index, row in df.iterrows():\n",
    "        if row['home_ml'] > row['away_ml']:\n",
    "            if row['h_win']:\n",
    "                balance -= 1/(row['away_ml']-1)\n",
    "                df.at[index, 'bet_won'] = 0\n",
    "                df.at[index, 'profit'] = 0\n",
    "            else:\n",
    "                balance += 1\n",
    "                df.at[index, 'bet_won'] = 1\n",
    "                df.at[index, 'profit'] = 1\n",
    "            df.at[index, 'bet_amount'] = 1/(row['home_ml']+1)\n",
    "        else:\n",
    "            if row['h_win']:\n",
    "                balance += 1\n",
    "                df.at[index, 'bet_won'] = 1\n",
    "                df.at[index, 'profit'] = 1\n",
    "            else:\n",
    "                balance -= 1/(row['home_ml']-1)\n",
    "                df.at[index, 'bet_won'] = 0\n",
    "                df.at[index, 'profit'] = 0\n",
    "            df.at[index, 'bet_amount'] = 1/(row['away_ml']+1)\n",
    "\n",
    "        df.at[index, 'balance'] = balance\n",
    "    return balance"
   ]
  },
  {
   "cell_type": "code",
   "execution_count": 194,
   "id": "ab1556e8-7d95-44cc-ac1e-d6d9c780164e",
   "metadata": {},
   "outputs": [
    {
     "name": "stdout",
     "output_type": "stream",
     "text": [
      "time: 923 µs (started: 2023-02-09 21:15:14 -05:00)\n"
     ]
    }
   ],
   "source": [
    "def bet_mixed(df):\n",
    "    balance = 0\n",
    "    for index, row in df.iterrows():\n",
    "        underdog = False\n",
    "        bet_won = 0\n",
    "        profit = 0.0\n",
    "        factor = max(1, balance * 0.05)\n",
    "        factor = 100\n",
    "        if abs(row['home_ml'] - row['away_ml']) > 0.25:\n",
    "            # bet underdog\n",
    "            underdog = True\n",
    "        \n",
    "        if (row['home_ml'] > row['away_ml'] and underdog) or \\\n",
    "            (row['home_ml'] < row['away_ml'] and not underdog):\n",
    "            bet_amount = 1/(row['home_ml']-1)\n",
    "            if not underdog:\n",
    "                bet_amount *= factor\n",
    "            if row['h_win']:\n",
    "                profit = bet_amount * (row['home_ml']-1) \n",
    "                bet_won = 1\n",
    "                balance += profit + bet_amount\n",
    "        else:\n",
    "            bet_amount = 1/(row['away_ml']-1)\n",
    "            if not underdog:\n",
    "                bet_amount *= factor\n",
    "            if not row['h_win']:\n",
    "                profit = bet_amount * (row['away_ml']-1)\n",
    "                bet_won = 1\n",
    "                balance += profit + bet_amount\n",
    "        \n",
    "        balance -= bet_amount\n",
    "        df.at[index, 'profit'] = profit\n",
    "        df.at[index, 'bet_won'] = bet_won\n",
    "        df.at[index, 'bet_amount'] = bet_amount\n",
    "        df.at[index, 'balance'] = balance\n",
    "    return balance"
   ]
  },
  {
   "cell_type": "code",
   "execution_count": 185,
   "id": "9e00ab73-7964-4942-b477-4e5e3016d3b7",
   "metadata": {},
   "outputs": [
    {
     "name": "stdout",
     "output_type": "stream",
     "text": [
      "time: 651 µs (started: 2023-02-09 21:09:54 -05:00)\n"
     ]
    }
   ],
   "source": [
    "def profit(df):\n",
    "    profit = 0\n",
    "    for index, row in df.iterrows():\n",
    "        if row['home_ml'] < row['away_ml']:\n",
    "            if row['h_win']:\n",
    "                profit -= row['away_ml']\n",
    "            else:\n",
    "                profit += row['home_ml']\n",
    "        else:\n",
    "            if row['h_win']:\n",
    "                profit += row['away_ml']\n",
    "            else:\n",
    "                profit -= row['home_ml']\n",
    "        df.at[index, 'profit'] = profit\n",
    "    return profit"
   ]
  },
  {
   "cell_type": "code",
   "execution_count": 195,
   "id": "b9f3dac6-c2a0-4dad-8395-1ee178a2144a",
   "metadata": {},
   "outputs": [
    {
     "name": "stdout",
     "output_type": "stream",
     "text": [
      "profit over 9390 games if only betting underdogs: -149.57248714143967\n",
      "profit over 9390 games if only betting favorites: -784.8570441917573\n",
      "profit over 9390 games: 1987.3691969571812\n",
      "time: 2.7 s (started: 2023-02-09 21:15:19 -05:00)\n"
     ]
    }
   ],
   "source": [
    "# Games with odds \n",
    "o = 0\n",
    "interval = 5\n",
    "\n",
    "evenly_matched_games = df[ ((df.home_ml > df.away_ml) & (df.home_ml < (o+interval))) | \n",
    "                           ((df.away_ml > df.home_ml) & (df.away_ml < (o+interval))) ]\n",
    "evenly_matched_games = evenly_matched_games[ (df.home_ml > 1.2) & (df.away_ml > 1.2)]\n",
    "#& (df.playoff_game == 1)\n",
    "print(f'profit over {len(evenly_matched_games)} games if only betting underdogs: {bet_underdog(evenly_matched_games)}')\n",
    "print(f'profit over {len(evenly_matched_games)} games if only betting favorites: {bet_favorite(evenly_matched_games)}')\n",
    "print(f'profit over {len(evenly_matched_games)} games: {bet_mixed(evenly_matched_games)}')\n"
   ]
  },
  {
   "cell_type": "code",
   "execution_count": 200,
   "id": "bbe9fdc8-d468-4fe5-b99c-3a27fe2df97e",
   "metadata": {},
   "outputs": [
    {
     "data": {
      "text/plain": [
       "<AxesSubplot: >"
      ]
     },
     "execution_count": 200,
     "metadata": {},
     "output_type": "execute_result"
    },
    {
     "data": {
      "image/png": "[encoded data removed]",
      "text/plain": [
       "<Figure size 640x480 with 1 Axes>"
      ]
     },
     "metadata": {},
     "output_type": "display_data"
    },
    {
     "name": "stdout",
     "output_type": "stream",
     "text": [
      "time: 73.4 ms (started: 2023-02-09 21:16:33 -05:00)\n"
     ]
    }
   ],
   "source": [
    "evenly_matched_games['balance'].plot()"
   ]
  },
  {
   "cell_type": "code",
   "execution_count": 198,
   "id": "f541ca9f-3ba1-4ea1-bb7b-01b1f10ac9bb",
   "metadata": {},
   "outputs": [
    {
     "data": {
      "text/html": [
       "<div>\n",
       "<style scoped>\n",
       "    .dataframe tbody tr th:only-of-type {\n",
       "        vertical-align: middle;\n",
       "    }\n",
       "\n",
       "    .dataframe tbody tr th {\n",
       "        vertical-align: top;\n",
       "    }\n",
       "\n",
       "    .dataframe thead th {\n",
       "        text-align: right;\n",
       "    }\n",
       "</style>\n",
       "<table border=\"1\" class=\"dataframe\">\n",
       "  <thead>\n",
       "    <tr style=\"text-align: right;\">\n",
       "      <th></th>\n",
       "      <th>home_ml</th>\n",
       "      <th>away_ml</th>\n",
       "      <th>over</th>\n",
       "      <th>under</th>\n",
       "      <th>spread</th>\n",
       "      <th>home_spread</th>\n",
       "      <th>home_ps_odds</th>\n",
       "      <th>away_spread</th>\n",
       "      <th>away_ps_odds</th>\n",
       "      <th>movl</th>\n",
       "      <th>...</th>\n",
       "      <th>playoff_game</th>\n",
       "      <th>past_3_home_favorite_wins</th>\n",
       "      <th>past_3_away_favorite_wins</th>\n",
       "      <th>season</th>\n",
       "      <th>vig</th>\n",
       "      <th>home_win</th>\n",
       "      <th>bet_won</th>\n",
       "      <th>profit</th>\n",
       "      <th>bet_amount</th>\n",
       "      <th>balance</th>\n",
       "    </tr>\n",
       "  </thead>\n",
       "  <tbody>\n",
       "    <tr>\n",
       "      <th>1</th>\n",
       "      <td>1.456783</td>\n",
       "      <td>2.830000</td>\n",
       "      <td>1.919388</td>\n",
       "      <td>1.913339</td>\n",
       "      <td>188.583333</td>\n",
       "      <td>-5.000000</td>\n",
       "      <td>1.914808</td>\n",
       "      <td>5.000000</td>\n",
       "      <td>1.917832</td>\n",
       "      <td>12.0</td>\n",
       "      <td>...</td>\n",
       "      <td>0.0</td>\n",
       "      <td>NaN</td>\n",
       "      <td>NaN</td>\n",
       "      <td>2014</td>\n",
       "      <td>1.039801</td>\n",
       "      <td>1</td>\n",
       "      <td>0.0</td>\n",
       "      <td>0.0</td>\n",
       "      <td>0.546448</td>\n",
       "      <td>-0.546448</td>\n",
       "    </tr>\n",
       "    <tr>\n",
       "      <th>5</th>\n",
       "      <td>2.841667</td>\n",
       "      <td>1.463867</td>\n",
       "      <td>1.941755</td>\n",
       "      <td>1.906751</td>\n",
       "      <td>197.500000</td>\n",
       "      <td>5.333333</td>\n",
       "      <td>1.945887</td>\n",
       "      <td>-5.333333</td>\n",
       "      <td>1.903131</td>\n",
       "      <td>13.0</td>\n",
       "      <td>...</td>\n",
       "      <td>0.0</td>\n",
       "      <td>NaN</td>\n",
       "      <td>NaN</td>\n",
       "      <td>2014</td>\n",
       "      <td>1.035028</td>\n",
       "      <td>1</td>\n",
       "      <td>1.0</td>\n",
       "      <td>1.0</td>\n",
       "      <td>0.542986</td>\n",
       "      <td>0.453552</td>\n",
       "    </tr>\n",
       "    <tr>\n",
       "      <th>6</th>\n",
       "      <td>1.265692</td>\n",
       "      <td>4.065000</td>\n",
       "      <td>1.923521</td>\n",
       "      <td>1.923521</td>\n",
       "      <td>189.750000</td>\n",
       "      <td>-8.000000</td>\n",
       "      <td>1.923550</td>\n",
       "      <td>8.000000</td>\n",
       "      <td>1.923550</td>\n",
       "      <td>6.0</td>\n",
       "      <td>...</td>\n",
       "      <td>0.0</td>\n",
       "      <td>NaN</td>\n",
       "      <td>NaN</td>\n",
       "      <td>2014</td>\n",
       "      <td>1.036084</td>\n",
       "      <td>1</td>\n",
       "      <td>0.0</td>\n",
       "      <td>0.0</td>\n",
       "      <td>0.326264</td>\n",
       "      <td>0.127288</td>\n",
       "    </tr>\n",
       "    <tr>\n",
       "      <th>8</th>\n",
       "      <td>1.839712</td>\n",
       "      <td>2.030000</td>\n",
       "      <td>1.915606</td>\n",
       "      <td>1.932438</td>\n",
       "      <td>187.500000</td>\n",
       "      <td>-1.333333</td>\n",
       "      <td>1.936900</td>\n",
       "      <td>1.333333</td>\n",
       "      <td>1.910999</td>\n",
       "      <td>-5.0</td>\n",
       "      <td>...</td>\n",
       "      <td>0.0</td>\n",
       "      <td>NaN</td>\n",
       "      <td>NaN</td>\n",
       "      <td>2014</td>\n",
       "      <td>1.036174</td>\n",
       "      <td>0</td>\n",
       "      <td>0.0</td>\n",
       "      <td>0.0</td>\n",
       "      <td>119.088436</td>\n",
       "      <td>-118.961148</td>\n",
       "    </tr>\n",
       "    <tr>\n",
       "      <th>9</th>\n",
       "      <td>2.381667</td>\n",
       "      <td>1.640594</td>\n",
       "      <td>1.917696</td>\n",
       "      <td>1.929807</td>\n",
       "      <td>194.000000</td>\n",
       "      <td>3.250000</td>\n",
       "      <td>1.922708</td>\n",
       "      <td>-3.250000</td>\n",
       "      <td>1.925733</td>\n",
       "      <td>4.0</td>\n",
       "      <td>...</td>\n",
       "      <td>0.0</td>\n",
       "      <td>NaN</td>\n",
       "      <td>NaN</td>\n",
       "      <td>2014</td>\n",
       "      <td>1.029409</td>\n",
       "      <td>1</td>\n",
       "      <td>1.0</td>\n",
       "      <td>1.0</td>\n",
       "      <td>0.723764</td>\n",
       "      <td>-117.961148</td>\n",
       "    </tr>\n",
       "    <tr>\n",
       "      <th>...</th>\n",
       "      <td>...</td>\n",
       "      <td>...</td>\n",
       "      <td>...</td>\n",
       "      <td>...</td>\n",
       "      <td>...</td>\n",
       "      <td>...</td>\n",
       "      <td>...</td>\n",
       "      <td>...</td>\n",
       "      <td>...</td>\n",
       "      <td>...</td>\n",
       "      <td>...</td>\n",
       "      <td>...</td>\n",
       "      <td>...</td>\n",
       "      <td>...</td>\n",
       "      <td>...</td>\n",
       "      <td>...</td>\n",
       "      <td>...</td>\n",
       "      <td>...</td>\n",
       "      <td>...</td>\n",
       "      <td>...</td>\n",
       "      <td>...</td>\n",
       "    </tr>\n",
       "    <tr>\n",
       "      <th>116</th>\n",
       "      <td>3.106667</td>\n",
       "      <td>1.403395</td>\n",
       "      <td>1.920554</td>\n",
       "      <td>1.926603</td>\n",
       "      <td>207.666667</td>\n",
       "      <td>6.500000</td>\n",
       "      <td>1.916145</td>\n",
       "      <td>-6.500000</td>\n",
       "      <td>1.931272</td>\n",
       "      <td>6.0</td>\n",
       "      <td>...</td>\n",
       "      <td>0.0</td>\n",
       "      <td>0.000000</td>\n",
       "      <td>0.333333</td>\n",
       "      <td>2014</td>\n",
       "      <td>1.034446</td>\n",
       "      <td>1</td>\n",
       "      <td>1.0</td>\n",
       "      <td>1.0</td>\n",
       "      <td>0.474684</td>\n",
       "      <td>-54.093412</td>\n",
       "    </tr>\n",
       "    <tr>\n",
       "      <th>117</th>\n",
       "      <td>1.451278</td>\n",
       "      <td>2.890000</td>\n",
       "      <td>1.923521</td>\n",
       "      <td>1.923521</td>\n",
       "      <td>191.916667</td>\n",
       "      <td>-5.500000</td>\n",
       "      <td>1.909557</td>\n",
       "      <td>5.500000</td>\n",
       "      <td>1.938487</td>\n",
       "      <td>-6.0</td>\n",
       "      <td>...</td>\n",
       "      <td>0.0</td>\n",
       "      <td>0.333333</td>\n",
       "      <td>0.000000</td>\n",
       "      <td>2014</td>\n",
       "      <td>1.035068</td>\n",
       "      <td>0</td>\n",
       "      <td>1.0</td>\n",
       "      <td>1.0</td>\n",
       "      <td>0.529101</td>\n",
       "      <td>-53.093412</td>\n",
       "    </tr>\n",
       "    <tr>\n",
       "      <th>118</th>\n",
       "      <td>1.563279</td>\n",
       "      <td>2.580000</td>\n",
       "      <td>1.923521</td>\n",
       "      <td>1.923521</td>\n",
       "      <td>201.583333</td>\n",
       "      <td>-4.166667</td>\n",
       "      <td>1.930851</td>\n",
       "      <td>4.166667</td>\n",
       "      <td>1.917049</td>\n",
       "      <td>-4.0</td>\n",
       "      <td>...</td>\n",
       "      <td>0.0</td>\n",
       "      <td>0.666667</td>\n",
       "      <td>0.333333</td>\n",
       "      <td>2014</td>\n",
       "      <td>1.027278</td>\n",
       "      <td>0</td>\n",
       "      <td>1.0</td>\n",
       "      <td>1.0</td>\n",
       "      <td>0.632911</td>\n",
       "      <td>-52.093412</td>\n",
       "    </tr>\n",
       "    <tr>\n",
       "      <th>120</th>\n",
       "      <td>1.206731</td>\n",
       "      <td>4.942500</td>\n",
       "      <td>1.916306</td>\n",
       "      <td>1.931457</td>\n",
       "      <td>208.083333</td>\n",
       "      <td>-9.500000</td>\n",
       "      <td>1.926327</td>\n",
       "      <td>9.500000</td>\n",
       "      <td>1.921602</td>\n",
       "      <td>12.0</td>\n",
       "      <td>...</td>\n",
       "      <td>0.0</td>\n",
       "      <td>0.666667</td>\n",
       "      <td>0.000000</td>\n",
       "      <td>2014</td>\n",
       "      <td>1.031012</td>\n",
       "      <td>1</td>\n",
       "      <td>0.0</td>\n",
       "      <td>0.0</td>\n",
       "      <td>0.253646</td>\n",
       "      <td>-52.347058</td>\n",
       "    </tr>\n",
       "    <tr>\n",
       "      <th>121</th>\n",
       "      <td>2.254000</td>\n",
       "      <td>1.704434</td>\n",
       "      <td>1.911027</td>\n",
       "      <td>1.936931</td>\n",
       "      <td>191.333333</td>\n",
       "      <td>2.500000</td>\n",
       "      <td>1.938487</td>\n",
       "      <td>-2.500000</td>\n",
       "      <td>1.909557</td>\n",
       "      <td>6.0</td>\n",
       "      <td>...</td>\n",
       "      <td>0.0</td>\n",
       "      <td>0.000000</td>\n",
       "      <td>0.333333</td>\n",
       "      <td>2014</td>\n",
       "      <td>1.030361</td>\n",
       "      <td>1</td>\n",
       "      <td>1.0</td>\n",
       "      <td>1.0</td>\n",
       "      <td>0.797448</td>\n",
       "      <td>-51.347058</td>\n",
       "    </tr>\n",
       "  </tbody>\n",
       "</table>\n",
       "<p>100 rows × 21 columns</p>\n",
       "</div>"
      ],
      "text/plain": [
       "      home_ml   away_ml      over     under      spread  home_spread  \\\n",
       "1    1.456783  2.830000  1.919388  1.913339  188.583333    -5.000000   \n",
       "5    2.841667  1.463867  1.941755  1.906751  197.500000     5.333333   \n",
       "6    1.265692  4.065000  1.923521  1.923521  189.750000    -8.000000   \n",
       "8    1.839712  2.030000  1.915606  1.932438  187.500000    -1.333333   \n",
       "9    2.381667  1.640594  1.917696  1.929807  194.000000     3.250000   \n",
       "..        ...       ...       ...       ...         ...          ...   \n",
       "116  3.106667  1.403395  1.920554  1.926603  207.666667     6.500000   \n",
       "117  1.451278  2.890000  1.923521  1.923521  191.916667    -5.500000   \n",
       "118  1.563279  2.580000  1.923521  1.923521  201.583333    -4.166667   \n",
       "120  1.206731  4.942500  1.916306  1.931457  208.083333    -9.500000   \n",
       "121  2.254000  1.704434  1.911027  1.936931  191.333333     2.500000   \n",
       "\n",
       "     home_ps_odds  away_spread  away_ps_odds  movl  ...  playoff_game  \\\n",
       "1        1.914808     5.000000      1.917832  12.0  ...           0.0   \n",
       "5        1.945887    -5.333333      1.903131  13.0  ...           0.0   \n",
       "6        1.923550     8.000000      1.923550   6.0  ...           0.0   \n",
       "8        1.936900     1.333333      1.910999  -5.0  ...           0.0   \n",
       "9        1.922708    -3.250000      1.925733   4.0  ...           0.0   \n",
       "..            ...          ...           ...   ...  ...           ...   \n",
       "116      1.916145    -6.500000      1.931272   6.0  ...           0.0   \n",
       "117      1.909557     5.500000      1.938487  -6.0  ...           0.0   \n",
       "118      1.930851     4.166667      1.917049  -4.0  ...           0.0   \n",
       "120      1.926327     9.500000      1.921602  12.0  ...           0.0   \n",
       "121      1.938487    -2.500000      1.909557   6.0  ...           0.0   \n",
       "\n",
       "     past_3_home_favorite_wins  past_3_away_favorite_wins  season       vig  \\\n",
       "1                          NaN                        NaN    2014  1.039801   \n",
       "5                          NaN                        NaN    2014  1.035028   \n",
       "6                          NaN                        NaN    2014  1.036084   \n",
       "8                          NaN                        NaN    2014  1.036174   \n",
       "9                          NaN                        NaN    2014  1.029409   \n",
       "..                         ...                        ...     ...       ...   \n",
       "116                   0.000000                   0.333333    2014  1.034446   \n",
       "117                   0.333333                   0.000000    2014  1.035068   \n",
       "118                   0.666667                   0.333333    2014  1.027278   \n",
       "120                   0.666667                   0.000000    2014  1.031012   \n",
       "121                   0.000000                   0.333333    2014  1.030361   \n",
       "\n",
       "     home_win  bet_won  profit  bet_amount     balance  \n",
       "1           1      0.0     0.0    0.546448   -0.546448  \n",
       "5           1      1.0     1.0    0.542986    0.453552  \n",
       "6           1      0.0     0.0    0.326264    0.127288  \n",
       "8           0      0.0     0.0  119.088436 -118.961148  \n",
       "9           1      1.0     1.0    0.723764 -117.961148  \n",
       "..        ...      ...     ...         ...         ...  \n",
       "116         1      1.0     1.0    0.474684  -54.093412  \n",
       "117         0      1.0     1.0    0.529101  -53.093412  \n",
       "118         0      1.0     1.0    0.632911  -52.093412  \n",
       "120         1      0.0     0.0    0.253646  -52.347058  \n",
       "121         1      1.0     1.0    0.797448  -51.347058  \n",
       "\n",
       "[100 rows x 21 columns]"
      ]
     },
     "execution_count": 198,
     "metadata": {},
     "output_type": "execute_result"
    },
    {
     "name": "stdout",
     "output_type": "stream",
     "text": [
      "time: 11.3 ms (started: 2023-02-09 21:15:33 -05:00)\n"
     ]
    }
   ],
   "source": [
    "evenly_matched_games.head(100)\n",
    "#sum(evenly_matched_games['bet_won']==1)/len(evenly_matched_games)"
   ]
  },
  {
   "cell_type": "code",
   "execution_count": 102,
   "id": "083078e0-15ae-4f59-962b-70286bdce399",
   "metadata": {},
   "outputs": [
    {
     "data": {
      "text/plain": [
       "6597"
      ]
     },
     "execution_count": 102,
     "metadata": {},
     "output_type": "execute_result"
    },
    {
     "name": "stdout",
     "output_type": "stream",
     "text": [
      "time: 2.18 ms (started: 2023-02-08 01:54:26 -05:00)\n"
     ]
    }
   ],
   "source": [
    "evenly_matched_games.head()\n"
   ]
  },
  {
   "cell_type": "code",
   "execution_count": 1,
   "id": "3f57af74-f483-4709-ba73-545f4b935ad9",
   "metadata": {},
   "outputs": [
    {
     "ename": "NameError",
     "evalue": "name 'evenly_matched_games' is not defined",
     "output_type": "error",
     "traceback": [
      "\u001b[0;31m---------------------------------------------------------------------------\u001b[0m",
      "\u001b[0;31mNameError\u001b[0m                                 Traceback (most recent call last)",
      "Cell \u001b[0;32mIn[1], line 2\u001b[0m\n\u001b[1;32m      1\u001b[0m \u001b[38;5;66;03m# ROI\u001b[39;00m\n\u001b[0;32m----> 2\u001b[0m cost \u001b[38;5;241m=\u001b[39m \u001b[38;5;28msum\u001b[39m(\u001b[43mevenly_matched_games\u001b[49m[\u001b[38;5;124m'\u001b[39m\u001b[38;5;124mbet_amount\u001b[39m\u001b[38;5;124m'\u001b[39m])\n\u001b[1;32m      3\u001b[0m profit \u001b[38;5;241m=\u001b[39m \u001b[38;5;28msum\u001b[39m(evenly_matched_games[\u001b[38;5;124m'\u001b[39m\u001b[38;5;124mprofit\u001b[39m\u001b[38;5;124m'\u001b[39m])\n\u001b[1;32m      4\u001b[0m profit\u001b[38;5;241m/\u001b[39mcost\n",
      "\u001b[0;31mNameError\u001b[0m: name 'evenly_matched_games' is not defined"
     ]
    }
   ],
   "source": [
    "# ROI\n",
    "cost = sum(evenly_matched_games['bet_amount'])\n",
    "profit = sum(evenly_matched_games['profit'])\n",
    "profit/cost"
   ]
  },
  {
   "cell_type": "code",
   "execution_count": 283,
   "id": "5d205eed-54ec-45e8-88cb-7aacb1d7fcec",
   "metadata": {},
   "outputs": [
    {
     "name": "stdout",
     "output_type": "stream",
     "text": [
      "profit over 9390 games: 9.651821805075432\n"
     ]
    },
    {
     "data": {
      "text/plain": [
       "<AxesSubplot: >"
      ]
     },
     "execution_count": 283,
     "metadata": {},
     "output_type": "execute_result"
    },
    {
     "data": {
      "image/png": "[encoded data removed]",
      "text/plain": [
       "<Figure size 640x480 with 1 Axes>"
      ]
     },
     "metadata": {},
     "output_type": "display_data"
    },
    {
     "name": "stdout",
     "output_type": "stream",
     "text": [
      "time: 1.1 s (started: 2023-02-08 18:31:26 -05:00)\n"
     ]
    }
   ],
   "source": [
    "print(f'profit over {len(evenly_matched_games)} games: {bet_mixed(evenly_matched_games)}')\n",
    "evenly_matched_games['balance'].plot()"
   ]
  },
  {
   "cell_type": "code",
   "execution_count": 61,
   "id": "89ef2fc6-e3f4-4bfd-af3a-67ce5949af18",
   "metadata": {},
   "outputs": [
    {
     "name": "stdout",
     "output_type": "stream",
     "text": [
      "number of underdogs with p(win) = 0.6097560975609756: 3653\n",
      "number of underdog winners with p(win) = 0.6097560975609756: 1628\n",
      "win ratio 0.44566110046537094\n",
      "time: 3.75 ms (started: 2023-02-07 19:27:53 -05:00)\n"
     ]
    }
   ],
   "source": [
    "odds = [1.64]\n",
    "interval = 0.85\n",
    "\n",
    "for o in odds:\n",
    "    massive_underdogs = df[ ((df.home_ml > o) & (df.home_ml < (o+interval))) | \n",
    "                           ((df.away_ml > o) & (df.away_ml < (o+interval))) ]\n",
    "    print(f'number of underdogs with p(win) = {1/o}: {len(massive_underdogs)}')\n",
    "    massive_underdog_winners = df[ (((df.h_win == 1) & (df.home_ml > df.away_ml)) |\n",
    "                              ((df.h_win == 0) & (df.away_ml > df.home_ml))) &\n",
    "                                  (((df.home_ml > o) & (df.home_ml < (o+interval))) | \n",
    "                                   ((df.away_ml > o) & (df.away_ml < (o+interval))))]\n",
    "    print(f'number of underdog winners with p(win) = {1/o}: {len(massive_underdog_winners)}')\n",
    "    print(f'win ratio {len(massive_underdog_winners)/len(massive_underdogs)}')"
   ]
  },
  {
   "cell_type": "code",
   "execution_count": 119,
   "id": "85f66489-1582-49e8-9a05-5525db7f31f7",
   "metadata": {},
   "outputs": [
    {
     "name": "stdout",
     "output_type": "stream",
     "text": [
      "profit over 11516 games: nan\n",
      "time: 469 ms (started: 2023-02-08 02:01:07 -05:00)\n"
     ]
    }
   ],
   "source": [
    "print(f'profit over {len(df)} games: {profit(df)}')\n"
   ]
  },
  {
   "cell_type": "code",
   "execution_count": 112,
   "id": "07465750-cfda-41ff-98f4-06083bc17071",
   "metadata": {},
   "outputs": [
    {
     "data": {
      "text/plain": [
       "count    11513.000000\n",
       "mean         3.221325\n",
       "std          2.638866\n",
       "min          1.017506\n",
       "25%          1.678534\n",
       "50%          2.407778\n",
       "75%          3.668889\n",
       "max         36.333333\n",
       "Name: away_ml, dtype: float64"
      ]
     },
     "execution_count": 112,
     "metadata": {},
     "output_type": "execute_result"
    },
    {
     "name": "stdout",
     "output_type": "stream",
     "text": [
      "time: 3.03 ms (started: 2023-02-08 01:58:36 -05:00)\n"
     ]
    }
   ],
   "source": [
    "df['away_ml'].describe()"
   ]
  },
  {
   "cell_type": "markdown",
   "id": "f724f424-4be2-4355-8844-c8b9063a2960",
   "metadata": {},
   "source": [
    "## Team Consistency"
   ]
  },
  {
   "cell_type": "code",
   "execution_count": null,
   "id": "e69c0378-9d82-464b-966b-e1278f349def",
   "metadata": {},
   "outputs": [],
   "source": [
    "def get_past_wins_as_favorite(team_id, prev_matches, i):\n",
    "    if len(prev_matches) < i: \n",
    "        return None\n",
    "    prev_matches['res'] =  prev_matches.apply(lambda x:\n",
    "                             1 if (x['home_id'] == team_id and x['favorite'] and x['favorite_won']) or \n",
    "                                      (x['away_id'] == team_id and not x['favorite'] and x['favorite_won'])        \n",
    "                             else 0, axis=1)\n",
    "    return prev_matches['res'].sum()/i    "
   ]
  },
  {
   "cell_type": "code",
   "execution_count": null,
   "id": "a50bbe29-7593-4fcf-9eb9-728f6ac2efd5",
   "metadata": {},
   "outputs": [],
   "source": [
    "# favorite = 1: home team is favorite.\n",
    "# favorite = 0: away team is favorite\n",
    "match_df['favorite'] = match_df['home_ml'] < match_df['away_ml']\n",
    "match_df['favorite_won'] = match_df.apply(lambda x: (x['favorite'] and x['h_win'] == 1) or\n",
    "                                          (not x['favorite'] and x['h_win'] == 0), axis=1)\n",
    "window_sizes = [2]\n",
    "\n",
    "for w in tqdm(window_sizes):\n",
    "    match_df[f'past_{w}_home_favorite_wins'] = match_df.apply(lambda x: \n",
    "                                    get_past_wins_as_favorite(x['home_id'], \n",
    "                                        get_prev_matches(x['date'], \n",
    "                                                         x['home_id'],\n",
    "                                                         match_df\n",
    "                                                        ).tail(w),\n",
    "                                                    w), axis=1)\n",
    "    match_df[f'past_{w}_away_favorite_wins'] = match_df.apply(lambda x: \n",
    "                                    get_past_wins_as_favorite(x['away_id'], \n",
    "                                        get_prev_matches(x['date'], \n",
    "                                                         x['away_id'],\n",
    "                                                         match_df\n",
    "                                                        ).tail(w),\n",
    "                                                    w), axis=1)"
   ]
  },
  {
   "cell_type": "code",
   "execution_count": null,
   "id": "f9cfbbd3-8f54-445b-917b-7d6a32a039f4",
   "metadata": {},
   "outputs": [],
   "source": []
  },
  {
   "cell_type": "code",
   "execution_count": null,
   "id": "664e24dd-2e7b-4805-9b42-2eb74d171c6a",
   "metadata": {},
   "outputs": [],
   "source": [
    "def get_recent_record(team_id, prev_matches, i):\n",
    "    if len(prev_matches) < i:\n",
    "        return None\n",
    "    prev_matches['res'] = prev_matches.apply(lambda x:\n",
    "                            1 if ((x['home_id'] == team_id and x['h_win']) or\n",
    "                                  (x['away_id'] == team_id and not x['h_win']))\n",
    "                            else 0, axis = 1)\n",
    "    return matches['res'].sum()/i"
   ]
  },
  {
   "cell_type": "markdown",
   "id": "c43157fa-5edd-4af9-8162-f0529bb22e8f",
   "metadata": {},
   "source": [
    "## Determining High spread / high o/u"
   ]
  },
  {
   "cell_type": "markdown",
   "id": "a30c4dc0-f4bc-4753-89c3-0a70b0705bfc",
   "metadata": {},
   "source": [
    "#### Spread distribution"
   ]
  },
  {
   "cell_type": "code",
   "execution_count": 31,
   "id": "abbe7e30-3270-439d-a524-d17e9bff1972",
   "metadata": {},
   "outputs": [
    {
     "data": {
      "text/plain": [
       "<AxesSubplot: ylabel='Frequency'>"
      ]
     },
     "execution_count": 31,
     "metadata": {},
     "output_type": "execute_result"
    },
    {
     "data": {
      "image/png": "[encoded data removed]",
      "text/plain": [
       "<Figure size 640x480 with 1 Axes>"
      ]
     },
     "metadata": {},
     "output_type": "display_data"
    },
    {
     "name": "stdout",
     "output_type": "stream",
     "text": [
      "time: 78.9 ms (started: 2023-02-09 12:57:25 -05:00)\n"
     ]
    }
   ],
   "source": [
    "df[(df.home_spread >= 1) | (df.home_spread <= -1)]['home_spread'].plot.hist(bins=35)"
   ]
  },
  {
   "cell_type": "code",
   "execution_count": 40,
   "id": "93d63c60-d0e9-4dc9-826a-9ce8e2859fc9",
   "metadata": {},
   "outputs": [
    {
     "name": "stdout",
     "output_type": "stream",
     "text": [
      "-2.5209003567586703\n",
      "-3.5\n",
      "time: 2.34 ms (started: 2023-02-09 12:59:21 -05:00)\n"
     ]
    }
   ],
   "source": [
    "print(df['home_spread'].mean())\n",
    "print(df['home_spread'].median())\n"
   ]
  },
  {
   "cell_type": "markdown",
   "id": "278cfaaa-5707-4f90-9d30-5bb097dc46fc",
   "metadata": {},
   "source": [
    "#### O/U distribution"
   ]
  },
  {
   "cell_type": "code",
   "execution_count": 52,
   "id": "a4bb5571-3496-4478-a97b-b4f907c91e4d",
   "metadata": {},
   "outputs": [
    {
     "data": {
      "text/plain": [
       "<AxesSubplot: ylabel='Frequency'>"
      ]
     },
     "execution_count": 52,
     "metadata": {},
     "output_type": "execute_result"
    },
    {
     "data": {
      "image/png": "[encoded data removed]",
      "text/plain": [
       "<Figure size 640x480 with 1 Axes>"
      ]
     },
     "metadata": {},
     "output_type": "display_data"
    },
    {
     "name": "stdout",
     "output_type": "stream",
     "text": [
      "time: 86.1 ms (started: 2023-02-09 13:31:24 -05:00)\n"
     ]
    }
   ],
   "source": [
    "df['spread'].plot.hist(bins=30)"
   ]
  },
  {
   "cell_type": "code",
   "execution_count": 60,
   "id": "2293eb4b-d590-4351-b379-886d1f8b89d3",
   "metadata": {},
   "outputs": [
    {
     "data": {
      "text/plain": [
       "<AxesSubplot: ylabel='Frequency'>"
      ]
     },
     "execution_count": 60,
     "metadata": {},
     "output_type": "execute_result"
    },
    {
     "data": {
      "image/png": "[encoded data removed]",
      "text/plain": [
       "<Figure size 640x480 with 1 Axes>"
      ]
     },
     "metadata": {},
     "output_type": "display_data"
    },
    {
     "name": "stdout",
     "output_type": "stream",
     "text": [
      "time: 80.2 ms (started: 2023-02-09 15:02:54 -05:00)\n"
     ]
    }
   ],
   "source": [
    "df[(df.season>2021)]['spread'].plot.hist(bins=25)"
   ]
  },
  {
   "cell_type": "code",
   "execution_count": 58,
   "id": "d898953f-ac8c-475f-9caa-68a7432c979c",
   "metadata": {},
   "outputs": [
    {
     "name": "stdout",
     "output_type": "stream",
     "text": [
      "212.5932862719918\n",
      "213.11111111111111\n",
      "219.9095751204456\n",
      "219.88888888888889\n",
      "221.9366188536606\n",
      "221.72222222222223\n",
      "222.10787604391433\n",
      "221.83333333333331\n",
      "222.0887602878103\n",
      "221.875\n",
      "220.61858447156567\n",
      "220.38888888888889\n",
      "time: 8.64 ms (started: 2023-02-09 15:02:19 -05:00)\n"
     ]
    }
   ],
   "source": [
    "print(df['spread'].mean())\n",
    "print(df['spread'].median())\n",
    "for i in range(2017,2022):\n",
    "    print(df[(df.season>i)]['spread'].mean())\n",
    "    print(df[(df.season>i)]['spread'].median())\n",
    "# we have to use previous seasons median spread"
   ]
  },
  {
   "cell_type": "code",
   "execution_count": 44,
   "id": "695faf79-9fcb-415f-8c44-e7b7375dc2cd",
   "metadata": {},
   "outputs": [
    {
     "name": "stdout",
     "output_type": "stream",
     "text": [
      "2.0377396410893054\n",
      "1.627538349893358\n",
      "3.221325154613915\n",
      "2.407777812745836\n",
      "1.9194531275257436\n",
      "1.9191711876127453\n",
      "time: 4.23 ms (started: 2023-02-09 13:01:28 -05:00)\n"
     ]
    }
   ],
   "source": [
    "print(df['home_ml'].mean())\n",
    "print(df['home_ml'].median())\n",
    "print(df['away_ml'].mean())\n",
    "print(df['away_ml'].median())\n",
    "print(df['home_ps_odds'].mean())\n",
    "print(df['home_ps_odds'].median())\n",
    "\n",
    "\n"
   ]
  },
  {
   "cell_type": "markdown",
   "id": "1cbbb28f-46e2-479d-adca-5e9d350ba1ae",
   "metadata": {},
   "source": [
    "## Accuracy of Book Makers"
   ]
  },
  {
   "cell_type": "code",
   "execution_count": 63,
   "id": "4a6e9c7d-b4ca-4484-9443-2e40e4b7a9d3",
   "metadata": {},
   "outputs": [
    {
     "data": {
      "text/plain": [
       "0.6675831729447347"
      ]
     },
     "execution_count": 63,
     "metadata": {},
     "output_type": "execute_result"
    },
    {
     "name": "stdout",
     "output_type": "stream",
     "text": [
      "time: 89.6 ms (started: 2023-02-09 17:29:49 -05:00)\n"
     ]
    }
   ],
   "source": [
    "df['ml_pred'] = df.apply(lambda x: \n",
    "    1 if x['home_ml'] < x['away_ml'] else 0, axis = 1)\n",
    "\n",
    "df['ml_correct_pred'] = df.apply(lambda x: \n",
    "    1 if x['h_win'] == x['ml_pred'] else 0, axis = 1)\n",
    "\n",
    "test = df[df.season >= 2020]\n",
    "\n",
    "acc = test['ml_correct_pred'].sum()/len(test.index)\n",
    "acc"
   ]
  },
  {
   "cell_type": "markdown",
   "id": "828e9b27-77f8-46d4-988a-a0154f9487dd",
   "metadata": {},
   "source": [
    "## Advanced Strategies"
   ]
  },
  {
   "cell_type": "markdown",
   "id": "f3f8e53d-7eae-4741-9edf-e6b947e13ebe",
   "metadata": {},
   "source": [
    "Predict probabilities using logistic regression\n",
    "Use the difference in edge to make a kelly sized bet\n"
   ]
  },
  {
   "cell_type": "code",
   "execution_count": 159,
   "id": "96c7e242-d381-4d62-bebc-3e80cc0e4f44",
   "metadata": {},
   "outputs": [
    {
     "name": "stdout",
     "output_type": "stream",
     "text": [
      "3637\n",
      "Accuracy: 0.6681330767115755\n"
     ]
    },
    {
     "data": {
      "text/html": [
       "<div>\n",
       "<style scoped>\n",
       "    .dataframe tbody tr th:only-of-type {\n",
       "        vertical-align: middle;\n",
       "    }\n",
       "\n",
       "    .dataframe tbody tr th {\n",
       "        vertical-align: top;\n",
       "    }\n",
       "\n",
       "    .dataframe thead th {\n",
       "        text-align: right;\n",
       "    }\n",
       "</style>\n",
       "<table border=\"1\" class=\"dataframe\">\n",
       "  <thead>\n",
       "    <tr style=\"text-align: right;\">\n",
       "      <th></th>\n",
       "      <th>home_ml</th>\n",
       "      <th>away_ml</th>\n",
       "      <th>over</th>\n",
       "      <th>under</th>\n",
       "      <th>spread</th>\n",
       "      <th>home_spread</th>\n",
       "      <th>home_ps_odds</th>\n",
       "      <th>away_spread</th>\n",
       "      <th>away_ps_odds</th>\n",
       "      <th>movl</th>\n",
       "      <th>...</th>\n",
       "      <th>past_3_home_favorite_wins</th>\n",
       "      <th>past_3_away_favorite_wins</th>\n",
       "      <th>season</th>\n",
       "      <th>vig</th>\n",
       "      <th>home_win</th>\n",
       "      <th>lr_home_proba</th>\n",
       "      <th>home_implied</th>\n",
       "      <th>away_implied</th>\n",
       "      <th>lr_predict_home</th>\n",
       "      <th>correct_pred</th>\n",
       "    </tr>\n",
       "  </thead>\n",
       "  <tbody>\n",
       "    <tr>\n",
       "      <th>7879</th>\n",
       "      <td>2.493333</td>\n",
       "      <td>1.589445</td>\n",
       "      <td>1.919855</td>\n",
       "      <td>1.920983</td>\n",
       "      <td>224.055556</td>\n",
       "      <td>3.666667</td>\n",
       "      <td>1.941213</td>\n",
       "      <td>-3.666667</td>\n",
       "      <td>1.901385</td>\n",
       "      <td>10.0</td>\n",
       "      <td>...</td>\n",
       "      <td>0.000000</td>\n",
       "      <td>0.0</td>\n",
       "      <td>2020</td>\n",
       "      <td>1.030220</td>\n",
       "      <td>1</td>\n",
       "      <td>0.375355</td>\n",
       "      <td>0.401070</td>\n",
       "      <td>0.629151</td>\n",
       "      <td>0</td>\n",
       "      <td>0</td>\n",
       "    </tr>\n",
       "    <tr>\n",
       "      <th>7880</th>\n",
       "      <td>1.354878</td>\n",
       "      <td>3.374444</td>\n",
       "      <td>1.918227</td>\n",
       "      <td>1.922269</td>\n",
       "      <td>229.222222</td>\n",
       "      <td>-6.722222</td>\n",
       "      <td>1.926456</td>\n",
       "      <td>6.722222</td>\n",
       "      <td>1.913742</td>\n",
       "      <td>8.0</td>\n",
       "      <td>...</td>\n",
       "      <td>0.333333</td>\n",
       "      <td>0.0</td>\n",
       "      <td>2020</td>\n",
       "      <td>1.034419</td>\n",
       "      <td>1</td>\n",
       "      <td>0.724830</td>\n",
       "      <td>0.738074</td>\n",
       "      <td>0.296345</td>\n",
       "      <td>1</td>\n",
       "      <td>1</td>\n",
       "    </tr>\n",
       "    <tr>\n",
       "      <th>7881</th>\n",
       "      <td>2.424444</td>\n",
       "      <td>1.617489</td>\n",
       "      <td>1.910436</td>\n",
       "      <td>1.929373</td>\n",
       "      <td>216.666667</td>\n",
       "      <td>3.555556</td>\n",
       "      <td>1.932851</td>\n",
       "      <td>-3.555556</td>\n",
       "      <td>1.909180</td>\n",
       "      <td>1.0</td>\n",
       "      <td>...</td>\n",
       "      <td>0.333333</td>\n",
       "      <td>0.0</td>\n",
       "      <td>2020</td>\n",
       "      <td>1.030708</td>\n",
       "      <td>1</td>\n",
       "      <td>0.378909</td>\n",
       "      <td>0.412466</td>\n",
       "      <td>0.618242</td>\n",
       "      <td>0</td>\n",
       "      <td>0</td>\n",
       "    </tr>\n",
       "    <tr>\n",
       "      <th>7882</th>\n",
       "      <td>1.166249</td>\n",
       "      <td>5.548889</td>\n",
       "      <td>1.916263</td>\n",
       "      <td>1.923449</td>\n",
       "      <td>214.444444</td>\n",
       "      <td>-10.666667</td>\n",
       "      <td>1.919005</td>\n",
       "      <td>10.666667</td>\n",
       "      <td>1.921910</td>\n",
       "      <td>9.0</td>\n",
       "      <td>...</td>\n",
       "      <td>0.333333</td>\n",
       "      <td>0.0</td>\n",
       "      <td>2020</td>\n",
       "      <td>1.037666</td>\n",
       "      <td>1</td>\n",
       "      <td>0.820518</td>\n",
       "      <td>0.857450</td>\n",
       "      <td>0.180216</td>\n",
       "      <td>1</td>\n",
       "      <td>1</td>\n",
       "    </tr>\n",
       "    <tr>\n",
       "      <th>7883</th>\n",
       "      <td>1.329089</td>\n",
       "      <td>3.531111</td>\n",
       "      <td>1.926941</td>\n",
       "      <td>1.912815</td>\n",
       "      <td>211.111111</td>\n",
       "      <td>-7.333333</td>\n",
       "      <td>1.934068</td>\n",
       "      <td>7.333333</td>\n",
       "      <td>1.906462</td>\n",
       "      <td>-9.0</td>\n",
       "      <td>...</td>\n",
       "      <td>0.000000</td>\n",
       "      <td>0.0</td>\n",
       "      <td>2020</td>\n",
       "      <td>1.035592</td>\n",
       "      <td>0</td>\n",
       "      <td>0.740728</td>\n",
       "      <td>0.752395</td>\n",
       "      <td>0.283197</td>\n",
       "      <td>1</td>\n",
       "      <td>0</td>\n",
       "    </tr>\n",
       "  </tbody>\n",
       "</table>\n",
       "<p>5 rows × 22 columns</p>\n",
       "</div>"
      ],
      "text/plain": [
       "       home_ml   away_ml      over     under      spread  home_spread  \\\n",
       "7879  2.493333  1.589445  1.919855  1.920983  224.055556     3.666667   \n",
       "7880  1.354878  3.374444  1.918227  1.922269  229.222222    -6.722222   \n",
       "7881  2.424444  1.617489  1.910436  1.929373  216.666667     3.555556   \n",
       "7882  1.166249  5.548889  1.916263  1.923449  214.444444   -10.666667   \n",
       "7883  1.329089  3.531111  1.926941  1.912815  211.111111    -7.333333   \n",
       "\n",
       "      home_ps_odds  away_spread  away_ps_odds  movl  ...  \\\n",
       "7879      1.941213    -3.666667      1.901385  10.0  ...   \n",
       "7880      1.926456     6.722222      1.913742   8.0  ...   \n",
       "7881      1.932851    -3.555556      1.909180   1.0  ...   \n",
       "7882      1.919005    10.666667      1.921910   9.0  ...   \n",
       "7883      1.934068     7.333333      1.906462  -9.0  ...   \n",
       "\n",
       "      past_3_home_favorite_wins  past_3_away_favorite_wins  season       vig  \\\n",
       "7879                   0.000000                        0.0    2020  1.030220   \n",
       "7880                   0.333333                        0.0    2020  1.034419   \n",
       "7881                   0.333333                        0.0    2020  1.030708   \n",
       "7882                   0.333333                        0.0    2020  1.037666   \n",
       "7883                   0.000000                        0.0    2020  1.035592   \n",
       "\n",
       "      home_win  lr_home_proba  home_implied  away_implied  lr_predict_home  \\\n",
       "7879         1       0.375355      0.401070      0.629151                0   \n",
       "7880         1       0.724830      0.738074      0.296345                1   \n",
       "7881         1       0.378909      0.412466      0.618242                0   \n",
       "7882         1       0.820518      0.857450      0.180216                1   \n",
       "7883         0       0.740728      0.752395      0.283197                1   \n",
       "\n",
       "      correct_pred  \n",
       "7879             0  \n",
       "7880             1  \n",
       "7881             0  \n",
       "7882             1  \n",
       "7883             0  \n",
       "\n",
       "[5 rows x 22 columns]"
      ]
     },
     "execution_count": 159,
     "metadata": {},
     "output_type": "execute_result"
    },
    {
     "name": "stdout",
     "output_type": "stream",
     "text": [
      "time: 87.3 ms (started: 2023-02-09 18:59:35 -05:00)\n"
     ]
    }
   ],
   "source": [
    "test = df[df.season >= 2020]\n",
    "lr_model = pickle.load(open('final_lr_model.sav', 'rb'))\n",
    "df['home_win'] = df['movl'].map(lambda x: 0 if x < 0 else 1)\n",
    "features = ['home_ml', 'spread', 'home_spread'] \n",
    "test_X = test[features]\n",
    "predictions = lr_model.predict_proba(test_X)\n",
    "predictions = [i[1] for i in predictions]\n",
    "\n",
    "test['home_win'] = test['movl'].map(lambda x: 0 if x < 0 else 1)\n",
    "test['lr_home_proba'] = predictions\n",
    "test['home_implied'] = 1/test['home_ml']\n",
    "test['away_implied'] = 1/test['away_ml']\n",
    "test['lr_predict_home'] = test['lr_home_proba'].map(lambda x: 0 if x < 0.53 else 1)\n",
    "test['correct_pred'] = test.apply(lambda x: \n",
    "    1 if x['home_win'] == x['lr_predict_home'] else 0, axis = 1)\n",
    "acc = test['correct_pred'].sum()/len(test)\n",
    "print(len(test))\n",
    "print(f'Accuracy: {acc}')\n",
    "test.head()\n"
   ]
  },
  {
   "cell_type": "markdown",
   "id": "7e28c130-117c-4dfa-82a0-abd3f6e27cad",
   "metadata": {},
   "source": [
    "### Strategy 1: Bet using Kelly criterion and LR proba"
   ]
  },
  {
   "cell_type": "code",
   "execution_count": 164,
   "id": "8a5ee8db-7db2-4c87-b733-0f2d7e429ade",
   "metadata": {},
   "outputs": [
    {
     "name": "stdout",
     "output_type": "stream",
     "text": [
      "time: 748 µs (started: 2023-02-09 20:13:51 -05:00)\n"
     ]
    }
   ],
   "source": [
    "def bet_kelly(df1):\n",
    "    starting_balance = 100\n",
    "    balance = starting_balance\n",
    "    kelly_frac = 1/8\n",
    "    i = 0\n",
    "    for index, row in df1.iterrows():\n",
    "        # if i == 50:\n",
    "        #     break\n",
    "        # i += 1\n",
    "        underdog = False\n",
    "        bet_won = 0\n",
    "        profit = 0\n",
    "        bet_amount = 0\n",
    "                \n",
    "\n",
    "        if row['lr_predict_home']:\n",
    "            kelly_prob = row['lr_home_proba']\n",
    "            bet_amount = kelly_size(kelly_prob,row['home_ml']-1, kelly_frac) *balance\n",
    "\n",
    "            if row['home_win']:\n",
    "                profit = bet_amount * (row['home_ml']-1)\n",
    "                bet_won = 1\n",
    "                balance += profit + bet_amount\n",
    "        else:\n",
    "            kelly_prob = 1-row['lr_home_proba']\n",
    "            bet_amount =kelly_size(kelly_prob,row['away_ml']-1, kelly_frac)*balance\n",
    "\n",
    "            if not row['home_win']:\n",
    "                profit = bet_amount * (row['away_ml']-1)\n",
    "                bet_won = 1\n",
    "                balance += profit + bet_amount\n",
    "\n",
    "        balance -= bet_amount\n",
    "        df1.at[index, 'profit'] = profit\n",
    "        df1.at[index, 'bet_won'] = bet_won\n",
    "        df1.at[index, 'bet_amount'] = bet_amount\n",
    "        df1.at[index, 'balance'] = balance\n",
    "    return balance - starting_balance"
   ]
  },
  {
   "cell_type": "code",
   "execution_count": 136,
   "id": "228ece9a-46db-4058-b995-093571d9e4d5",
   "metadata": {},
   "outputs": [
    {
     "name": "stdout",
     "output_type": "stream",
     "text": [
      "time: 273 µs (started: 2023-02-09 18:46:58 -05:00)\n"
     ]
    }
   ],
   "source": [
    "def kelly_size(p, b, frac):\n",
    "    bet_size = (p - (1-p)/b)*frac\n",
    "    if bet_size <= 0:\n",
    "        bet_size = 0.01\n",
    "    return bet_size"
   ]
  },
  {
   "cell_type": "code",
   "execution_count": 165,
   "id": "1ae2202f-634a-442f-a184-62fead427db0",
   "metadata": {},
   "outputs": [
    {
     "name": "stdout",
     "output_type": "stream",
     "text": [
      "profit over 3637 games: -62.84530515689984\n",
      "win ratio:  {0.6681330767115755}\n"
     ]
    },
    {
     "data": {
      "text/plain": [
       "<AxesSubplot: >"
      ]
     },
     "execution_count": 165,
     "metadata": {},
     "output_type": "execute_result"
    },
    {
     "data": {
      "image/png": "[encoded data removed]",
      "text/plain": [
       "<Figure size 640x480 with 1 Axes>"
      ]
     },
     "metadata": {},
     "output_type": "display_data"
    },
    {
     "name": "stdout",
     "output_type": "stream",
     "text": [
      "time: 458 ms (started: 2023-02-09 20:13:54 -05:00)\n"
     ]
    }
   ],
   "source": [
    "print(f'profit over {len(test)} games: {bet_kelly(test)}')\n",
    "print(f'win ratio: ',{sum(test['bet_won'])/len(test)})\n",
    "test['balance'].plot()\n"
   ]
  },
  {
   "cell_type": "code",
   "execution_count": 135,
   "id": "44d596b3-f40a-4df6-89db-50d23efa6bdf",
   "metadata": {},
   "outputs": [
    {
     "data": {
      "text/html": [
       "<div>\n",
       "<style scoped>\n",
       "    .dataframe tbody tr th:only-of-type {\n",
       "        vertical-align: middle;\n",
       "    }\n",
       "\n",
       "    .dataframe tbody tr th {\n",
       "        vertical-align: top;\n",
       "    }\n",
       "\n",
       "    .dataframe thead th {\n",
       "        text-align: right;\n",
       "    }\n",
       "</style>\n",
       "<table border=\"1\" class=\"dataframe\">\n",
       "  <thead>\n",
       "    <tr style=\"text-align: right;\">\n",
       "      <th></th>\n",
       "      <th>home_ml</th>\n",
       "      <th>away_ml</th>\n",
       "      <th>over</th>\n",
       "      <th>under</th>\n",
       "      <th>spread</th>\n",
       "      <th>home_spread</th>\n",
       "      <th>home_ps_odds</th>\n",
       "      <th>away_spread</th>\n",
       "      <th>away_ps_odds</th>\n",
       "      <th>movl</th>\n",
       "      <th>...</th>\n",
       "      <th>home_win</th>\n",
       "      <th>lr_home_proba</th>\n",
       "      <th>home_implied</th>\n",
       "      <th>away_implied</th>\n",
       "      <th>lr_predict_home</th>\n",
       "      <th>correct_pred</th>\n",
       "      <th>profit</th>\n",
       "      <th>bet_won</th>\n",
       "      <th>bet_amount</th>\n",
       "      <th>balance</th>\n",
       "    </tr>\n",
       "  </thead>\n",
       "  <tbody>\n",
       "    <tr>\n",
       "      <th>7879</th>\n",
       "      <td>2.493333</td>\n",
       "      <td>1.589445</td>\n",
       "      <td>1.919855</td>\n",
       "      <td>1.920983</td>\n",
       "      <td>224.055556</td>\n",
       "      <td>3.666667</td>\n",
       "      <td>1.941213</td>\n",
       "      <td>-3.666667</td>\n",
       "      <td>1.901385</td>\n",
       "      <td>10.0</td>\n",
       "      <td>...</td>\n",
       "      <td>1</td>\n",
       "      <td>0.375355</td>\n",
       "      <td>0.401070</td>\n",
       "      <td>0.629151</td>\n",
       "      <td>0</td>\n",
       "      <td>0</td>\n",
       "      <td>9.290795</td>\n",
       "      <td>1.0</td>\n",
       "      <td>6.221515</td>\n",
       "      <td>109.290795</td>\n",
       "    </tr>\n",
       "    <tr>\n",
       "      <th>7880</th>\n",
       "      <td>1.354878</td>\n",
       "      <td>3.374444</td>\n",
       "      <td>1.918227</td>\n",
       "      <td>1.922269</td>\n",
       "      <td>229.222222</td>\n",
       "      <td>-6.722222</td>\n",
       "      <td>1.926456</td>\n",
       "      <td>6.722222</td>\n",
       "      <td>1.913742</td>\n",
       "      <td>8.0</td>\n",
       "      <td>...</td>\n",
       "      <td>1</td>\n",
       "      <td>0.724830</td>\n",
       "      <td>0.738074</td>\n",
       "      <td>0.296345</td>\n",
       "      <td>1</td>\n",
       "      <td>1</td>\n",
       "      <td>0.387849</td>\n",
       "      <td>1.0</td>\n",
       "      <td>1.092908</td>\n",
       "      <td>109.678644</td>\n",
       "    </tr>\n",
       "    <tr>\n",
       "      <th>7881</th>\n",
       "      <td>2.424444</td>\n",
       "      <td>1.617489</td>\n",
       "      <td>1.910436</td>\n",
       "      <td>1.929373</td>\n",
       "      <td>216.666667</td>\n",
       "      <td>3.555556</td>\n",
       "      <td>1.932851</td>\n",
       "      <td>-3.555556</td>\n",
       "      <td>1.909180</td>\n",
       "      <td>1.0</td>\n",
       "      <td>...</td>\n",
       "      <td>1</td>\n",
       "      <td>0.378909</td>\n",
       "      <td>0.412466</td>\n",
       "      <td>0.618242</td>\n",
       "      <td>0</td>\n",
       "      <td>0</td>\n",
       "      <td>9.245919</td>\n",
       "      <td>1.0</td>\n",
       "      <td>6.490895</td>\n",
       "      <td>118.924563</td>\n",
       "    </tr>\n",
       "    <tr>\n",
       "      <th>7882</th>\n",
       "      <td>1.166249</td>\n",
       "      <td>5.548889</td>\n",
       "      <td>1.916263</td>\n",
       "      <td>1.923449</td>\n",
       "      <td>214.444444</td>\n",
       "      <td>-10.666667</td>\n",
       "      <td>1.919005</td>\n",
       "      <td>10.666667</td>\n",
       "      <td>1.921910</td>\n",
       "      <td>9.0</td>\n",
       "      <td>...</td>\n",
       "      <td>1</td>\n",
       "      <td>0.820518</td>\n",
       "      <td>0.857450</td>\n",
       "      <td>0.180216</td>\n",
       "      <td>1</td>\n",
       "      <td>1</td>\n",
       "      <td>0.197711</td>\n",
       "      <td>1.0</td>\n",
       "      <td>1.189246</td>\n",
       "      <td>119.122274</td>\n",
       "    </tr>\n",
       "    <tr>\n",
       "      <th>7883</th>\n",
       "      <td>1.329089</td>\n",
       "      <td>3.531111</td>\n",
       "      <td>1.926941</td>\n",
       "      <td>1.912815</td>\n",
       "      <td>211.111111</td>\n",
       "      <td>-7.333333</td>\n",
       "      <td>1.934068</td>\n",
       "      <td>7.333333</td>\n",
       "      <td>1.906462</td>\n",
       "      <td>-9.0</td>\n",
       "      <td>...</td>\n",
       "      <td>0</td>\n",
       "      <td>0.740728</td>\n",
       "      <td>0.752395</td>\n",
       "      <td>0.283197</td>\n",
       "      <td>1</td>\n",
       "      <td>0</td>\n",
       "      <td>0.000000</td>\n",
       "      <td>0.0</td>\n",
       "      <td>1.191223</td>\n",
       "      <td>117.931051</td>\n",
       "    </tr>\n",
       "  </tbody>\n",
       "</table>\n",
       "<p>5 rows × 26 columns</p>\n",
       "</div>"
      ],
      "text/plain": [
       "       home_ml   away_ml      over     under      spread  home_spread  \\\n",
       "7879  2.493333  1.589445  1.919855  1.920983  224.055556     3.666667   \n",
       "7880  1.354878  3.374444  1.918227  1.922269  229.222222    -6.722222   \n",
       "7881  2.424444  1.617489  1.910436  1.929373  216.666667     3.555556   \n",
       "7882  1.166249  5.548889  1.916263  1.923449  214.444444   -10.666667   \n",
       "7883  1.329089  3.531111  1.926941  1.912815  211.111111    -7.333333   \n",
       "\n",
       "      home_ps_odds  away_spread  away_ps_odds  movl  ...  home_win  \\\n",
       "7879      1.941213    -3.666667      1.901385  10.0  ...         1   \n",
       "7880      1.926456     6.722222      1.913742   8.0  ...         1   \n",
       "7881      1.932851    -3.555556      1.909180   1.0  ...         1   \n",
       "7882      1.919005    10.666667      1.921910   9.0  ...         1   \n",
       "7883      1.934068     7.333333      1.906462  -9.0  ...         0   \n",
       "\n",
       "      lr_home_proba  home_implied  away_implied  lr_predict_home  \\\n",
       "7879       0.375355      0.401070      0.629151                0   \n",
       "7880       0.724830      0.738074      0.296345                1   \n",
       "7881       0.378909      0.412466      0.618242                0   \n",
       "7882       0.820518      0.857450      0.180216                1   \n",
       "7883       0.740728      0.752395      0.283197                1   \n",
       "\n",
       "      correct_pred    profit  bet_won  bet_amount     balance  \n",
       "7879             0  9.290795      1.0    6.221515  109.290795  \n",
       "7880             1  0.387849      1.0    1.092908  109.678644  \n",
       "7881             0  9.245919      1.0    6.490895  118.924563  \n",
       "7882             1  0.197711      1.0    1.189246  119.122274  \n",
       "7883             0  0.000000      0.0    1.191223  117.931051  \n",
       "\n",
       "[5 rows x 26 columns]"
      ]
     },
     "execution_count": 135,
     "metadata": {},
     "output_type": "execute_result"
    },
    {
     "name": "stdout",
     "output_type": "stream",
     "text": [
      "time: 11 ms (started: 2023-02-09 18:46:00 -05:00)\n"
     ]
    }
   ],
   "source": [
    "test.head()"
   ]
  },
  {
   "cell_type": "markdown",
   "id": "135538a8-0698-4ab6-b07b-67860dd8b1ac",
   "metadata": {},
   "source": [
    "## Strategy 2: Bet based on spread, o/u, odds difference"
   ]
  },
  {
   "cell_type": "code",
   "execution_count": 203,
   "id": "044ad18f-daa2-4455-ad76-816fec5a6556",
   "metadata": {},
   "outputs": [
    {
     "name": "stdout",
     "output_type": "stream",
     "text": [
      "time: 942 µs (started: 2023-02-09 21:18:35 -05:00)\n"
     ]
    }
   ],
   "source": [
    "def bet_strategy2(df):\n",
    "    balance = 0\n",
    "    \n",
    "    ou_3q = defaultdict(float)\n",
    "    spread_3q = defaultdict(float)\n",
    "    \n",
    "    for i in range(2020, 2022):\n",
    "        ou_3q[i] = df[(df.season == i)]['spread'].quantile(0.7)\n",
    "        spread_3q[i] = df[(df.season==i)]['home_spread'].quantile(0.7)\n",
    "    \n",
    "    \n",
    "    for index, row in df.iterrows():\n",
    "        underdog = False\n",
    "        bet_won = 0\n",
    "        profit = 0\n",
    "        factor = max(1, balance * 0.05)\n",
    "        if row['spread'] > ou_3q[row['season']] and \\\n",
    "            abs(row['home_spread']) < 6:\n",
    "            # bet underdog\n",
    "            underdog = True\n",
    "        \n",
    "        if (row['home_ml'] > row['away_ml'] and underdog) or \\\n",
    "            (row['home_ml'] < row['away_ml'] and not underdog):\n",
    "            bet_amount = 1/(row['home_ml']-1)\n",
    "            # if not underdog:\n",
    "            #     bet_amount = 1\n",
    "            if row['h_win']:\n",
    "                profit = bet_amount * (row['home_ml']-1) \n",
    "                bet_won = 1\n",
    "                balance += profit + bet_amount\n",
    "        else:\n",
    "            bet_amount = 1/(row['away_ml']-1)\n",
    "            # if not underdog:\n",
    "            #     bet_amount = 1\n",
    "            if not row['h_win']:\n",
    "                profit = bet_amount * (row['away_ml']-1)\n",
    "                bet_won = 1\n",
    "                balance += profit + bet_amount\n",
    "        \n",
    "        balance -= bet_amount\n",
    "        df.at[index, 'profit'] = profit\n",
    "        df.at[index, 'bet_won'] = bet_won\n",
    "        df.at[index, 'bet_amount'] = bet_amount\n",
    "        df.at[index, 'balance'] = balance\n",
    "    return balance"
   ]
  },
  {
   "cell_type": "code",
   "execution_count": 204,
   "id": "120719c2-3e69-4cbc-990a-a38d497a83d4",
   "metadata": {},
   "outputs": [
    {
     "name": "stdout",
     "output_type": "stream",
     "text": [
      "profit over 3637 games: -473.1783526823906\n",
      "win ratio:  {0.6156172669782788}\n"
     ]
    },
    {
     "data": {
      "text/plain": [
       "<AxesSubplot: >"
      ]
     },
     "execution_count": 204,
     "metadata": {},
     "output_type": "execute_result"
    },
    {
     "data": {
      "image/png": "[encoded data removed]",
      "text/plain": [
       "<Figure size 640x480 with 1 Axes>"
      ]
     },
     "metadata": {},
     "output_type": "display_data"
    },
    {
     "name": "stdout",
     "output_type": "stream",
     "text": [
      "time: 462 ms (started: 2023-02-09 21:18:35 -05:00)\n"
     ]
    }
   ],
   "source": [
    "print(f'profit over {len(test)} games: {bet_strategy2(test)}')\n",
    "print(f'win ratio: ',{sum(test['bet_won'])/len(test)})\n",
    "test['balance'].plot()"
   ]
  },
  {
   "cell_type": "code",
   "execution_count": 170,
   "id": "f8b1c082-7a7d-4e0f-becb-0f168a90ad13",
   "metadata": {},
   "outputs": [
    {
     "name": "stdout",
     "output_type": "stream",
     "text": [
      "time: 4.07 ms (started: 2023-02-09 21:00:55 -05:00)\n"
     ]
    }
   ],
   "source": [
    "from collections import defaultdict\n",
    "ou_3q = defaultdict(float)\n",
    "for i in range(2020, 2022):\n",
    "        ou_3q[i] = df[(df.season == i)]['spread'].quantile(0.7)"
   ]
  },
  {
   "cell_type": "code",
   "execution_count": 172,
   "id": "8f119e37-0976-4005-ae49-f43e271e473c",
   "metadata": {},
   "outputs": [
    {
     "data": {
      "text/plain": [
       "-6.444444444444445"
      ]
     },
     "execution_count": 172,
     "metadata": {},
     "output_type": "execute_result"
    },
    {
     "name": "stdout",
     "output_type": "stream",
     "text": [
      "time: 2.73 ms (started: 2023-02-09 21:04:20 -05:00)\n"
     ]
    }
   ],
   "source": [
    "df[(df.season==2022)]['home_spread'].quantile(0.3)"
   ]
  },
  {
   "cell_type": "code",
   "execution_count": null,
   "id": "38654c46-59c4-4d36-b6dd-179d440a0a38",
   "metadata": {},
   "outputs": [],
   "source": []
  }
 ],
 "metadata": {
  "kernelspec": {
   "display_name": "ml-env",
   "language": "python",
   "name": "ml-env"
  },
  "language_info": {
   "codemirror_mode": {
    "name": "ipython",
    "version": 3
   },
   "file_extension": ".py",
   "mimetype": "text/x-python",
   "name": "python",
   "nbconvert_exporter": "python",
   "pygments_lexer": "ipython3",
   "version": "3.10.9"
  }
 },
 "nbformat": 4,
 "nbformat_minor": 5
}
