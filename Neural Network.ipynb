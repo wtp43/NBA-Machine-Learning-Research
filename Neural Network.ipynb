{
 "cells": [
  {
   "cell_type": "code",
   "execution_count": 1,
   "id": "b587c962-f0e4-4bce-a3a0-60817df2a69a",
   "metadata": {},
   "outputs": [
    {
     "name": "stdout",
     "output_type": "stream",
     "text": [
      "time: 1.01 s (started: 2023-03-07 18:06:35 -05:00)\n"
     ]
    }
   ],
   "source": [
    "%%capture\n",
    "import torch\n",
    "from torch import nn\n",
    "from torch.utils.data import DataLoader, TensorDataset\n",
    "from torchvision import datasets\n",
    "from torchvision.transforms import ToTensor\n",
    "\n",
    "\n",
    "import os\n",
    "import pandas as pd\n",
    "import numpy as np\n",
    "\n",
    "\n",
    "import warnings\n",
    "import math\n",
    "import pandas as pd\n",
    "import numpy as np\n",
    "from bokeh.plotting import figure, show\n",
    "from bokeh.io import output_notebook, push_notebook, show\n",
    "import matplotlib.pyplot as plt\n",
    "from datetime import date, datetime, timedelta\n",
    "from tqdm.notebook import tqdm\n",
    "import re\n",
    "from itertools import repeat\n",
    "\n",
    "from sklearn import preprocessing\n",
    "\n",
    "warnings.filterwarnings('ignore')\n",
    "\n",
    "try:\n",
    "    %load_ext autotime\n",
    "    %load_ext jupyterlab_notify\n",
    "except:\n",
    "    !pip3 install ipython-autotime\n",
    "    %load_ext autotime\n",
    "\n",
    "import imblearn"
   ]
  },
  {
   "cell_type": "markdown",
   "id": "20e1f8cc-052a-4e78-8d35-9a9f366e335a",
   "metadata": {},
   "source": [
    "## Features"
   ]
  },
  {
   "cell_type": "code",
   "execution_count": 2,
   "id": "5971c222-2242-48b4-b1e8-7cd855fb4854",
   "metadata": {},
   "outputs": [
    {
     "name": "stdout",
     "output_type": "stream",
     "text": [
      "time: 1.4 ms (started: 2023-03-07 18:06:36 -05:00)\n"
     ]
    }
   ],
   "source": [
    "w = [20,14,8]\n",
    "\n",
    "features = []\n",
    "\n",
    "player_features = ['ts_pct',\n",
    "       'efg_pct', 'threepar', 'ftr', 'orb_pct', 'drb_pct', 'trb_pct',\n",
    "       'ast_pct', 'stl_pct', 'blk_pct', 'tov_pct', 'usg_pct', 'ortg', 'drtg',\n",
    "       'fg', 'fga', 'fg_pct', 'threep', 'threepa',\n",
    "       'threep_pct', 'ft', 'fta', 'ft_pct', 'orb', 'drb', 'trb', 'ast', 'stl',\n",
    "       'blk', 'tov', 'pf', 'pts', 'pts_avg', 'orb_avg', 'drb_avg', 'trb_avg',\n",
    "       'ast_avg', 'stl_avg', 'blk_avg', 'tov_avg', 'pf_avg']\n",
    "\n",
    "w = 10\n",
    "fav_player_ewm_features = []\n",
    "und_player_ewm_features = []\n",
    "for i in range(8):\n",
    "    fav_player_ewm_features += [f'fav_p{i}_{f}_ewm_{w}' for f in player_features]\n",
    "    und_player_ewm_features += [f'und_p{i}_{f}_ewm_{w}' for f in player_features]\n",
    "\n",
    "w = 14\n",
    "fav_player_ewm_fatigue = []\n",
    "und_player_ewm_fatigue = []\n",
    "for i in range(8):\n",
    "    fav_player_ewm_fatigue += [f'fav_p{i}_{f}_ewm_{w}' for f in player_features]\n",
    "    und_player_ewm_fatigue += [f'und_p{i}_{f}_ewm_{w}' for f in player_features]\n",
    "\n",
    "streak = ['prev_favorite_win_streak', \n",
    "                   'prev_favorite_home_streak', \n",
    "                   'prev_underdog_win_streak', \n",
    "                   'prev_underdog_home_streak']\n",
    "\n",
    "elo = ['prev_favorite_elo', 'prev_underdog_elo']\n",
    "# 5, 8, 12\n",
    "window_size = 8\n",
    "ema_favorite_features = \\\n",
    "        [f'prev_favorite_pts_ema{window_size}',     \n",
    "        f'prev_favorite_bpm_ema{window_size}',      \n",
    "        f'prev_favorite_fg_ema{window_size}',        \n",
    "        f'prev_favorite_fg_pct_ema{window_size}',  \n",
    "        f'prev_favorite_3p_ema{window_size}',       \n",
    "        f'prev_favorite_3p_pct_ema{window_size}',   \n",
    "        f'prev_favorite_ft_ema{window_size}',       \n",
    "        f'prev_favorite_ft_pct_ema{window_size}',    \n",
    "        f'prev_favorite_orb_ema{window_size}',       \n",
    "        f'prev_favorite_orb_pct_ema{window_size}',  \n",
    "        f'prev_favorite_drb_ema{window_size}',      \n",
    "        f'prev_favorite_drb_pct_ema{window_size}',   \n",
    "        f'prev_favorite_trb_ema{window_size}',       \n",
    "        f'prev_favorite_trb_pct_ema{window_size}',   \n",
    "        f'prev_favorite_tov_ema{window_size}',       \n",
    "        f'prev_favorite_tov_pct_ema{window_size}',  \n",
    "        f'prev_favorite_ast_ema{window_size}',       \n",
    "        f'prev_favorite_ast_pct_ema{window_size}',   \n",
    "        f'prev_favorite_stl_ema{window_size}',       \n",
    "        f'prev_favorite_stl_pct_ema{window_size}',   \n",
    "        f'prev_favorite_blk_ema{window_size}',       \n",
    "        f'prev_favorite_blk_pct_ema{window_size}',   \n",
    "        f'prev_favorite_drtg_ema{window_size}',      \n",
    "        f'prev_favorite_ortg_ema{window_size}',      \n",
    "        f'prev_favorite_efg_pct_ema{window_size}',  \n",
    "        f'prev_favorite_pace_ema{window_size}']\n",
    "\n",
    "ema_underdog_features = [f.replace('favorite','underdog') for f in ema_favorite_features]\n",
    "\n",
    "features += fav_player_ewm_features + und_player_ewm_features + \\\n",
    "            streak + elo + ema_favorite_features + ema_underdog_features\n",
    " "
   ]
  },
  {
   "cell_type": "markdown",
   "id": "7ce2a27e-5583-45c4-add9-49c8c7d5500a",
   "metadata": {},
   "source": [
    "# Oversampling"
   ]
  },
  {
   "cell_type": "code",
   "execution_count": 3,
   "id": "0de60184-b43b-4f8a-a80b-a75822f1c4dd",
   "metadata": {},
   "outputs": [
    {
     "name": "stdout",
     "output_type": "stream",
     "text": [
      "time: 5.15 s (started: 2023-03-07 18:06:36 -05:00)\n"
     ]
    }
   ],
   "source": [
    "df = pd.read_csv(\"nba_processed_features + elo.csv\")\n",
    "\n",
    "df.dropna(inplace=True)"
   ]
  },
  {
   "cell_type": "code",
   "execution_count": 4,
   "id": "19500a47-427b-4bc8-8dc1-4cc17bb1a78d",
   "metadata": {},
   "outputs": [
    {
     "name": "stdout",
     "output_type": "stream",
     "text": [
      "time: 280 µs (started: 2023-03-07 18:06:41 -05:00)\n"
     ]
    }
   ],
   "source": [
    "def train_test_split(data):\n",
    "    cutoff = math.floor(len(data) * 0.7)\n",
    "    train = data[data.index < cutoff].copy()\n",
    "    test = data[data.index >= cutoff].copy()\n",
    "    return train, test "
   ]
  },
  {
   "cell_type": "code",
   "execution_count": 5,
   "id": "6b332847-d5e3-4119-9dbd-3a9424aa256b",
   "metadata": {},
   "outputs": [
    {
     "name": "stdout",
     "output_type": "stream",
     "text": [
      "time: 172 ms (started: 2023-03-07 18:06:41 -05:00)\n"
     ]
    }
   ],
   "source": [
    "from imblearn.over_sampling import RandomOverSampler\n",
    "mm_scaler = preprocessing.MinMaxScaler()\n",
    "\n",
    "train, test = train_test_split(df)\n",
    "\n",
    "X_train = train[features]\n",
    "X_test = test[features]\n",
    "\n",
    "X_train = mm_scaler.fit_transform(X_train)\n",
    "X_test = mm_scaler.fit_transform(X_test)\n",
    "\n",
    "y_train = train['favorite_won']\n",
    "y_test = test['favorite_won']\n",
    "\n",
    "# oversample training data\n",
    "oversample = RandomOverSampler(sampling_strategy='minority')\n",
    "X_train, y_train = oversample.fit_resample(X_train, y_train)\n",
    "\n",
    "\n",
    "\n"
   ]
  },
  {
   "cell_type": "code",
   "execution_count": 6,
   "id": "d88d2a1c-deac-43f9-8011-bafc1d80f3c8",
   "metadata": {},
   "outputs": [
    {
     "name": "stdout",
     "output_type": "stream",
     "text": [
      "torch.float32\n",
      "time: 48.1 ms (started: 2023-03-07 18:06:42 -05:00)\n"
     ]
    }
   ],
   "source": [
    "# Creating np arrays\n",
    "train_target = torch.tensor(y_train)\n",
    "train_target = train_target.to(torch.float32)\n",
    "train_target = train_target.unsqueeze(1)\n",
    "print(train_target.dtype)\n",
    "\n",
    "train_features = torch.tensor(X_train)\n",
    "train_features = train_features.to(torch.float32)\n",
    "\n",
    "test_target = torch.tensor(y_test.values)\n",
    "test_target = test_target.to(torch.float32)\n",
    "test_target = test_target.reshape(-1,1)unsqueeze(1)\n",
    "\n",
    "\n",
    "test_features = torch.tensor(X_test)\n",
    "test_features = test_features.to(torch.float32)\n",
    "\n",
    "# Passing to DataLoader\n",
    "train = TensorDataset(train_features, train_target)\n",
    "test = TensorDataset(test_features, test_target)\n"
   ]
  },
  {
   "cell_type": "code",
   "execution_count": 7,
   "id": "5f1c60b4-1de7-4542-b93a-30d369db452b",
   "metadata": {},
   "outputs": [
    {
     "name": "stdout",
     "output_type": "stream",
     "text": [
      "Shape of X [N, C, H, W]: torch.Size([64, 714])\n",
      "Shape of y: torch.Size([64, 1]) torch.float32\n",
      "torch.float32\n",
      "time: 63.8 ms (started: 2023-03-07 18:06:42 -05:00)\n"
     ]
    }
   ],
   "source": [
    "batch_size = 64\n",
    "# Create data loaders.\n",
    "train_dataloader = DataLoader(train, batch_size=batch_size)\n",
    "test_dataloader = DataLoader(test, batch_size=batch_size)\n",
    "\n",
    "for X, y in test_dataloader:\n",
    "    print(f\"Shape of X [N, C, H, W]: {X.shape}\")\n",
    "    print(f\"Shape of y: {y.shape} {y.dtype}\")\n",
    "    break\n",
    "print(y.dtype)"
   ]
  },
  {
   "cell_type": "code",
   "execution_count": 8,
   "id": "23b682e6-dd82-45c6-b24e-bbbae0006e8c",
   "metadata": {},
   "outputs": [
    {
     "name": "stdout",
     "output_type": "stream",
     "text": [
      "time: 236 µs (started: 2023-03-07 18:06:42 -05:00)\n"
     ]
    }
   ],
   "source": [
    "# # Get cpu or gpu device for training.\n",
    "# device = \"cuda\" if torch.cuda.is_available() else \"mps\" if torch.backends.mps.is_available() else \"cpu\"\n",
    "# print(f\"Using {device} device\")\n",
    "\n",
    "# # Define model\n",
    "# class NeuralNetwork(nn.Module):\n",
    "#     def __init__(self):\n",
    "#         super().__init__()\n",
    "#         self.layer1 = nn.Linear(714, 714)\n",
    "#         self.act1 = nn.ReLU()\n",
    "#         self.layer2 = nn.Linear(714, 714)\n",
    "#         self.act2 = nn.ReLU()\n",
    "#         self.layer3 = nn.Linear(714, 714)\n",
    "#         self.act3 = nn.ReLU()\n",
    "#         self.output = nn.Linear(714, 1)\n",
    "#         self.sigmoid = nn.Sigmoid()\n",
    "\n",
    "#     def forward(self, x):\n",
    "#         x = self.act1(self.layer1(x))\n",
    "#         x = self.act2(self.layer2(x))\n",
    "#         x = self.act3(self.layer3(x))\n",
    "#         x = self.sigmoid(self.output(x))\n",
    "#         return x\n",
    "    \n",
    "# model = NeuralNetwork().to(device)\n",
    "# print(model)"
   ]
  },
  {
   "cell_type": "code",
   "execution_count": 9,
   "id": "7534af0d-2a3f-4269-8f6c-16d8fbefd915",
   "metadata": {},
   "outputs": [
    {
     "name": "stdout",
     "output_type": "stream",
     "text": [
      "Using cuda device\n",
      "NeuralNetwork(\n",
      "  (layer1): Linear(in_features=714, out_features=714, bias=True)\n",
      "  (act1): ReLU()\n",
      "  (layer2): Linear(in_features=714, out_features=714, bias=True)\n",
      "  (act2): ReLU()\n",
      "  (layer3): Linear(in_features=714, out_features=714, bias=True)\n",
      "  (act3): ReLU()\n",
      "  (output): Linear(in_features=714, out_features=1, bias=True)\n",
      ")\n",
      "time: 555 ms (started: 2023-03-07 18:06:42 -05:00)\n"
     ]
    }
   ],
   "source": [
    "# Get cpu or gpu device for training.\n",
    "device = \"cuda\" if torch.cuda.is_available() else \"mps\" if torch.backends.mps.is_available() else \"cpu\"\n",
    "print(f\"Using {device} device\")\n",
    "\n",
    "# Define model\n",
    "class NeuralNetwork(nn.Module):\n",
    "    def __init__(self):\n",
    "        super().__init__()\n",
    "        self.layer1 = nn.Linear(714, 714)\n",
    "        self.act1 = nn.ReLU()\n",
    "        self.layer2 = nn.Linear(714, 714)\n",
    "        self.act2 = nn.ReLU()\n",
    "        self.layer3 = nn.Linear(714, 714)\n",
    "        self.act3 = nn.ReLU()\n",
    "        self.output = nn.Linear(714, 1)\n",
    "\n",
    "    def forward(self, x):\n",
    "        x = self.act1(self.layer1(x))\n",
    "        x = self.act2(self.layer2(x))\n",
    "        x = self.act3(self.layer3(x))\n",
    "        x = self.output(x)\n",
    "        return x\n",
    "    \n",
    "model = NeuralNetwork().to(device)\n",
    "print(model)"
   ]
  },
  {
   "cell_type": "code",
   "execution_count": 10,
   "id": "3aad798e-b375-4bf1-8d9a-14cc1716c01d",
   "metadata": {},
   "outputs": [
    {
     "name": "stdout",
     "output_type": "stream",
     "text": [
      "time: 446 µs (started: 2023-03-07 18:06:42 -05:00)\n"
     ]
    }
   ],
   "source": [
    "import torch.optim as optim\n",
    "\n",
    "loss_fn = nn.BCELoss()\n",
    "loss_fn = nn.BCEWithLogitsLoss()\n",
    "optimizer = torch.optim.SGD(model.parameters(), lr=1e-3)\n",
    "optimizer = optim.Adam(model.parameters(), lr=0.0001)"
   ]
  },
  {
   "cell_type": "code",
   "execution_count": 11,
   "id": "2729a133-cf91-4f5e-8dca-1d53b50352e4",
   "metadata": {},
   "outputs": [
    {
     "name": "stdout",
     "output_type": "stream",
     "text": [
      "time: 700 µs (started: 2023-03-07 18:06:42 -05:00)\n"
     ]
    }
   ],
   "source": [
    "def test(dataloader, model, loss_fn):\n",
    "    size = len(dataloader.dataset)\n",
    "    print(size)\n",
    "    num_batches = len(dataloader)\n",
    "    model.eval()\n",
    "    test_loss, correct = 0, 0\n",
    "    with torch.no_grad():\n",
    "        for X, y in dataloader:\n",
    "            X, y = X.to(device), y.to(device)\n",
    "            pred = model(X)\n",
    "            #_, pred = torch.max(pred, dim=1)\n",
    "            test_loss += loss_fn(pred, y).item()\n",
    "            #print(pred.argmax(1))\n",
    "            #class_pred = torch.round(y_test_pred)\n",
    "            #print(class_pred)\n",
    "            #correct += (\n",
    "    #test_loss /= num_batches\n",
    "   # print(correct)\n",
    "    #correct /= size\n",
    "    #print(correct)\n",
    "    #print(f\"Test Error: \\n Accuracy: {(100*correct):>0.1f}%, Avg loss: {test_loss:>8f} \\n\")\n"
   ]
  },
  {
   "cell_type": "code",
   "execution_count": 12,
   "id": "d4bbb18f-1267-4c6b-9387-4ceb3b524da0",
   "metadata": {},
   "outputs": [
    {
     "name": "stdout",
     "output_type": "stream",
     "text": [
      "time: 351 µs (started: 2023-03-07 18:06:42 -05:00)\n"
     ]
    }
   ],
   "source": [
    "def train(dataloader, model, loss_fn, optimizer):\n",
    "    size = len(dataloader.dataset)\n",
    "    model.train()\n",
    "    for batch, (X, y) in enumerate(dataloader):\n",
    "        X, y = X.to(device), y.to(device)\n",
    "        #y = y.unsqueeze(1)\n",
    "        # Compute prediction error\n",
    "        pred = model(X)\n",
    "        #_, pred = torch.max(pred, dim=1)\n",
    "        loss = loss_fn(pred, y)\n",
    "\n",
    "        # Backpropagation\n",
    "        optimizer.zero_grad()\n",
    "        loss.backward()\n",
    "        optimizer.step()\n",
    "\n",
    "        if batch % 100 == 0:\n",
    "            loss, current = loss.item(), (batch + 1) * len(X)\n",
    "            print(f\"loss: {loss:>7f}  [{current:>5d}/{size:>5d}]\")"
   ]
  },
  {
   "cell_type": "code",
   "execution_count": 14,
   "id": "8e0387ea-bf54-4fed-a184-573cb9c8285e",
   "metadata": {},
   "outputs": [
    {
     "name": "stdout",
     "output_type": "stream",
     "text": [
      "Epoch 1\n",
      "-------------------------------\n",
      "loss: 0.690522  [   64/17022]\n",
      "loss: 0.680134  [ 6464/17022]\n",
      "loss: 0.772090  [12864/17022]\n",
      "6139\n",
      "Epoch 2\n",
      "-------------------------------\n",
      "loss: 1.362254  [   64/17022]\n",
      "loss: 0.675594  [ 6464/17022]\n",
      "loss: 0.763507  [12864/17022]\n",
      "6139\n",
      "Epoch 3\n",
      "-------------------------------\n",
      "loss: 2.529950  [   64/17022]\n",
      "loss: 0.690276  [ 6464/17022]\n",
      "loss: 0.886971  [12864/17022]\n",
      "6139\n",
      "Epoch 4\n",
      "-------------------------------\n",
      "loss: 0.699502  [   64/17022]\n",
      "loss: 0.690025  [ 6464/17022]\n",
      "loss: 0.755231  [12864/17022]\n",
      "6139\n",
      "Epoch 5\n",
      "-------------------------------\n",
      "loss: 0.709486  [   64/17022]\n",
      "loss: 0.691630  [ 6464/17022]\n",
      "loss: 0.736618  [12864/17022]\n",
      "6139\n",
      "Done!\n",
      "time: 1.97 s (started: 2023-03-07 18:07:40 -05:00)\n"
     ]
    }
   ],
   "source": [
    "epochs = 5\n",
    "for t in range(epochs):\n",
    "    print(f\"Epoch {t+1}\\n-------------------------------\")\n",
    "    train(train_dataloader, model, loss_fn, optimizer)\n",
    "    test(test_dataloader, model, loss_fn)\n",
    "print(\"Done!\")"
   ]
  },
  {
   "cell_type": "code",
   "execution_count": 23,
   "id": "e4b7310d-c27a-4ff1-8408-64871a2449b9",
   "metadata": {},
   "outputs": [
    {
     "name": "stdout",
     "output_type": "stream",
     "text": [
      "Last iteration loss value: 0.017957134172320366\n",
      "time: 1.84 s (started: 2023-03-07 18:11:01 -05:00)\n"
     ]
    }
   ],
   "source": [
    "model.train()\n",
    "train_loss = []\n",
    "\n",
    "#Loss Computation\n",
    "loss_func = nn.BCEWithLogitsLoss()\n",
    "#Optimizer\n",
    "learning_rate = 0.1\n",
    "optimizer = torch.optim.Adam(model.parameters(), lr=learning_rate)\n",
    "epochs = 5\n",
    "\n",
    "\n",
    "for epoch in range(epochs):\n",
    "    #Within each epoch run the subsets of data = batch sizes.\n",
    "    for xb, yb in train_dataloader:\n",
    "        xb, yb = xb.to(device), yb.to(device)\n",
    "        y_pred = model(xb)            # Forward Propagation\n",
    "        loss = loss_fn(y_pred, yb)  # Loss Computation\n",
    "        optimizer.zero_grad()         # Clearing all previous gradients, setting to zero \n",
    "        loss.backward()               # Back Propagation\n",
    "        optimizer.step()              # Updating the parameters \n",
    "    #print(\"Loss in iteration :\"+str(epoch)+\" is: \"+str(loss.item()))\n",
    "    train_loss.append(loss.item())\n",
    "print('Last iteration loss value: '+str(loss.item()))"
   ]
  },
  {
   "cell_type": "code",
   "execution_count": 24,
   "id": "9c0fd2d4-87c3-4365-b5bc-ce757891dcaa",
   "metadata": {},
   "outputs": [
    {
     "name": "stdout",
     "output_type": "stream",
     "text": [
      "time: 59.7 ms (started: 2023-03-07 18:11:03 -05:00)\n"
     ]
    }
   ],
   "source": [
    "import itertools\n",
    "\n",
    "y_pred_list = []\n",
    "model.eval()\n",
    "#Since we don't need model to back propagate the gradients in test set we use torch.no_grad()\n",
    "# reduces memory usage and speeds up computation\n",
    "with torch.no_grad():\n",
    "    for xb_test,yb_test  in test_dataloader:\n",
    "        xb_test, yb_test = xb_test.to(device), yb_test.to(device)\n",
    "        y_test_pred = model(xb_test)\n",
    "        y_pred_tag = torch.round(y_test_pred)\n",
    "        y_pred_list.append(y_pred_tag.cpu().detach().numpy())\n",
    "\n",
    "#Takes arrays and makes them list of list for each batch        \n",
    "y_pred_list = [a.squeeze().tolist() for a in y_pred_list]\n",
    "#flattens the lists in sequence\n",
    "ytest_pred = list(itertools.chain.from_iterable(y_pred_list))\n"
   ]
  },
  {
   "cell_type": "code",
   "execution_count": 26,
   "id": "9c2a53ab-acd3-41fb-b644-3c5e1356f79e",
   "metadata": {},
   "outputs": [
    {
     "name": "stdout",
     "output_type": "stream",
     "text": [
      "Confusion Matrix of the Test Set\n",
      "-----------\n",
      "[[   0    0    0]\n",
      " [1999    0    0]\n",
      " [4140    0    0]]\n",
      "time: 6.21 ms (started: 2023-03-07 18:11:09 -05:00)\n"
     ]
    }
   ],
   "source": [
    "from sklearn.metrics import confusion_matrix\n",
    "y_true_test = y_test\n",
    "conf_matrix = confusion_matrix(y_true_test ,ytest_pred)\n",
    "print(\"Confusion Matrix of the Test Set\")\n",
    "print(\"-----------\")\n",
    "print(conf_matrix)\n",
    "# print(\"Precision of the MLP :\\t\"+str(precision_score(y_true_test,ytest_pred)))\n",
    "# print(\"Recall of the MLP    :\\t\"+str(recall_score(y_true_test,ytest_pred)))\n",
    "# print(\"F1 Score of the Model :\\t\"+str(f1_score(y_true_test,ytest_pred)))"
   ]
  },
  {
   "cell_type": "code",
   "execution_count": null,
   "id": "1be5d61e-c5e0-4eb9-a871-db90029b0640",
   "metadata": {},
   "outputs": [],
   "source": [
    "criterion = nn.BCEWithLogitsLoss()\n",
    "model.train()\n",
    "for e in range(1, EPOCHS+1):\n",
    "    epoch_loss = 0\n",
    "    epoch_acc = 0\n",
    "    for X_batch, y_batch in train_dataloader:\n",
    "        X_batch, y_batch = X_batch.to(device), y_batch.to(device)\n",
    "        optimizer.zero_grad()\n",
    "        \n",
    "        y_pred = model(X_batch)\n",
    "        \n",
    "        loss = criterion(y_pred, y_batch)\n",
    "        acc = binary_acc(y_pred, y_batch)\n",
    "        \n",
    "        loss.backward()\n",
    "        optimizer.step()\n",
    "        \n",
    "        epoch_loss += loss.item()\n",
    "        epoch_acc += acc.item()\n",
    "        \n",
    "\n",
    "    print(f'Epoch {e+0:03}: | Loss: {epoch_loss/len(train_loader):.5f} | Acc: {epoch_acc/len(train_loader):.3f}')"
   ]
  },
  {
   "cell_type": "code",
   "execution_count": null,
   "id": "b55baf89-238f-4809-8496-5a626a32202f",
   "metadata": {},
   "outputs": [],
   "source": [
    "import tqdm\n",
    "import torch.optim as optim\n",
    "def model_train(model, X_train, y_train, X_val, y_val):\n",
    "    # loss function and optimizer\n",
    "    loss_fn = nn.BCELoss()  # binary cross entropy\n",
    "    optimizer = optim.Adam(model.parameters(), lr=0.0001)\n",
    "\n",
    "    n_epochs = 250   # number of epochs to run\n",
    "    batch_size = 10  # size of each batch\n",
    "    batch_start = torch.arange(0, len(X_train), batch_size)\n",
    "\n",
    "    # Hold the best model\n",
    "    best_acc = - np.inf   # init to negative infinity\n",
    "    best_weights = None\n",
    "\n",
    "    for epoch in range(n_epochs):\n",
    "        model.train()\n",
    "        with tqdm.tqdm(batch_start, unit=\"batch\", mininterval=0, disable=True) as bar:\n",
    "            bar.set_description(f\"Epoch {epoch}\")\n",
    "            for start in bar:\n",
    "                # take a batch\n",
    "                X_batch = X_train[start:start+batch_size]\n",
    "                y_batch = y_train[start:start+batch_size]\n",
    "                # forward pass\n",
    "                y_pred = model(X_batch)\n",
    "                loss = loss_fn(y_pred, y_batch)\n",
    "                # backward pass\n",
    "                optimizer.zero_grad()\n",
    "                loss.backward()\n",
    "                # update weights\n",
    "                optimizer.step()\n",
    "                # print progress\n",
    "                acc = (y_pred.round() == y_batch).float().mean()\n",
    "                bar.set_postfix(\n",
    "                    loss=float(loss),\n",
    "                    acc=float(acc)\n",
    "                )\n",
    "        # evaluate accuracy at end of each epoch\n",
    "        model.eval()\n",
    "        y_pred = model(X_val)\n",
    "        acc = (y_pred.round() == y_val).float().mean()\n",
    "        acc = float(acc)\n",
    "        if acc > best_acc:\n",
    "            best_acc = acc\n",
    "            best_weights = copy.deepcopy(model.state_dict())\n",
    "    # restore model and return best accuracy\n",
    "    model.load_state_dict(best_weights)\n",
    "    return best_acc"
   ]
  },
  {
   "cell_type": "code",
   "execution_count": null,
   "id": "81136acb-0c62-4d17-80a8-087eec5d3f4f",
   "metadata": {},
   "outputs": [],
   "source": [
    "import torch.nn as nn\n",
    "\n",
    "class Wide(nn.Module):\n",
    "    def __init__(self):\n",
    "        super().__init__()\n",
    "        self.hidden = nn.Linear(741, 180)\n",
    "        self.relu = nn.ReLU()\n",
    "        self.output = nn.Linear(180, 1)\n",
    "        self.sigmoid = nn.Sigmoid()\n",
    "\n",
    "    def forward(self, x):\n",
    "        x = self.relu(self.hidden(x))\n",
    "        x = self.sigmoid(self.output(x))\n",
    "        return x"
   ]
  },
  {
   "cell_type": "code",
   "execution_count": null,
   "id": "7bba648a-3a62-4684-8fc1-5ef63fa5397a",
   "metadata": {},
   "outputs": [],
   "source": [
    "from sklearn.model_selection import StratifiedKFold, train_test_split\n",
    "\n",
    "# create model, train, and get accuracy\n",
    "model = NeuralNetwork()\n",
    "acc = model_train(model, X_train[train], y_train[train], X_train[test], y_train[test])\n",
    "print(\"Accuracy (wide): %.2f\" % acc)\n"
   ]
  },
  {
   "cell_type": "code",
   "execution_count": null,
   "id": "6e9662d4-7a8c-405f-a920-8c3b89fc7f5b",
   "metadata": {},
   "outputs": [],
   "source": []
  }
 ],
 "metadata": {
  "kernelspec": {
   "display_name": "Python 3 (ipykernel)",
   "language": "python",
   "name": "python3"
  },
  "language_info": {
   "codemirror_mode": {
    "name": "ipython",
    "version": 3
   },
   "file_extension": ".py",
   "mimetype": "text/x-python",
   "name": "python",
   "nbconvert_exporter": "python",
   "pygments_lexer": "ipython3",
   "version": "3.10.9"
  }
 },
 "nbformat": 4,
 "nbformat_minor": 5
}
