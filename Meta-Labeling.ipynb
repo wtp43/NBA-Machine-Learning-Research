{
 "cells": [
  {
   "cell_type": "code",
   "execution_count": 1,
   "id": "7a9902a4-3cd3-4f74-91bb-1461938afa35",
   "metadata": {},
   "outputs": [
    {
     "name": "stdout",
     "output_type": "stream",
     "text": [
      "time: 1.19 s (started: 2023-02-19 15:25:56 -05:00)\n"
     ]
    }
   ],
   "source": [
    "%%capture\n",
    "import warnings\n",
    "import math\n",
    "import pickle\n",
    "import pandas as pd\n",
    "import numpy as np\n",
    "from bokeh.plotting import figure, show\n",
    "from bokeh.io import output_notebook, push_notebook, show\n",
    "import matplotlib.pyplot as plt\n",
    "from datetime import date, datetime\n",
    "from tqdm.notebook import tqdm\n",
    "import re\n",
    "warnings.filterwarnings('ignore')\n",
    "try:\n",
    "    %load_ext autotime\n",
    "    %load_ext jupyterlab_notify\n",
    "except:\n",
    "    !pip3 install ipython-autotime\n",
    "    %load_ext autotime\n"
   ]
  },
  {
   "cell_type": "code",
   "execution_count": 2,
   "id": "4d5eda5a-e243-43e5-a075-35244a1e9538",
   "metadata": {},
   "outputs": [
    {
     "name": "stdout",
     "output_type": "stream",
     "text": [
      "time: 389 ms (started: 2023-02-19 15:25:57 -05:00)\n"
     ]
    }
   ],
   "source": [
    "df = pd.read_csv('modern_matches2.csv')\n",
    "# df = df[['home_ml', 'away_ml', 'over', 'under',\n",
    "#         'spread', 'home_spread', 'home_ps_odds', 'away_spread', 'away_ps_odds', \n",
    "#         'movl', 'h_win', 'playoff_game', 'past_3_home_favorite_wins', \n",
    "#          'past_3_away_favorite_wins', 'season', 'home_implied']]\n",
    "df['vig'] = 1/df['home_ml'] + 1/df['away_ml'] \n",
    "df = df.drop(['favorite_won'],axis=1)\n",
    "df=df.dropna(subset=['home_ml','away_ml'])"
   ]
  },
  {
   "cell_type": "code",
   "execution_count": 3,
   "id": "63975a89-8087-4e15-a38a-5ec403fd4539",
   "metadata": {},
   "outputs": [
    {
     "data": {
      "application/vnd.jupyter.widget-view+json": {
       "model_id": "d2a4479b4c064f6a8fcbc7f4b2a920b1",
       "version_major": 2,
       "version_minor": 0
      },
      "text/plain": [
       "  0%|          | 0/11513 [00:00<?, ?it/s]"
      ]
     },
     "metadata": {},
     "output_type": "display_data"
    },
    {
     "name": "stdout",
     "output_type": "stream",
     "text": [
      "       favorite_ml   home_ml    away_ml\n",
      "0         1.099266  1.099266   8.100000\n",
      "1         1.456783  1.456783   2.830000\n",
      "2         1.171482  5.400000   1.171482\n",
      "3         1.103647  1.103647   7.890000\n",
      "4         1.058775  1.058775  11.460000\n",
      "...            ...       ...        ...\n",
      "11508     1.495142  1.495142   2.727778\n",
      "11509     1.658921  1.658921   2.338000\n",
      "11510     1.638972  1.638972   2.367059\n",
      "11511     1.605194  1.605194   2.437778\n",
      "11512     1.574627  1.574627   2.521111\n",
      "\n",
      "[11513 rows x 3 columns]\n",
      "time: 3 s (started: 2023-02-19 15:25:57 -05:00)\n"
     ]
    }
   ],
   "source": [
    "from collections import defaultdict\n",
    "\n",
    "favorite_df = defaultdict(list)\n",
    "p = re.compile('prev.*ema')\n",
    "\n",
    "features = ['season', 'home_implied', \n",
    "            'home_win', 'home_ml', 'away_ml',\n",
    "            #'prev_home_elo', 'prev_away_elo',\n",
    "            #'spread', 'home_spread',\n",
    "            'past_5_home_win_ratio', 'past_5_away_win_ratio',\n",
    "            ] \n",
    "columns = df.columns\n",
    "\n",
    "ema_features = [c for c in columns if p.match(c)]\n",
    "\n",
    "for idx, row in tqdm(df.iterrows(), total=df.shape[0]):\n",
    "    # home team is the favorite\n",
    "    \n",
    "    favorite_won = False\n",
    "    \n",
    "    if row['home_ml'] < row['away_ml']:\n",
    "        favorite_df['favorite_ml'].append(row['home_ml'])\n",
    "        favorite_df['underdog_ml'].append(row['away_ml'])\n",
    "        favorite_df['favorite_is_home'].append(1)\n",
    "        favorite_df['recent_favorite_win_ratio_5'].append(row['past_5_home_win_ratio'])\n",
    "        favorite_df['recent_underdog_win_ratio_5'].append(row['past_5_away_win_ratio'])  \n",
    "        favorite_df['recent_favorite_win_ratio_4'].append(row['past_4_home_win_ratio'])\n",
    "        favorite_df['recent_underdog_win_ratio_4'].append(row['past_4_away_win_ratio'])           \n",
    "        favorite_df['recent_favorite_win_ratio_3'].append(row['past_3_home_win_ratio'])\n",
    "        favorite_df['recent_underdog_win_ratio_3'].append(row['past_3_away_win_ratio'])\n",
    "        if row['home_win']:\n",
    "            favorite_won = True\n",
    "    else:\n",
    "        if not row['home_win']:\n",
    "            favorite_won = True\n",
    "        favorite_df['favorite_ml'].append(row['away_ml'])\n",
    "        favorite_df['underdog_ml'].append(row['home_ml'])\n",
    "\n",
    "        favorite_df['favorite_is_home'].append(0)\n",
    "        favorite_df['recent_favorite_win_ratio_5'].append(row['past_5_away_win_ratio']) \n",
    "        favorite_df['recent_underdog_win_ratio_5'].append(row['past_5_home_win_ratio'])\n",
    "        favorite_df['recent_favorite_win_ratio_4'].append(row['past_4_away_win_ratio']) \n",
    "        favorite_df['recent_underdog_win_ratio_4'].append(row['past_4_home_win_ratio'])\n",
    "        favorite_df['recent_favorite_win_ratio_3'].append(row['past_3_away_win_ratio']) \n",
    "        favorite_df['recent_underdog_win_ratio_3'].append(row['past_3_home_win_ratio'])\n",
    "\n",
    "    favorite_df['favorite_won'].append(1 if favorite_won else 0)\n",
    "    favorite_df['point_spread'].append(abs(row['home_spread']))\n",
    "\n",
    "\n",
    "favorite_df = pd.DataFrame(favorite_df)\n",
    "favorite_df = pd.concat([df.reset_index(drop=True),\n",
    "                      favorite_df.reset_index(drop=True)],axis=1)\n",
    "favorite_df['vig'] = 1/favorite_df['favorite_ml'] + 1/favorite_df['underdog_ml'] - 1\n",
    "favorite_df['favorite_implied'] = 1/favorite_df['favorite_ml'] - favorite_df['vig']/2\n",
    "favorite_df['underdog_implied'] = 1/favorite_df['underdog_ml'] - favorite_df['vig']/2\n",
    "\n",
    "favorite_df.to_csv('processed_nba_data.csv', header=True, index=False)\n",
    "print(favorite_df[['favorite_ml', 'home_ml', 'away_ml']])"
   ]
  },
  {
   "cell_type": "code",
   "execution_count": 4,
   "id": "9abb28d8-633c-4778-bc6a-027bf014aeda",
   "metadata": {},
   "outputs": [
    {
     "name": "stdout",
     "output_type": "stream",
     "text": [
      "n_favorites that won 7830\n",
      "favorite win ratio 0.6801007556675063\n"
     ]
    },
    {
     "data": {
      "image/png": "[encoded data removed]",
      "text/plain": [
       "<Figure size 640x480 with 1 Axes>"
      ]
     },
     "metadata": {},
     "output_type": "display_data"
    },
    {
     "name": "stdout",
     "output_type": "stream",
     "text": [
      "time: 117 ms (started: 2023-02-19 15:26:06 -05:00)\n"
     ]
    }
   ],
   "source": [
    "print('n_favorites that won', sum(favorite_df['favorite_won']))\n",
    "print('favorite win ratio', sum(favorite_df['favorite_won'])/len(favorite_df))\n",
    "favorite_df.favorite_won.value_counts().plot(kind='bar', title='Count (Favorites that won)');"
   ]
  },
  {
   "cell_type": "code",
   "execution_count": null,
   "id": "c578a101-e4c9-4be9-a2ae-065fae61f316",
   "metadata": {},
   "outputs": [],
   "source": [
    "from sklearn.decomposition import PCA\n",
    "X = favorite_df[['favorite_ml','favorite_implied', 'favorite_is_home', \n",
    "                'recent_favorite_win_ratio_3','recent_underdog_win_ratio_3',\n",
    "                'spread', 'point_spread', 'favorite_won']]\n",
    "X = X.dropna()\n",
    "y = X['favorite_won']\n",
    "pca = PCA(n_components=2)\n",
    "X = pca.fit_transform(X)\n"
   ]
  },
  {
   "cell_type": "code",
   "execution_count": null,
   "id": "2ddc2197-bb5f-42d3-a2bd-f27fa1f567db",
   "metadata": {},
   "outputs": [],
   "source": [
    "from imblearn.under_sampling import RandomUnderSampler\n",
    "import matplotlib.pyplot as plt\n",
    "from collections import Counter\n",
    "\n",
    "\n",
    "rus = RandomUnderSampler(random_state=42)\n",
    "X_rus, y_rus = rus.fit_resample(X, y)\n",
    "print('Original dataset shape %s' % Counter(y))\n",
    "print('Resampled dataset shape %s' % Counter(y_rus))\n"
   ]
  },
  {
   "cell_type": "markdown",
   "id": "3258ae8a-944e-4bac-a8ae-d606ea338f62",
   "metadata": {},
   "source": [
    "# Model 1: Log Reg"
   ]
  },
  {
   "cell_type": "code",
   "execution_count": 245,
   "id": "fcadaa03-2289-4ecb-a23d-3923489ebdce",
   "metadata": {},
   "outputs": [
    {
     "name": "stdout",
     "output_type": "stream",
     "text": [
      "time: 1.67 ms (started: 2023-02-19 17:06:50 -05:00)\n"
     ]
    }
   ],
   "source": [
    "import pandas as pd\n",
    "import numpy as np\n",
    "import pickle\n",
    "\n",
    "import warnings\n",
    "import sys\n",
    "import re\n",
    "from sklearn.metrics import mean_squared_error, mean_absolute_error, r2_score\n",
    "from sklearn import preprocessing\n",
    "from sklearn.linear_model import LogisticRegression \n",
    "from urllib.parse import urlparse\n",
    "import mlflow\n",
    "import mlflow.sklearn\n",
    "from sklearn.metrics import confusion_matrix, f1_score\n",
    "import imblearn\n",
    "\n",
    "def eval_metrics(actual, pred):\n",
    "    rmse = np.sqrt(mean_squared_error(actual, pred))\n",
    "    mae = mean_absolute_error(actual, pred)\n",
    "    r2 = r2_score(actual, pred)\n",
    "    return rmse, mae, r2\n",
    "\n",
    "def train_test_split(data):\n",
    "    cutoff = math.floor(len(data) * 0.8)\n",
    "    data = data.dropna()\n",
    "\n",
    "    train = data[data.index < cutoff].copy()\n",
    "    test = data[data.index >= cutoff].copy()\n",
    "    # train = data[data.season < 2020].copy()\n",
    "    # test = data[data.season >= 2020].copy()\n",
    "    rus = RandomUnderSampler(random_state=42)\n",
    "    print('Original dataset shape %s' % Counter(train['favorite_won']))\n",
    "    # train_x, train_y = rus.fit_resample(train, train_y)\n",
    "    favorite_winners = train[train.favorite_won == 1].index\n",
    "    sample_size = len(train[train.favorite_won == 0])\n",
    "    favorite_winners = train[train.favorite_won == 1].index\n",
    "    underdog_winners = train[train.favorite_won == 0].index\n",
    "\n",
    "    np.random.seed(42)\n",
    "    favorite_winners_indices = np.random.choice(favorite_winners, sample_size, replace=False)\n",
    "    underdog_winners_indices = np.random.choice(underdog_winners, sample_size, replace=False)\n",
    "    \n",
    "    \n",
    "    print(favorite_winners_indices[:5])\n",
    "    print(underdog_winners_indices[:5])\n",
    "    all_indices = np.concatenate((favorite_winners_indices,\n",
    "                                 underdog_winners_indices),\n",
    "                                 axis=0)\n",
    "    print(all_indices)\n",
    "    all_indices = np.sort(all_indices)\n",
    "    train = train.loc[all_indices]\n",
    "\n",
    "    print('Resampled dataset shape %s' % Counter(train['favorite_won']))\n",
    "    return train, test"
   ]
  },
  {
   "cell_type": "code",
   "execution_count": 246,
   "id": "199e118a-070f-4b8e-8fa1-84bfe4a92364",
   "metadata": {},
   "outputs": [
    {
     "name": "stdout",
     "output_type": "stream",
     "text": [
      "time: 460 ms (started: 2023-02-19 17:06:50 -05:00)\n"
     ]
    }
   ],
   "source": [
    "data = pd.read_csv('processed_nba_data.csv')\n",
    "features = ['favorite_implied', \n",
    "            'favorite_won', 'favorite_ml', 'underdog_ml',\n",
    "            'spread', 'point_spread',\n",
    "            'recent_favorite_win_ratio_4', 'recent_underdog_win_ratio_4',\n",
    "            'favorite_is_home'\n",
    "            ] \n",
    "data = data[features]\n",
    "data.dropna(inplace=True)"
   ]
  },
  {
   "cell_type": "code",
   "execution_count": 247,
   "id": "7b01d0b2-6e87-432e-839a-ee3030034924",
   "metadata": {},
   "outputs": [
    {
     "name": "stdout",
     "output_type": "stream",
     "text": [
      "Original dataset shape Counter({1: 6197, 0: 2898})\n",
      "[7406 7044 1807 7627 3419]\n",
      "[2884 7017 6804 1942 7192]\n",
      "[7406 7044 1807 ... 4767 5959 1607]\n",
      "Resampled dataset shape Counter({0: 2898, 1: 2898})\n",
      "time: 7.77 ms (started: 2023-02-19 17:06:51 -05:00)\n"
     ]
    }
   ],
   "source": [
    "# Undersample to reduce favorite win ratio in training data\n",
    "train, test = train_test_split(data)\n",
    "   \n",
    "train_y = train['favorite_won']\n",
    "test_y = test['favorite_won']\n",
    "train_x = train.drop([\"favorite_won\", 'favorite_ml', 'underdog_ml'], axis=1)\n",
    "test_x = test.drop([\"favorite_won\", 'favorite_ml', 'underdog_ml'], axis=1)\n",
    "\n",
    "scaler = preprocessing.StandardScaler()\n",
    "train_x = scaler.fit_transform(train_x)\n",
    "test_x = scaler.fit_transform(test_x)\n"
   ]
  },
  {
   "cell_type": "code",
   "execution_count": 248,
   "id": "560e6ef2-a300-4a0b-8b23-f74c8fdb183c",
   "metadata": {},
   "outputs": [
    {
     "name": "stdout",
     "output_type": "stream",
     "text": [
      "Original dataset shape Counter({1: 6197, 0: 2898})\n",
      "[7406 7044 1807 7627 3419]\n",
      "[2884 7017 6804 1942 7192]\n",
      "[7406 7044 1807 ... 4767 5959 1607]\n",
      "Resampled dataset shape Counter({0: 2898, 1: 2898})\n",
      "time: 7.86 ms (started: 2023-02-19 17:06:51 -05:00)\n"
     ]
    }
   ],
   "source": [
    "# Undersample to reduce favorite win ratio in training data\n",
    "train, test = train_test_split(data)\n",
    "   \n",
    "train_y = train['favorite_won']\n",
    "test_y = test['favorite_won']\n",
    "train_x = train.drop([\"favorite_won\", 'favorite_ml', 'underdog_ml'], axis=1)\n",
    "test_x = test.drop([\"favorite_won\", 'favorite_ml', 'underdog_ml'], axis=1)\n",
    "\n",
    "scaler = preprocessing.StandardScaler()\n",
    "train_x = scaler.fit_transform(train_x)\n",
    "test_x = scaler.fit_transform(test_x)\n"
   ]
  },
  {
   "cell_type": "code",
   "execution_count": 249,
   "id": "3ea49995-c2f6-497b-90a3-d30fe58a4688",
   "metadata": {},
   "outputs": [
    {
     "name": "stdout",
     "output_type": "stream",
     "text": [
      "61      0\n",
      "65      0\n",
      "66      0\n",
      "68      0\n",
      "69      0\n",
      "       ..\n",
      "9154    1\n",
      "9155    1\n",
      "9156    0\n",
      "9157    1\n",
      "9158    0\n",
      "Name: favorite_won, Length: 5796, dtype: int64\n",
      "time: 1.65 ms (started: 2023-02-19 17:06:51 -05:00)\n"
     ]
    }
   ],
   "source": [
    "print(train['favorite_won'])"
   ]
  },
  {
   "cell_type": "code",
   "execution_count": 250,
   "id": "d0d02ec3-d3ba-4f4f-90c0-6a9f8e111de7",
   "metadata": {},
   "outputs": [
    {
     "name": "stdout",
     "output_type": "stream",
     "text": [
      "n_favorites that won 2898\n",
      "favorite win ratio 0.5\n",
      "time: 937 µs (started: 2023-02-19 17:06:52 -05:00)\n"
     ]
    }
   ],
   "source": [
    "print('n_favorites that won', sum(train_y))\n",
    "print('favorite win ratio', sum(train_y)/len(train_y))"
   ]
  },
  {
   "cell_type": "code",
   "execution_count": 251,
   "id": "cee67c09-5666-44e0-8b39-7bfe04309b56",
   "metadata": {},
   "outputs": [
    {
     "name": "stdout",
     "output_type": "stream",
     "text": [
      "Accuracy: 0.6363636363636364\n",
      "[[ 316  447]\n",
      " [ 409 1182]]\n",
      "F1 Score: 0.7341614906832299\n",
      "   favorite_won  lr_favorite_prob  lr_pred_favorite  correct_pred\n",
      "0             0          0.385127                 0             1\n",
      "1             1          0.520906                 1             1\n",
      "2             1          0.637136                 1             1\n",
      "3             0          0.610700                 1             0\n",
      "4             1          0.427504                 1             1\n",
      "time: 58.5 ms (started: 2023-02-19 17:06:53 -05:00)\n"
     ]
    }
   ],
   "source": [
    "# alpha = float(sys.argv[1]) if len(sys.argv) > 1 else 0.5\n",
    "# l1_ratio = float(sys.argv[2]) if len(sys.argv) > 2 else 0.5\n",
    "lr = LogisticRegression(random_state=42)\n",
    "lr.fit(train_x, train_y)\n",
    "\n",
    "predictions = lr.predict_proba(test_x)\n",
    "predictions = [i[1] for i in predictions]\n",
    "\n",
    "predictions = pd.Series(predictions, name='lr_favorite_prob')\n",
    "pred_df = pd.concat([test_y.reset_index(drop=True), \n",
    "                predictions.reset_index(drop=True)], \n",
    "            axis=1)\n",
    "pred_df['lr_pred_favorite'] = pred_df['lr_favorite_prob'].map(lambda x: 0 if x < 0.4 else 1)\n",
    "pred_df['correct_pred'] = pred_df.apply(lambda x: \n",
    "    1 if x['favorite_won'] == x['lr_pred_favorite'] else 0, axis = 1)\n",
    "acc = pred_df['correct_pred'].sum()/len(pred_df.index)\n",
    "pred_df.to_csv('lr_predictions.csv', header=True, index=False)\n",
    "print(f'Accuracy: {acc}')\n",
    "\n",
    "confusion_mat = confusion_matrix(pred_df['favorite_won'], pred_df['lr_pred_favorite'])\n",
    "print(confusion_mat)\n",
    "tracking_url_type_store = urlparse(mlflow.get_tracking_uri()).scheme\n",
    "f1 = f1_score(pred_df['favorite_won'], pred_df['lr_pred_favorite'])\n",
    "print(f'F1 Score: {f1}')\n",
    "\n",
    "print(pred_df.head())\n",
    "\n",
    "importance =lr.coef_[0]\n",
    "\n",
    "filename = 'lr_model.sav'\n",
    "pickle.dump(lr, open(filename, 'wb'))"
   ]
  },
  {
   "cell_type": "code",
   "execution_count": 264,
   "id": "98d594a3-0b23-4535-a902-6e31a860b0ff",
   "metadata": {},
   "outputs": [
    {
     "name": "stdout",
     "output_type": "stream",
     "text": [
      "4659\n",
      "8150\n",
      "classes:  [0 1]\n",
      "time: 125 ms (started: 2023-02-19 17:12:42 -05:00)\n"
     ]
    }
   ],
   "source": [
    "# save meta labels\n",
    "\n",
    "all_useable_data = pd.concat([train,test])\n",
    "features = ['favorite_implied', \n",
    "            'spread', 'point_spread',\n",
    "            'recent_favorite_win_ratio_4', 'recent_underdog_win_ratio_4',\n",
    "            'favorite_is_home'\n",
    "            ] \n",
    "#print(all_useable_data)\n",
    "all_x = all_useable_data[features]\n",
    "all_y = all_useable_data['favorite_won']\n",
    "scaler = preprocessing.StandardScaler()\n",
    "all_x = scaler.fit_transform(all_x)\n",
    "predictions = lr.predict_proba(all_x)\n",
    "predictions = [i[1] for i in predictions]\n",
    "\n",
    "\n",
    "predictions = pd.Series(predictions, name='lr_favorite_prob')\n",
    "all_x = pd.DataFrame(all_x, columns = features)\n",
    "\n",
    "pred_df = pd.concat([predictions.reset_index(drop=True),\n",
    "                     all_x.reset_index(drop=True),\n",
    "            all_useable_data[['favorite_ml', 'underdog_ml', 'favorite_won']].reset_index(drop=True)], \n",
    "            axis=1)\n",
    "pred_df['lr_pred_favorite'] = pred_df['lr_favorite_prob'].map(lambda x: 0 if x < 0.45 else 1)\n",
    "pred_df['correct_pred'] = pred_df.apply(lambda x: \n",
    "    1 if x['favorite_won'] == x['lr_pred_favorite'] else 0, axis = 1)\n",
    "acc = pred_df['correct_pred'].sum()/len(pred_df.index)\n",
    "pred_df.to_csv('all_lr_predictions.csv', header=True, index=False)\n",
    "print(sum(pred_df['lr_pred_favorite']))\n",
    "print(len(pred_df['lr_pred_favorite']))\n",
    "\n",
    "print('classes: ', lr.classes_)"
   ]
  },
  {
   "cell_type": "code",
   "execution_count": 263,
   "id": "1afacd97-3826-446a-9915-c43755f1884c",
   "metadata": {},
   "outputs": [
    {
     "data": {
      "text/plain": [
       "5796"
      ]
     },
     "execution_count": 263,
     "metadata": {},
     "output_type": "execute_result"
    },
    {
     "name": "stdout",
     "output_type": "stream",
     "text": [
      "time: 1.13 ms (started: 2023-02-19 17:12:31 -05:00)\n"
     ]
    }
   ],
   "source": [
    "len(train_x)"
   ]
  },
  {
   "cell_type": "code",
   "execution_count": null,
   "id": "468b3bac-9796-486c-af3d-3a1e1b8c100d",
   "metadata": {},
   "outputs": [],
   "source": []
  },
  {
   "cell_type": "markdown",
   "id": "fb6184ba-3a3e-42b4-af8b-64b8ebbe5d29",
   "metadata": {},
   "source": [
    "# Model 2: LR with meta labels"
   ]
  },
  {
   "cell_type": "code",
   "execution_count": 291,
   "id": "0f476aaf-6b32-42b5-ae42-02a287a9505e",
   "metadata": {},
   "outputs": [
    {
     "name": "stdout",
     "output_type": "stream",
     "text": [
      "time: 42.1 ms (started: 2023-02-19 17:58:07 -05:00)\n"
     ]
    }
   ],
   "source": [
    "data = pd.read_csv('all_lr_predictions.csv')\n",
    "data['bookie_pred'] = data.apply(lambda x: 1 if x['favorite_ml'] < x['underdog_ml'] else 0, axis=1)\n",
    "features = ['favorite_won', 'favorite_ml', 'underdog_ml',\n",
    "            'spread', 'point_spread',\n",
    "            'recent_favorite_win_ratio_4', 'recent_underdog_win_ratio_4',\n",
    "            'favorite_is_home','bookie_pred']\n",
    "data = data[features]\n",
    "train = data[data.index < 5796].copy()\n",
    "test = data[data.index >= 5796].copy()\n",
    "train_x = train.drop([\"favorite_won\", 'favorite_ml', 'underdog_ml',], axis=1)\n",
    "test_x = test.drop([\"favorite_won\", 'favorite_ml', 'underdog_ml'], axis=1)\n",
    "train_y = train[[\"favorite_won\"]]\n",
    "test_y = test[[\"favorite_won\"]]"
   ]
  },
  {
   "cell_type": "code",
   "execution_count": 305,
   "id": "3df6870c-add2-4f7c-a7e5-24a8050f0889",
   "metadata": {},
   "outputs": [
    {
     "name": "stdout",
     "output_type": "stream",
     "text": [
      "LR Accuracy: 0.6338147833474936\n",
      "[[ 339  424]\n",
      " [ 438 1153]]\n",
      "Bookie Accuracy: 0.6758708581138487\n",
      "[[   0  763]\n",
      " [   0 1591]]\n",
      "F1 Score: 0.7279040404040404\n",
      "      bookie_pred  secondary_winning_prob  secondary_pred_favorite  \\\n",
      "0               1                0.386414                        0   \n",
      "1               1                0.508249                        1   \n",
      "2               1                0.618643                        1   \n",
      "3               1                0.595155                        1   \n",
      "4               1                0.418966                        1   \n",
      "...           ...                     ...                      ...   \n",
      "2349            1                0.464127                        1   \n",
      "2350            1                0.432089                        1   \n",
      "2351            1                0.414800                        1   \n",
      "2352            1                0.411213                        1   \n",
      "2353            1                0.468260                        1   \n",
      "\n",
      "      final_pred  favorite_won  final_correct_pred  \n",
      "0              0             0                   1  \n",
      "1              1             1                   1  \n",
      "2              1             1                   1  \n",
      "3              1             0                   0  \n",
      "4              1             1                   1  \n",
      "...          ...           ...                 ...  \n",
      "2349           1             1                   1  \n",
      "2350           1             1                   1  \n",
      "2351           1             0                   0  \n",
      "2352           1             1                   1  \n",
      "2353           1             0                   0  \n",
      "\n",
      "[2354 rows x 6 columns]\n",
      "time: 92.3 ms (started: 2023-02-19 18:06:03 -05:00)\n"
     ]
    }
   ],
   "source": [
    "secondary_lr = LogisticRegression(random_state=42)\n",
    "secondary_lr.fit(train_x, train_y)\n",
    "\n",
    "predictions = secondary_lr.predict_proba(test_x)\n",
    "predictions = [i[1] for i in predictions]\n",
    "\n",
    "predictions = pd.Series(predictions, name='secondary_winning_prob')\n",
    "pred_df = pd.concat([test_y.reset_index(drop=True),\n",
    "                     test['bookie_pred'].reset_index(drop=True),\n",
    "                    predictions.reset_index(drop=True),\n",
    "                    # test['favorite_implied'].reset_index(drop=True),\n",
    "                    test['favorite_ml'].reset_index(drop=True),\n",
    "                    test['underdog_ml'].reset_index(drop=True)], \n",
    "                    axis=1)\n",
    "\n",
    "pred_df['secondary_pred_favorite'] = pred_df['secondary_winning_prob'].map(lambda x: 0 if x < 0.4 else 1)\n",
    "\n",
    "pred_df['final_pred'] = pred_df.apply \\\n",
    "    (lambda x: 1 if x['bookie_pred'] == 1 and x['secondary_pred_favorite'] == 1 \\\n",
    "     else 0, axis=1)\n",
    "   \n",
    "\n",
    "pred_df['final_correct_pred'] = pred_df.apply(lambda x: \n",
    "    1 if x['favorite_won'] == x['final_pred'] else 0, axis = 1)\n",
    "pred_df['bookie_correct_pred'] = pred_df.apply(lambda x: \n",
    "    1 if x['favorite_won'] == x['bookie_pred'] else 0, axis = 1)\n",
    "acc = pred_df['final_correct_pred'].sum()/len(pred_df.index)\n",
    "bookie_acc = pred_df['bookie_correct_pred'].sum()/len(pred_df.index)\n",
    "\n",
    "pred_df.to_csv('secondary_lr_predictions.csv', header=True, index=False)\n",
    "print(f'LR Accuracy: {acc}')\n",
    "\n",
    "confusion_mat = confusion_matrix(pred_df['favorite_won'], pred_df['final_pred'])\n",
    "print(confusion_mat)\n",
    "print(f'Bookie Accuracy: {bookie_acc}')\n",
    "confusion_mat = confusion_matrix(pred_df['favorite_won'], pred_df['bookie_pred'])\n",
    "print(confusion_mat)\n",
    "f1 = f1_score(pred_df['favorite_won'], pred_df['final_pred'])\n",
    "print(f'F1 Score: {f1}')\n",
    "\n",
    "print(pred_df[['bookie_pred', \n",
    "               'secondary_winning_prob', \n",
    "               'secondary_pred_favorite',\n",
    "               'final_pred',\n",
    "               'favorite_won',\n",
    "               'final_correct_pred']])  \n",
    "filename = 'secondary_lr_model.sav'\n",
    "pickle.dump(secondary_lr, open(filename, 'wb'))"
   ]
  },
  {
   "cell_type": "code",
   "execution_count": 268,
   "id": "b1313256-e56d-4328-b95e-e805d510133a",
   "metadata": {},
   "outputs": [
    {
     "data": {
      "image/png": "[encoded data removed]",
      "text/plain": [
       "<Figure size 640x480 with 1 Axes>"
      ]
     },
     "metadata": {},
     "output_type": "display_data"
    },
    {
     "name": "stdout",
     "output_type": "stream",
     "text": [
      "time: 87.1 ms (started: 2023-02-19 17:16:35 -05:00)\n"
     ]
    }
   ],
   "source": [
    "pred_df.secondary_pred_favorite.value_counts()\\\n",
    "    .plot(kind='bar', title='Count (Secondary model chooses favorite)');"
   ]
  },
  {
   "cell_type": "code",
   "execution_count": 45,
   "id": "99fb611f-9c73-4633-95d0-80cdfa0f2e3b",
   "metadata": {},
   "outputs": [
    {
     "name": "stdout",
     "output_type": "stream",
     "text": [
      "Feature: 0, Score: 0.09517\n",
      "Feature: 1, Score: -0.04432\n",
      "Feature: 2, Score: 0.54377\n",
      "Feature: 3, Score: -0.05331\n",
      "Feature: 4, Score: 0.02954\n",
      "Feature: 5, Score: -0.03712\n",
      "Index(['favorite_implied', 'favorite_won', 'favorite_ml', 'underdog_ml',\n",
      "       'spread', 'point_spread', 'recent_favorite_win_ratio_5',\n",
      "       'recent_underdog_win_ratio_5', 'favorite_is_home'],\n",
      "      dtype='object')\n",
      "8577     0.734102\n",
      "8578     0.541123\n",
      "8579     0.870674\n",
      "8580     0.893217\n",
      "8581     0.521868\n",
      "           ...   \n",
      "11508    0.651117\n",
      "11509    0.587543\n",
      "11510    0.593837\n",
      "11511    0.606384\n",
      "11512    0.619210\n",
      "Name: favorite_implied, Length: 2936, dtype: float64\n",
      "time: 1.45 ms (started: 2023-02-19 15:42:03 -05:00)\n"
     ]
    }
   ],
   "source": [
    "#summarize feature importance\n",
    "for i,v in enumerate(importance):\n",
    "    print('Feature: %0d, Score: %.5f' % (i,v))\n",
    "print(test.columns)\n",
    "print(test.favorite_implied)"
   ]
  },
  {
   "cell_type": "code",
   "execution_count": null,
   "id": "9004666b-1d3b-467d-a170-ec0bd00da682",
   "metadata": {},
   "outputs": [],
   "source": [
    "pred_df['secondary_winning_prob'].plot()"
   ]
  },
  {
   "cell_type": "code",
   "execution_count": null,
   "id": "0bea46b4-3b97-4e85-9466-08d37929eaa2",
   "metadata": {},
   "outputs": [],
   "source": [
    "print(f'n_bet_favorite:', sum(pred_df['final_pred']))\n",
    "print(f'n_games:', len(pred_df))"
   ]
  },
  {
   "cell_type": "markdown",
   "id": "6aeb2046-79a1-4e11-bcfc-acf4487a5735",
   "metadata": {},
   "source": [
    "# Backtest"
   ]
  },
  {
   "cell_type": "code",
   "execution_count": null,
   "id": "1187c952-4acd-4244-8d7a-fa102b8b8075",
   "metadata": {},
   "outputs": [],
   "source": [
    "# assuming bet probability predictions follow a standard distribution\n",
    "from statistics import NormalDist\n",
    "def prob_to_bet_size(p):\n",
    "    z_score = (p-1/2)/sqrt(p*(1-p))\n",
    "    #'Cumulative distribution function for the standard normal distribution'\n",
    "    bet_size = 2*NormalDist(mu=0, sigma=1).cdf(z_score)-1\n",
    "    return bet_size"
   ]
  },
  {
   "cell_type": "code",
   "execution_count": null,
   "id": "4d117ca1-dddc-402d-8286-db02c66738cb",
   "metadata": {},
   "outputs": [],
   "source": [
    "# bet on favorites\n",
    "\n",
    "def bet_favorite(df):\n",
    "    balance = 100\n",
    "    for index, row in df.iterrows():\n",
    "        bet_favorite = False\n",
    "        bet_size = row['secondary_lr_\n",
    "        if row['final_pred'] == 1:\n",
    "        df.at[index, 'bet_won'] = 1\n",
    "        df.at[index, 'profit'] = 1\n",
    "        df.at[index, 'bet_amount'] = \n",
    "   \n",
    "        df.at[index, 'balance'] = balance\n",
    "    return balance"
   ]
  },
  {
   "cell_type": "code",
   "execution_count": null,
   "id": "983646ab-8c3f-4640-8066-5205bbd5e50e",
   "metadata": {},
   "outputs": [],
   "source": [
    "df = pd.read_csv('secondary_lr_predictions.csv')\n"
   ]
  }
 ],
 "metadata": {
  "kernelspec": {
   "display_name": "ml-env",
   "language": "python",
   "name": "ml-env"
  },
  "language_info": {
   "codemirror_mode": {
    "name": "ipython",
    "version": 3
   },
   "file_extension": ".py",
   "mimetype": "text/x-python",
   "name": "python",
   "nbconvert_exporter": "python",
   "pygments_lexer": "ipython3",
   "version": "3.10.9"
  }
 },
 "nbformat": 4,
 "nbformat_minor": 5
}
