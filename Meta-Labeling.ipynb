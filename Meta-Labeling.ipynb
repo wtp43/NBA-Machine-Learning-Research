{
 "cells": [
  {
   "cell_type": "code",
   "execution_count": 1,
   "id": "7a9902a4-3cd3-4f74-91bb-1461938afa35",
   "metadata": {},
   "outputs": [
    {
     "name": "stdout",
     "output_type": "stream",
     "text": [
      "time: 1.19 s (started: 2023-02-19 15:25:56 -05:00)\n"
     ]
    }
   ],
   "source": [
    "%%capture\n",
    "import warnings\n",
    "import math\n",
    "import pickle\n",
    "import pandas as pd\n",
    "import numpy as np\n",
    "from bokeh.plotting import figure, show\n",
    "from bokeh.io import output_notebook, push_notebook, show\n",
    "import matplotlib.pyplot as plt\n",
    "from datetime import date, datetime\n",
    "from tqdm.notebook import tqdm\n",
    "import re\n",
    "warnings.filterwarnings('ignore')\n",
    "try:\n",
    "    %load_ext autotime\n",
    "    %load_ext jupyterlab_notify\n",
    "except:\n",
    "    !pip3 install ipython-autotime\n",
    "    %load_ext autotime\n"
   ]
  },
  {
   "cell_type": "code",
   "execution_count": 2,
   "id": "4d5eda5a-e243-43e5-a075-35244a1e9538",
   "metadata": {},
   "outputs": [
    {
     "name": "stdout",
     "output_type": "stream",
     "text": [
      "time: 389 ms (started: 2023-02-19 15:25:57 -05:00)\n"
     ]
    }
   ],
   "source": [
    "df = pd.read_csv('modern_matches2.csv')\n",
    "# df = df[['home_ml', 'away_ml', 'over', 'under',\n",
    "#         'spread', 'home_spread', 'home_ps_odds', 'away_spread', 'away_ps_odds', \n",
    "#         'movl', 'h_win', 'playoff_game', 'past_3_home_favorite_wins', \n",
    "#          'past_3_away_favorite_wins', 'season', 'home_implied']]\n",
    "df['vig'] = 1/df['home_ml'] + 1/df['away_ml'] \n",
    "df = df.drop(['favorite_won'],axis=1)\n",
    "df=df.dropna(subset=['home_ml','away_ml'])"
   ]
  },
  {
   "cell_type": "code",
   "execution_count": 3,
   "id": "63975a89-8087-4e15-a38a-5ec403fd4539",
   "metadata": {},
   "outputs": [
    {
     "data": {
      "application/vnd.jupyter.widget-view+json": {
       "model_id": "d2a4479b4c064f6a8fcbc7f4b2a920b1",
       "version_major": 2,
       "version_minor": 0
      },
      "text/plain": [
       "  0%|          | 0/11513 [00:00<?, ?it/s]"
      ]
     },
     "metadata": {},
     "output_type": "display_data"
    },
    {
     "name": "stdout",
     "output_type": "stream",
     "text": [
      "       favorite_ml   home_ml    away_ml\n",
      "0         1.099266  1.099266   8.100000\n",
      "1         1.456783  1.456783   2.830000\n",
      "2         1.171482  5.400000   1.171482\n",
      "3         1.103647  1.103647   7.890000\n",
      "4         1.058775  1.058775  11.460000\n",
      "...            ...       ...        ...\n",
      "11508     1.495142  1.495142   2.727778\n",
      "11509     1.658921  1.658921   2.338000\n",
      "11510     1.638972  1.638972   2.367059\n",
      "11511     1.605194  1.605194   2.437778\n",
      "11512     1.574627  1.574627   2.521111\n",
      "\n",
      "[11513 rows x 3 columns]\n",
      "time: 3 s (started: 2023-02-19 15:25:57 -05:00)\n"
     ]
    }
   ],
   "source": [
    "from collections import defaultdict\n",
    "\n",
    "favorite_df = defaultdict(list)\n",
    "p = re.compile('prev.*ema')\n",
    "\n",
    "features = ['season', 'home_implied', \n",
    "            'home_win', 'home_ml', 'away_ml',\n",
    "            #'prev_home_elo', 'prev_away_elo',\n",
    "            #'spread', 'home_spread',\n",
    "            'past_5_home_win_ratio', 'past_5_away_win_ratio',\n",
    "            ] \n",
    "columns = df.columns\n",
    "\n",
    "ema_features = [c for c in columns if p.match(c)]\n",
    "\n",
    "for idx, row in tqdm(df.iterrows(), total=df.shape[0]):\n",
    "    # home team is the favorite\n",
    "    \n",
    "    favorite_won = False\n",
    "    \n",
    "    if row['home_ml'] < row['away_ml']:\n",
    "        favorite_df['favorite_ml'].append(row['home_ml'])\n",
    "        favorite_df['underdog_ml'].append(row['away_ml'])\n",
    "        favorite_df['favorite_is_home'].append(1)\n",
    "        favorite_df['recent_favorite_win_ratio_5'].append(row['past_5_home_win_ratio'])\n",
    "        favorite_df['recent_underdog_win_ratio_5'].append(row['past_5_away_win_ratio'])  \n",
    "        favorite_df['recent_favorite_win_ratio_4'].append(row['past_4_home_win_ratio'])\n",
    "        favorite_df['recent_underdog_win_ratio_4'].append(row['past_4_away_win_ratio'])           \n",
    "        favorite_df['recent_favorite_win_ratio_3'].append(row['past_3_home_win_ratio'])\n",
    "        favorite_df['recent_underdog_win_ratio_3'].append(row['past_3_away_win_ratio'])\n",
    "        if row['home_win']:\n",
    "            favorite_won = True\n",
    "    else:\n",
    "        if not row['home_win']:\n",
    "            favorite_won = True\n",
    "        favorite_df['favorite_ml'].append(row['away_ml'])\n",
    "        favorite_df['underdog_ml'].append(row['home_ml'])\n",
    "\n",
    "        favorite_df['favorite_is_home'].append(0)\n",
    "        favorite_df['recent_favorite_win_ratio_5'].append(row['past_5_away_win_ratio']) \n",
    "        favorite_df['recent_underdog_win_ratio_5'].append(row['past_5_home_win_ratio'])\n",
    "        favorite_df['recent_favorite_win_ratio_4'].append(row['past_4_away_win_ratio']) \n",
    "        favorite_df['recent_underdog_win_ratio_4'].append(row['past_4_home_win_ratio'])\n",
    "        favorite_df['recent_favorite_win_ratio_3'].append(row['past_3_away_win_ratio']) \n",
    "        favorite_df['recent_underdog_win_ratio_3'].append(row['past_3_home_win_ratio'])\n",
    "\n",
    "    favorite_df['favorite_won'].append(1 if favorite_won else 0)\n",
    "    favorite_df['point_spread'].append(abs(row['home_spread']))\n",
    "\n",
    "\n",
    "favorite_df = pd.DataFrame(favorite_df)\n",
    "favorite_df = pd.concat([df.reset_index(drop=True),\n",
    "                      favorite_df.reset_index(drop=True)],axis=1)\n",
    "favorite_df['vig'] = 1/favorite_df['favorite_ml'] + 1/favorite_df['underdog_ml'] - 1\n",
    "favorite_df['favorite_implied'] = 1/favorite_df['favorite_ml'] - favorite_df['vig']/2\n",
    "favorite_df['underdog_implied'] = 1/favorite_df['underdog_ml'] - favorite_df['vig']/2\n",
    "\n",
    "favorite_df.to_csv('processed_nba_data.csv', header=True, index=False)\n",
    "print(favorite_df[['favorite_ml', 'home_ml', 'away_ml']])"
   ]
  },
  {
   "cell_type": "code",
   "execution_count": 4,
   "id": "9abb28d8-633c-4778-bc6a-027bf014aeda",
   "metadata": {},
   "outputs": [
    {
     "name": "stdout",
     "output_type": "stream",
     "text": [
      "n_favorites that won 7830\n",
      "favorite win ratio 0.6801007556675063\n"
     ]
    },
    {
     "data": {
      "image/png": "[encoded data removed]",
      "text/plain": [
       "<Figure size 640x480 with 1 Axes>"
      ]
     },
     "metadata": {},
     "output_type": "display_data"
    },
    {
     "name": "stdout",
     "output_type": "stream",
     "text": [
      "time: 117 ms (started: 2023-02-19 15:26:06 -05:00)\n"
     ]
    }
   ],
   "source": [
    "print('n_favorites that won', sum(favorite_df['favorite_won']))\n",
    "print('favorite win ratio', sum(favorite_df['favorite_won'])/len(favorite_df))\n",
    "favorite_df.favorite_won.value_counts().plot(kind='bar', title='Count (Favorites that won)');"
   ]
  },
  {
   "cell_type": "code",
   "execution_count": null,
   "id": "c578a101-e4c9-4be9-a2ae-065fae61f316",
   "metadata": {},
   "outputs": [],
   "source": [
    "from sklearn.decomposition import PCA\n",
    "X = favorite_df[['favorite_ml','favorite_implied', 'favorite_is_home', \n",
    "                'recent_favorite_win_ratio_3','recent_underdog_win_ratio_3',\n",
    "                'spread', 'point_spread', 'favorite_won']]\n",
    "X = X.dropna()\n",
    "y = X['favorite_won']\n",
    "pca = PCA(n_components=2)\n",
    "X = pca.fit_transform(X)\n"
   ]
  },
  {
   "cell_type": "markdown",
   "id": "3258ae8a-944e-4bac-a8ae-d606ea338f62",
   "metadata": {},
   "source": [
    "# Model 1: Log Reg"
   ]
  },
  {
   "cell_type": "code",
   "execution_count": 245,
   "id": "fcadaa03-2289-4ecb-a23d-3923489ebdce",
   "metadata": {},
   "outputs": [
    {
     "name": "stdout",
     "output_type": "stream",
     "text": [
      "time: 1.67 ms (started: 2023-02-19 17:06:50 -05:00)\n"
     ]
    }
   ],
   "source": [
    "import pandas as pd\n",
    "import numpy as np\n",
    "import pickle\n",
    "\n",
    "import warnings\n",
    "import sys\n",
    "import re\n",
    "from sklearn.metrics import mean_squared_error, mean_absolute_error, r2_score\n",
    "from sklearn import preprocessing\n",
    "from sklearn.linear_model import LogisticRegression \n",
    "from urllib.parse import urlparse\n",
    "import mlflow\n",
    "import mlflow.sklearn\n",
    "from sklearn.metrics import confusion_matrix, f1_score\n",
    "import imblearn\n",
    "\n",
    "def eval_metrics(actual, pred):\n",
    "    rmse = np.sqrt(mean_squared_error(actual, pred))\n",
    "    mae = mean_absolute_error(actual, pred)\n",
    "    r2 = r2_score(actual, pred)\n",
    "    return rmse, mae, r2\n",
    "\n",
    "def train_test_split(data):\n",
    "    cutoff = math.floor(len(data) * 0.8)\n",
    "    data = data.dropna()\n",
    "\n",
    "    train = data[data.index < cutoff].copy()\n",
    "    test = data[data.index >= cutoff].copy()\n",
    "    # train = data[data.season < 2020].copy()\n",
    "    # test = data[data.season >= 2020].copy()\n",
    "    rus = RandomUnderSampler(random_state=42)\n",
    "    print('Original dataset shape %s' % Counter(train['favorite_won']))\n",
    "    # train_x, train_y = rus.fit_resample(train, train_y)\n",
    "    favorite_winners = train[train.favorite_won == 1].index\n",
    "    sample_size = len(train[train.favorite_won == 0])\n",
    "    favorite_winners = train[train.favorite_won == 1].index\n",
    "    underdog_winners = train[train.favorite_won == 0].index\n",
    "\n",
    "    np.random.seed(42)\n",
    "    favorite_winners_indices = np.random.choice(favorite_winners, sample_size, replace=False)\n",
    "    underdog_winners_indices = np.random.choice(underdog_winners, sample_size, replace=False)\n",
    "    \n",
    "    \n",
    "    print(favorite_winners_indices[:5])\n",
    "    print(underdog_winners_indices[:5])\n",
    "    all_indices = np.concatenate((favorite_winners_indices,\n",
    "                                 underdog_winners_indices),\n",
    "                                 axis=0)\n",
    "    print(all_indices)\n",
    "    all_indices = np.sort(all_indices)\n",
    "    train = train.loc[all_indices]\n",
    "\n",
    "    print('Resampled dataset shape %s' % Counter(train['favorite_won']))\n",
    "    return train, test"
   ]
  },
  {
   "cell_type": "code",
   "execution_count": 250,
   "id": "d0d02ec3-d3ba-4f4f-90c0-6a9f8e111de7",
   "metadata": {},
   "outputs": [
    {
     "name": "stdout",
     "output_type": "stream",
     "text": [
      "n_favorites that won 2898\n",
      "favorite win ratio 0.5\n",
      "time: 937 µs (started: 2023-02-19 17:06:52 -05:00)\n"
     ]
    }
   ],
   "source": [
    "print('n_favorites that won', sum(train_y))\n",
    "print('favorite win ratio', sum(train_y)/len(train_y))"
   ]
  },
  {
   "cell_type": "code",
   "execution_count": 251,
   "id": "cee67c09-5666-44e0-8b39-7bfe04309b56",
   "metadata": {},
   "outputs": [
    {
     "name": "stdout",
     "output_type": "stream",
     "text": [
      "Accuracy: 0.6363636363636364\n",
      "[[ 316  447]\n",
      " [ 409 1182]]\n",
      "F1 Score: 0.7341614906832299\n",
      "   favorite_won  lr_favorite_prob  lr_pred_favorite  correct_pred\n",
      "0             0          0.385127                 0             1\n",
      "1             1          0.520906                 1             1\n",
      "2             1          0.637136                 1             1\n",
      "3             0          0.610700                 1             0\n",
      "4             1          0.427504                 1             1\n",
      "time: 58.5 ms (started: 2023-02-19 17:06:53 -05:00)\n"
     ]
    }
   ],
   "source": [
    "# alpha = float(sys.argv[1]) if len(sys.argv) > 1 else 0.5\n",
    "# l1_ratio = float(sys.argv[2]) if len(sys.argv) > 2 else 0.5\n",
    "lr = LogisticRegression(random_state=42)\n",
    "lr.fit(train_x, train_y)\n",
    "\n",
    "predictions = lr.predict_proba(test_x)\n",
    "predictions = [i[1] for i in predictions]\n",
    "\n",
    "predictions = pd.Series(predictions, name='lr_favorite_prob')\n",
    "pred_df = pd.concat([test_y.reset_index(drop=True), \n",
    "                predictions.reset_index(drop=True)], \n",
    "            axis=1)\n",
    "\n",
    "pred_df['lr_pred_favorite'] = pred_df['lr_favorite_prob'].map(lambda x: 0 if x < 0.4 else 1)\n",
    "pred_df['correct_pred'] = pred_df.apply(lambda x: \n",
    "    1 if x['favorite_won'] == x['lr_pred_favorite'] else 0, axis = 1)\n",
    "acc = pred_df['correct_pred'].sum()/len(pred_df.index)\n",
    "pred_df.to_csv('lr_predictions.csv', header=True, index=False)\n",
    "print(f'Accuracy: {acc}')\n",
    "\n",
    "confusion_mat = confusion_matrix(pred_df['favorite_won'], pred_df['lr_pred_favorite'])\n",
    "print(confusion_mat)\n",
    "f1 = f1_score(pred_df['favorite_won'], pred_df['lr_pred_favorite'])\n",
    "print(f'F1 Score: {f1}')\n",
    "\n",
    "print(pred_df.head())\n",
    "\n",
    "importance =lr.coef_[0]\n",
    "\n",
    "filename = 'lr_model.sav'\n",
    "pickle.dump(lr, open(filename, 'wb'))"
   ]
  },
  {
   "cell_type": "markdown",
   "id": "9e2b6199-c689-412e-946c-89ee3fcbffd7",
   "metadata": {},
   "source": [
    "# Model 1: Bookie Prediction (High Recall)"
   ]
  },
  {
   "cell_type": "markdown",
   "id": "22d34877-d512-45f5-aef6-0cba98155fc8",
   "metadata": {},
   "source": [
    "We employ the most basic strategy of using the bookie's prediction to make our bet.\n",
    "We acknowledge that the bookie's odds are very accurate.\n",
    "We want a strategy with high recall initially so that we can use it as meta labels in a secondary model."
   ]
  },
  {
   "cell_type": "code",
   "execution_count": 480,
   "id": "e68c9306-f7e6-4140-8502-5b77b39ecd2b",
   "metadata": {},
   "outputs": [
    {
     "name": "stdout",
     "output_type": "stream",
     "text": [
      "0\n",
      "Original dataset shape Counter({1: 5764, 0: 2659})\n",
      "[6372 7115 3606 5895 7221]\n",
      "[5525 6915 8400 2633 3739]\n",
      "[6372 7115 3606 ... 5123 1815 8855]\n",
      "Resampled dataset shape Counter({0: 2659, 1: 2659})\n",
      "Accuracy: 0.6660384470410856\n",
      "[[   0  886]\n",
      " [   0 1767]]\n",
      "F1 Score: 0.7995475113122172\n",
      "time: 630 ms (started: 2023-02-21 16:26:23 -05:00)\n"
     ]
    }
   ],
   "source": [
    "data = pd.read_csv('processed_nba_data.csv')\n",
    "data.dropna(inplace=True)\n",
    "# Undersample to reduce favorite win ratio in training data\n",
    "\n",
    "threshold = 1/0.68\n",
    "threshold = 0\n",
    "print(threshold)\n",
    "\n",
    "data['bookie_pred'] = data.apply(lambda x: 1 if x['favorite_ml'] > threshold else 0, axis=1)\n",
    "data['bookie_correct_pred'] = data.apply(lambda x: 1 if x['bookie_pred'] == x['favorite_won'] else 0, axis=1)\n",
    "train, test = train_test_split(data)\n",
    "\n",
    "acc = test['bookie_correct_pred'].sum()/len(test.index)\n",
    "print(f'Accuracy: {acc}')\n",
    "\n",
    "confusion_mat = confusion_matrix(test['favorite_won'], test['bookie_pred'])\n",
    "print(confusion_mat)\n",
    "f1 = f1_score(test['favorite_won'], test['bookie_pred'])\n",
    "print(f'F1 Score: {f1}')\n",
    "\n",
    "#print('classes: ', lr.classes_)"
   ]
  },
  {
   "cell_type": "markdown",
   "id": "fb6184ba-3a3e-42b4-af8b-64b8ebbe5d29",
   "metadata": {},
   "source": [
    "# Model 2: LR with meta labels"
   ]
  },
  {
   "cell_type": "code",
   "execution_count": 470,
   "id": "07fdd237-75c3-4571-af10-b55432d0ec34",
   "metadata": {},
   "outputs": [
    {
     "name": "stdout",
     "output_type": "stream",
     "text": [
      "time: 1.38 ms (started: 2023-02-21 12:40:56 -05:00)\n"
     ]
    }
   ],
   "source": [
    "# Feature engineering\n",
    "data['spread_ps'] = data['spread']*data['point_spread']\n",
    "data['spread_ps_favorite_implied'] = data['spread']*data['point_spread']*data['favorite_implied']\n",
    "data['implied_favorite_is_home'] = data['favorite_implied']*(data['favorite_is_home']+0.5)"
   ]
  },
  {
   "cell_type": "code",
   "execution_count": 471,
   "id": "0f476aaf-6b32-42b5-ae42-02a287a9505e",
   "metadata": {},
   "outputs": [
    {
     "name": "stdout",
     "output_type": "stream",
     "text": [
      "Original dataset shape Counter({1: 5764, 0: 2659})\n",
      "[6372 7115 3606 5895 7221]\n",
      "[5525 6915 8400 2633 3739]\n",
      "[6372 7115 3606 ... 5123 1815 8855]\n",
      "Resampled dataset shape Counter({0: 2659, 1: 2659})\n",
      "time: 19.7 ms (started: 2023-02-21 12:40:57 -05:00)\n"
     ]
    }
   ],
   "source": [
    "features = ['favorite_won', 'favorite_ml', 'underdog_ml',\n",
    "            #'spread', 'point_spread', 'favorite_implied',\n",
    "            'recent_favorite_win_ratio_4', 'recent_underdog_win_ratio_4',\n",
    "            'favorite_is_home','bookie_pred',\n",
    "            'spread_ps', 'spread_ps_favorite_implied', 'favorite_implied',\n",
    "            'implied_favorite_is_home']\n",
    "\n",
    "\n",
    "data = data[features]\n",
    "train, test = train_test_split(data)\n",
    "train_y = train['favorite_won']\n",
    "test_y = test['favorite_won']\n",
    "train_x = train.drop([\"favorite_won\", 'favorite_ml', 'underdog_ml'], axis=1)\n",
    "test_x = test.drop([\"favorite_won\", 'favorite_ml', 'underdog_ml'], axis=1)\n",
    "\n",
    "# Scale features\n",
    "scaler = preprocessing.StandardScaler()\n",
    "train_x = scaler.fit_transform(train_x)\n",
    "test_x = scaler.fit_transform(test_x)"
   ]
  },
  {
   "cell_type": "code",
   "execution_count": 472,
   "id": "ce9ead99-936c-4539-b12b-de3ad95e3911",
   "metadata": {},
   "outputs": [
    {
     "name": "stdout",
     "output_type": "stream",
     "text": [
      "84      1\n",
      "85      1\n",
      "86      1\n",
      "95      1\n",
      "109     1\n",
      "       ..\n",
      "8854    1\n",
      "8855    1\n",
      "8856    1\n",
      "8858    1\n",
      "8859    1\n",
      "Name: bookie_pred, Length: 5318, dtype: int64\n",
      "time: 938 µs (started: 2023-02-21 12:40:57 -05:00)\n"
     ]
    }
   ],
   "source": [
    "print(train['bookie_pred'])"
   ]
  },
  {
   "cell_type": "code",
   "execution_count": 514,
   "id": "3df6870c-add2-4f7c-a7e5-24a8050f0889",
   "metadata": {},
   "outputs": [
    {
     "name": "stdout",
     "output_type": "stream",
     "text": [
      "Bookie Accuracy: 0.6660384470410856\n",
      "[[   0  886]\n",
      " [   0 1767]]\n",
      "              precision    recall  f1-score   support\n",
      "\n",
      "           0       0.00      0.00      0.00       886\n",
      "           1       0.67      1.00      0.80      1767\n",
      "\n",
      "    accuracy                           0.67      2653\n",
      "   macro avg       0.33      0.50      0.40      2653\n",
      "weighted avg       0.44      0.67      0.53      2653\n",
      "\n",
      "----\n",
      "LR Accuracy: 0.5506973237843951\n",
      "[[599 287]\n",
      " [905 862]]\n",
      "              precision    recall  f1-score   support\n",
      "\n",
      "           0       0.40      0.68      0.50       886\n",
      "           1       0.75      0.49      0.59      1767\n",
      "\n",
      "    accuracy                           0.55      2653\n",
      "   macro avg       0.57      0.58      0.55      2653\n",
      "weighted avg       0.63      0.55      0.56      2653\n",
      "\n",
      "Feature: 0, Score: -0.04715\n",
      "Feature: 1, Score: 0.05460\n",
      "Feature: 2, Score: 0.16507\n",
      "Feature: 3, Score: 0.11228\n",
      "Feature: 4, Score: -1.00561\n",
      "Feature: 5, Score: 1.16428\n",
      "Feature: 6, Score: 0.64429\n",
      "Feature: 7, Score: -0.22732\n",
      "Index(['match_id', 'away_id', 'home_id', 'date', 'away_pts', 'home_pts',\n",
      "       'playoff_game', 'home_ml', 'away_ml', 'home_spread',\n",
      "       ...\n",
      "       'recent_underdog_win_ratio_5', 'recent_favorite_win_ratio_4',\n",
      "       'recent_underdog_win_ratio_4', 'recent_favorite_win_ratio_3',\n",
      "       'recent_underdog_win_ratio_3', 'point_spread', 'favorite_implied',\n",
      "       'underdog_implied', 'bookie_pred', 'bookie_correct_pred'],\n",
      "      dtype='object', length=405)\n",
      "time: 104 ms (started: 2023-02-21 16:39:17 -05:00)\n"
     ]
    }
   ],
   "source": [
    "from sklearn.metrics import classification_report\n",
    "\n",
    "metalabels_lr = LogisticRegression(random_state=42)\n",
    "metalabels_lr.fit(train_x, train_y)\n",
    "\n",
    "predictions = metalabels_lr.predict_proba(test_x)\n",
    "predictions = [i[1] for i in predictions]\n",
    "\n",
    "predictions = pd.Series(predictions, name='lr_winning_prob')\n",
    "pred_df = pd.concat([test_y.reset_index(drop=True),\n",
    "                     test['bookie_pred'].reset_index(drop=True),\n",
    "                    predictions.reset_index(drop=True),\n",
    "                    test['favorite_implied'].reset_index(drop=True),\n",
    "                    test['favorite_ml'].reset_index(drop=True),\n",
    "                    test['underdog_ml'].reset_index(drop=True)], \n",
    "                    axis=1)\n",
    "\n",
    "pred_df['lr_pred_favorite'] = pred_df['lr_winning_prob'].map(lambda x: 0 if x < 0.5 else 1)\n",
    "\n",
    "pred_df['final_pred'] = pred_df.apply \\\n",
    "    (lambda x: 1 if x['bookie_pred'] == 1 and x['lr_pred_favorite'] == 1 \\\n",
    "     else 0, axis=1)\n",
    "\n",
    "## if final_pred = 1: then that means the secondary model predicts that the probability it is correct is\n",
    "# at least 0.5\n",
    "# otherwise we bet the underdog\n",
    "   \n",
    "\n",
    "pred_df['final_correct_pred'] = pred_df.apply(lambda x: \n",
    "    1 if x['favorite_won'] == x['final_pred'] else 0, axis = 1)\n",
    "\n",
    "pred_df['bookie_correct_pred'] = pred_df.apply(lambda x: \n",
    "    1 if x['favorite_won'] == x['bookie_pred'] else 0, axis = 1)\n",
    "acc = pred_df['final_correct_pred'].sum()/len(pred_df.index)\n",
    "bookie_acc = pred_df['bookie_correct_pred'].sum()/len(pred_df.index)\n",
    "\n",
    "pred_df.to_csv('metalabels_lr_predictions.csv', header=True, index=False)\n",
    "\n",
    "print(f'Bookie Accuracy: {bookie_acc}')\n",
    "confusion_mat = confusion_matrix(pred_df['favorite_won'], pred_df['bookie_pred'])\n",
    "print(confusion_mat)\n",
    "print(classification_report(pred_df['favorite_won'], pred_df['bookie_pred']))\n",
    "print('----')\n",
    "print(f'LR Accuracy: {acc}')\n",
    "confusion_mat = confusion_matrix(pred_df['favorite_won'], pred_df['final_pred'])\n",
    "print(confusion_mat)\n",
    "print(classification_report(pred_df['favorite_won'], pred_df['final_pred']))\n",
    "\n",
    "\n",
    "importance =metalabels_lr.coef_[0]\n",
    "\n",
    "#summarize feature importance\n",
    "for i,v in enumerate(importance):\n",
    "    print('Feature: %0d, Score: %.5f' % (i,v))\n",
    "\n",
    "print(train.drop([\"favorite_won\", 'favorite_ml', 'underdog_ml'], axis=1).columns)\n",
    "filename = 'metalabels_lr_model.sav'\n",
    "pickle.dump(metalabels_lr, open(filename, 'wb'))"
   ]
  },
  {
   "cell_type": "code",
   "execution_count": 515,
   "id": "99fb611f-9c73-4633-95d0-80cdfa0f2e3b",
   "metadata": {},
   "outputs": [
    {
     "name": "stdout",
     "output_type": "stream",
     "text": [
      "Feature: 0, Score: -0.04715\n",
      "Feature: 1, Score: 0.05460\n",
      "Feature: 2, Score: 0.16507\n",
      "Feature: 3, Score: 0.11228\n",
      "Feature: 4, Score: -1.00561\n",
      "Feature: 5, Score: 1.16428\n",
      "Feature: 6, Score: 0.64429\n",
      "Feature: 7, Score: -0.22732\n",
      "Index(['match_id', 'away_id', 'home_id', 'date', 'away_pts', 'home_pts',\n",
      "       'playoff_game', 'home_ml', 'away_ml', 'home_spread',\n",
      "       ...\n",
      "       'recent_favorite_win_ratio_4', 'recent_underdog_win_ratio_4',\n",
      "       'recent_favorite_win_ratio_3', 'recent_underdog_win_ratio_3',\n",
      "       'favorite_won', 'point_spread', 'favorite_implied', 'underdog_implied',\n",
      "       'bookie_pred', 'bookie_correct_pred'],\n",
      "      dtype='object', length=408)\n",
      "8860     0.615164\n",
      "8861     0.575663\n",
      "8862     0.697242\n",
      "8863     0.651099\n",
      "8864     0.548921\n",
      "           ...   \n",
      "11508    0.651117\n",
      "11509    0.587543\n",
      "11510    0.593837\n",
      "11511    0.606384\n",
      "11512    0.619210\n",
      "Name: favorite_implied, Length: 2653, dtype: float64\n",
      "time: 910 µs (started: 2023-02-21 16:39:17 -05:00)\n"
     ]
    }
   ],
   "source": [
    "#summarize feature importance\n",
    "for i,v in enumerate(importance):\n",
    "    print('Feature: %0d, Score: %.5f' % (i,v))\n",
    "print(test.columns)\n",
    "print(test.favorite_implied)"
   ]
  },
  {
   "cell_type": "code",
   "execution_count": 516,
   "id": "9004666b-1d3b-467d-a170-ec0bd00da682",
   "metadata": {},
   "outputs": [
    {
     "data": {
      "text/plain": [
       "<AxesSubplot: >"
      ]
     },
     "execution_count": 516,
     "metadata": {},
     "output_type": "execute_result"
    },
    {
     "data": {
      "image/png": "[encoded data removed]",
      "text/plain": [
       "<Figure size 640x480 with 1 Axes>"
      ]
     },
     "metadata": {},
     "output_type": "display_data"
    },
    {
     "name": "stdout",
     "output_type": "stream",
     "text": [
      "time: 128 ms (started: 2023-02-21 16:39:17 -05:00)\n"
     ]
    }
   ],
   "source": [
    "pred_df['lr_winning_prob'].plot()"
   ]
  },
  {
   "cell_type": "code",
   "execution_count": 517,
   "id": "0bea46b4-3b97-4e85-9466-08d37929eaa2",
   "metadata": {},
   "outputs": [
    {
     "name": "stdout",
     "output_type": "stream",
     "text": [
      "n_bet_favorite: 1149\n",
      "n_games: 2653\n",
      "time: 377 µs (started: 2023-02-21 16:39:17 -05:00)\n"
     ]
    }
   ],
   "source": [
    "print(f'n_bet_favorite:', sum(pred_df['final_pred']))\n",
    "print(f'n_games:', len(pred_df))\n"
   ]
  },
  {
   "cell_type": "markdown",
   "id": "6aeb2046-79a1-4e11-bcfc-acf4487a5735",
   "metadata": {},
   "source": [
    "# Backtest"
   ]
  },
  {
   "cell_type": "code",
   "execution_count": 518,
   "id": "1187c952-4acd-4244-8d7a-fa102b8b8075",
   "metadata": {},
   "outputs": [
    {
     "name": "stdout",
     "output_type": "stream",
     "text": [
      "time: 301 µs (started: 2023-02-21 16:39:17 -05:00)\n"
     ]
    }
   ],
   "source": [
    "# assuming bet probability predictions follow a standard distribution\n",
    "from statistics import NormalDist\n",
    "import math\n",
    "def prob_to_bet_size(p):\n",
    "    z_score = (p-1/2)/math.sqrt(p*(1-p))\n",
    "    #'Cumulative distribution function for the standard normal distribution'\n",
    "    bet_size = 2*NormalDist(mu=0, sigma=1).cdf(z_score)-1\n",
    "    return bet_size\n"
   ]
  },
  {
   "cell_type": "code",
   "execution_count": 531,
   "id": "6e6114e2-7434-4e00-8b7d-895549249ec1",
   "metadata": {},
   "outputs": [
    {
     "data": {
      "text/plain": [
       "0.2763263901682369"
      ]
     },
     "execution_count": 531,
     "metadata": {},
     "output_type": "execute_result"
    },
    {
     "name": "stdout",
     "output_type": "stream",
     "text": [
      "time: 1.58 ms (started: 2023-02-21 17:06:55 -05:00)\n"
     ]
    }
   ],
   "source": [
    "prob_to_bet_size(2/3)"
   ]
  },
  {
   "cell_type": "markdown",
   "id": "5546e999-613c-4d2b-b029-9830192159a2",
   "metadata": {},
   "source": [
    "We will bet on the favorite only if they provide a payout higher than 1/0.68 where 0.68 comes from the percentage that favorites win. \n"
   ]
  },
  {
   "cell_type": "code",
   "execution_count": 557,
   "id": "4d117ca1-dddc-402d-8286-db02c66738cb",
   "metadata": {},
   "outputs": [
    {
     "name": "stdout",
     "output_type": "stream",
     "text": [
      "Final Balance: 17.636658146241917\n"
     ]
    },
    {
     "data": {
      "text/plain": [
       "<AxesSubplot: >"
      ]
     },
     "execution_count": 557,
     "metadata": {},
     "output_type": "execute_result"
    },
    {
     "data": {
      "image/png": "[encoded data removed]",
      "text/plain": [
       "<Figure size 640x480 with 1 Axes>"
      ]
     },
     "metadata": {},
     "output_type": "display_data"
    },
    {
     "name": "stdout",
     "output_type": "stream",
     "text": [
      "time: 333 ms (started: 2023-02-21 17:22:34 -05:00)\n"
     ]
    }
   ],
   "source": [
    "# bet on favorites\n",
    "\n",
    "def bet_favorite(df):\n",
    "    balance = 100\n",
    "    for index, row in df.iterrows():\n",
    "        \n",
    "        unit_size = 0.03*balance\n",
    "        amt_to_win_1_unit = row['favorite_implied']\n",
    "        bet_size = row['lr_winning_prob'] * unit_size * amt_to_win_1_unit\n",
    "        \n",
    "        if (row['final_pred'] == row['favorite_won']) :\n",
    "            df.at[index, 'bet_won'] = 1\n",
    "            if row['favorite_won']:\n",
    "                df.at[index, 'profit'] = bet_size * (row['favorite_ml']-1)\n",
    "            else:\n",
    "                df.at[index, 'profit'] = bet_size * (row['underdog_ml']-1)\n",
    "\n",
    "            balance += df.at[index, 'profit'] \n",
    "        else:\n",
    "            df.at[index, 'bet_won'] = 0\n",
    "            df.at[index, 'profit'] = 0\n",
    "            balance -= bet_size\n",
    "        df.at[index, 'balance'] = balance\n",
    "    return balance\n",
    "print('Final Balance:', bet_favorite(pred_df))\n",
    "pred_df['profit'].plot()\n",
    "pred_df['balance'].plot()"
   ]
  },
  {
   "cell_type": "code",
   "execution_count": null,
   "id": "669492c8-0e4b-476d-9b80-a077b131c954",
   "metadata": {},
   "outputs": [],
   "source": []
  }
 ],
 "metadata": {
  "kernelspec": {
   "display_name": "ml-env",
   "language": "python",
   "name": "ml-env"
  },
  "language_info": {
   "codemirror_mode": {
    "name": "ipython",
    "version": 3
   },
   "file_extension": ".py",
   "mimetype": "text/x-python",
   "name": "python",
   "nbconvert_exporter": "python",
   "pygments_lexer": "ipython3",
   "version": "3.10.9"
  }
 },
 "nbformat": 4,
 "nbformat_minor": 5
}
