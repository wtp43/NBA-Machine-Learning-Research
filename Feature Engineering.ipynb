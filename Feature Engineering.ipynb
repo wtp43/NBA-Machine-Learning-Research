{
 "cells": [
  {
   "cell_type": "markdown",
   "id": "0aa337dd-5567-4d73-809c-bafe92bc29bf",
   "metadata": {},
   "source": [
    "## Imports"
   ]
  },
  {
   "cell_type": "code",
   "execution_count": null,
   "id": "87b71677-0593-4df1-890d-fbd803e9fefc",
   "metadata": {},
   "outputs": [],
   "source": [
    "%%capture\n",
    "import warnings\n",
    "import math\n",
    "import db_func\n",
    "import pandas as pd\n",
    "import numpy as np\n",
    "from bokeh.plotting import figure, show\n",
    "from bokeh.io import output_notebook, push_notebook, show\n",
    "import matplotlib.pyplot as plt\n",
    "from datetime import date, datetime, timedelta\n",
    "from tqdm.notebook import tqdm\n",
    "import re\n",
    "from collections import defaultdict, ChainMap\n",
    "import multiprocessing\n",
    "from functools import partial\n",
    "import numpy as np\n",
    "from itertools import repeat\n",
    "\n",
    "warnings.filterwarnings('ignore')\n",
    "\n",
    "try:\n",
    "    %load_ext autotime\n",
    "    %load_ext jupyterlab_notify\n",
    "except:\n",
    "    !pip3 install ipython-autotime\n",
    "    %load_ext autotime"
   ]
  },
  {
   "cell_type": "code",
   "execution_count": null,
   "id": "bb944588-a9ab-442f-8568-23d9fcba6392",
   "metadata": {},
   "outputs": [],
   "source": [
    "#pd.set_option('max_columns', 2)\n",
    "#pd.set_option('min_rows', 20)"
   ]
  },
  {
   "cell_type": "markdown",
   "id": "c492d1c2-a2b8-401c-a538-5789bff84c02",
   "metadata": {},
   "source": [
    "## Database Connection"
   ]
  },
  {
   "cell_type": "code",
   "execution_count": null,
   "id": "e08df3dd-ef3e-4d5b-9478-71fa8eceaf1c",
   "metadata": {},
   "outputs": [],
   "source": [
    "conn = db_func.get_conn()"
   ]
  },
  {
   "cell_type": "markdown",
   "id": "42f77435-cf89-4e28-a2c0-fec0c4242a7c",
   "metadata": {},
   "source": [
    "# Preprocessing\n"
   ]
  },
  {
   "cell_type": "markdown",
   "id": "d132be9c-5aeb-4615-a6a4-608bb3946479",
   "metadata": {},
   "source": [
    "match_df: The final processed dataset to be used in the machine learning models "
   ]
  },
  {
   "cell_type": "code",
   "execution_count": null,
   "id": "26269d9a-0435-47e4-9d1a-a59f8dbab629",
   "metadata": {},
   "outputs": [],
   "source": [
    "match_query = '''SELECT\n",
    "\t\t\t\tm.match_id,  m.away_id, m.home_id,\n",
    "\t\t\t\tm.date, m.away_pts, m.home_pts, m.playoff_game,\n",
    "\t\t\t\th_ml.home_ml, a_ml.away_ml,\n",
    "\t\t\t\th_ps.home_spread, a_ps.away_spread,\n",
    "\t\t\t\th_ps.home_ps_odds, a_ps.away_ps_odds,\n",
    "\t\t\t\tover.over, under.under, ou.spread\n",
    "\t\t\tFROM match AS m\n",
    "\t\t\tLEFT OUTER JOIN\n",
    "\t\t\t(\n",
    "\t\t\t\tSELECT\n",
    "\t\t\t\t\tAVG(decimal_odds) AS home_ml,\n",
    "\t\t\t\t\tm.match_id AS match_id\n",
    "\t\t\t\tFROM\n",
    "\t\t\t\t\todds AS o, team AS t1, team as t2,\n",
    "\t\t\t\t\tmatch AS m\n",
    "\t\t\t\tWHERE\n",
    "\t\t\t\t\to.bet_type_id = 1 AND\n",
    "\t\t\t\t\to.match_id = m.match_id AND\n",
    "\t\t\t\t\to.team_id = m.home_id\n",
    "\t\t\t\tGROUP BY m.match_id\n",
    "\t\t\t) AS h_ml ON m.match_id = h_ml.match_id\n",
    "\t\t\tLEFT OUTER JOIN\n",
    "\t\t\t(\n",
    "\t\t\t\tSELECT\n",
    "\t\t\t\t\tAVG(decimal_odds) AS away_ml,\n",
    "\t\t\t\t\tm.match_id AS match_id\n",
    "\t\t\t\tFROM\n",
    "\t\t\t\t\todds AS o, team AS t1, team as t2,\n",
    "\t\t\t\t\tmatch AS m\n",
    "\t\t\t\tWHERE\n",
    "\t\t\t\t\to.bet_type_id = 1 AND\n",
    "\t\t\t\t\to.match_id = m.match_id AND\n",
    "\t\t\t\t\to.team_id = m.away_id\n",
    "\t\t\t\tGROUP BY m.match_id\n",
    "\t\t\t) AS a_ml ON m.match_id = a_ml.match_id\n",
    "\t\t\tLEFT OUTER JOIN\n",
    "\t\t\t(\n",
    "\t\t\t\tSELECT\n",
    "\t\t\t\t\tAVG(decimal_odds) AS home_ps_odds,\n",
    "\t\t\t\t\tAVG(spread) AS home_spread,\n",
    "\t\t\t\t\tm.match_id AS match_id\n",
    "\t\t\t\tFROM\n",
    "\t\t\t\t\todds AS o, team AS t1, team as t2,\n",
    "\t\t\t\t\tmatch AS m\n",
    "\t\t\t\tWHERE\n",
    "\t\t\t\t\to.bet_type_id = 2 AND\n",
    "\t\t\t\t\to.match_id = m.match_id AND\n",
    "\t\t\t\t\to.team_id = m.home_id\n",
    "\t\t\t\tGROUP BY m.match_id\n",
    "\t\t\t) AS h_ps ON m.match_id = h_ps.match_id\n",
    "\t\t\tLEFT OUTER JOIN\n",
    "\t\t\t(\n",
    "\t\t\t\tSELECT\n",
    "\t\t\t\t\tAVG(decimal_odds) AS away_ps_odds,\n",
    "\t\t\t\t\tAVG(spread) AS away_spread,\n",
    "\t\t\t\t\tm.match_id AS match_id\n",
    "\t\t\t\tFROM\n",
    "\t\t\t\t\todds AS o, team AS t1, team as t2,\n",
    "\t\t\t\t\tmatch AS m\n",
    "\t\t\t\tWHERE\n",
    "\t\t\t\t\to.bet_type_id = 2 AND\n",
    "\t\t\t\t\to.match_id = m.match_id AND\n",
    "\t\t\t\t\to.team_id = m.away_id\n",
    "\t\t\t\tGROUP BY m.match_id\n",
    "\t\t\t) AS a_ps ON m.match_id = a_ps.match_id\n",
    "\t\t\tLEFT OUTER JOIN\n",
    "\t\t\t(\n",
    "\t\t\t\tSELECT\n",
    "\t\t\t\t\tAVG(decimal_odds) AS under,\n",
    "\t\t\t\t\tm.match_id AS match_id\n",
    "\t\t\t\tFROM\n",
    "\t\t\t\t\todds AS o, match AS m\n",
    "\t\t\t\tWHERE\n",
    "\t\t\t\t\to.bet_type_id = 3 AND\n",
    "\t\t\t\t\to.over_under = 'under' AND\n",
    "\t\t\t\t\to.match_id = m.match_id\n",
    "\t\t\t\tGROUP BY m.match_id\n",
    "\t\t\t) AS under ON m.match_id = under.match_id\n",
    "\t\t\tLEFT OUTER JOIN\n",
    "\t\t\t(\n",
    "\t\t\t\tSELECT\n",
    "\t\t\t\t\tAVG(decimal_odds) AS over,\n",
    "\t\t\t\t\tm.match_id AS match_id\n",
    "\t\t\t\tFROM\n",
    "\t\t\t\t\todds AS o, match AS m\n",
    "\t\t\t\tWHERE\n",
    "\t\t\t\t\to.bet_type_id = 3 AND\n",
    "\t\t\t\t\to.over_under = 'over' AND\n",
    "\t\t\t\t\to.match_id = m.match_id\n",
    "\t\t\t\tGROUP BY m.match_id\n",
    "\t\t\t) AS over ON m.match_id = over.match_id\n",
    "\t\t\tLEFT OUTER JOIN\n",
    "\t\t\t(\n",
    "\t\t\t\tSELECT\n",
    "\t\t\t\t\tAVG(spread) AS spread,\n",
    "\t\t\t\t\tm.match_id AS match_id\n",
    "\t\t\t\tFROM\n",
    "\t\t\t\t\todds AS o, match AS m\n",
    "\t\t\t\tWHERE\n",
    "\t\t\t\t\to.bet_type_id = 3 AND\n",
    "\t\t\t\t\to.match_id = m.match_id\n",
    "\t\t\t\tGROUP BY m.match_id\n",
    "\t\t\t) AS ou ON m.match_id = ou.match_id\n",
    "\t\t\tWHERE date >= DATE('2007-10-30')\n",
    "\t\t\tORDER BY date ASC\n",
    "\t\t\t'''\n",
    "\n",
    "season_query = '''SELECT *\n",
    "\t\t\t\tFROM season'''\n",
    "\n",
    "player_performance_query = '''SELECT p.*, m.date\n",
    "\t\t\t\t\t\t\tFROM player_performance as p, match as m\n",
    "\t\t\t\t\t\t\tWHERE m.match_id = p.match_id\n",
    "\t\t\t\t\t\t\tAND m.date >= DATE('2007-10-30')\n",
    "\t\t\t\t\t\t\tORDER BY date ASC'''\n",
    "team_query = '''SELECT * \n",
    "\t\t\t\tFROM team_name'''\n",
    "\n",
    "injury_query = '''SELECT i.* \n",
    "\t\t\t\tFROM injury as i, match as m\n",
    "\t\t\t\tWHERE m.match_id = i.match_id\n",
    "\t\t\t\tAND m.date >= DATE('2007-10-30')\n",
    "\t\t\t\tORDER BY m.date ASC'''\n",
    "\n",
    "match_df = pd.read_sql(match_query, conn)\n",
    "season_df = pd.read_sql(season_query, conn)\n",
    "pp_df = pd.read_sql(player_performance_query, conn)\n",
    "team_df = pd.read_sql(team_query, conn)\n",
    "injury_df = pd.read_sql(injury_query, conn)\n",
    "match_df['date'] = match_df['date'].map(lambda x: datetime(x.year, x.month, x.day))\n",
    "pp_df['date'] = pp_df['date'].map(lambda x: datetime(x.year, x.month, x.day))\n",
    "season_df['start_date'] =season_df['start_date'].map(lambda x: datetime(x.year, x.month, x.day))\n",
    "season_df['end_date'] = season_df['end_date'].map(lambda x: datetime(x.year, x.month, x.day))"
   ]
  },
  {
   "cell_type": "code",
   "execution_count": null,
   "id": "a79345ac-97eb-4e93-91d7-5edef01bbedf",
   "metadata": {},
   "outputs": [],
   "source": [
    "def get_season(date):\n",
    "    return season_df[(season_df['start_date'] <= date) &\n",
    "                     (season_df['end_date'] >= date)]['season'].values[0]"
   ]
  },
  {
   "cell_type": "code",
   "execution_count": null,
   "id": "a8d6b19d-f2a2-4006-8ad2-49f22be2aea1",
   "metadata": {},
   "outputs": [],
   "source": [
    "match_df['season'] = match_df['date'].map(get_season)\n",
    "pp_df['season'] = pp_df['date'].map(get_season)"
   ]
  },
  {
   "cell_type": "markdown",
   "id": "0e88fb98-44d7-4afa-a57a-1faf9e08bdcc",
   "metadata": {},
   "source": [
    "# Feature Engineering"
   ]
  },
  {
   "cell_type": "markdown",
   "id": "de45a4dd-5148-4fa4-944e-cd2f15de34e1",
   "metadata": {},
   "source": [
    "## Basic stats with respect to the favorite (determined by bookies)"
   ]
  },
  {
   "cell_type": "code",
   "execution_count": null,
   "id": "5c53c7e3-6d8d-4589-8005-cc272b47723b",
   "metadata": {},
   "outputs": [],
   "source": [
    "favorite_df = defaultdict(list)\n",
    "p = re.compile('prev.*ema')\n",
    "match_df['home_movl'] = match_df['home_pts'] - match_df['away_pts']\n",
    "match_df['home_win'] = match_df['home_movl'].map(lambda x: 0 if x < 0 else 1)\n",
    "for idx, row in tqdm(match_df.iterrows(), total=match_df.shape[0]):    \n",
    "    favorite_won = False\n",
    "    if row['home_ml'] < row['away_ml']:\n",
    "        favorite_df['favorite_ml'].append(row['home_ml'])\n",
    "        favorite_df['underdog_ml'].append(row['away_ml'])\n",
    "        favorite_df['favorite_is_home'].append(1)\n",
    "        favorite_df['favorite_movl'].append(row['home_pts']-row['away_pts'])\n",
    "        favorite_df['point_spread'].append(abs(row['home_spread']))\n",
    "        favorite_df['favorite_pts'].append(row['home_pts'])\n",
    "        favorite_df['underdog_pts'].append(row['away_pts'])\n",
    "\n",
    "        if row['home_win']:\n",
    "            favorite_won = True\n",
    "    else:\n",
    "        if not row['home_win']:\n",
    "            favorite_won = True\n",
    "        favorite_df['favorite_ml'].append(row['away_ml'])\n",
    "        favorite_df['underdog_ml'].append(row['home_ml'])\n",
    "        favorite_df['favorite_is_home'].append(0)\n",
    "        favorite_df['favorite_movl'].append(row['away_pts']-row['home_pts'])\n",
    "        favorite_df['point_spread'].append(abs(row['away_spread']))\n",
    "        favorite_df['favorite_pts'].append(row['away_pts'])\n",
    "        favorite_df['underdog_pts'].append(row['home_pts'])\n",
    "\n",
    "\n",
    "    favorite_df['favorite_won'].append(1 if favorite_won else 0)\n",
    "\n",
    "favorite_df = pd.DataFrame(favorite_df)\n",
    "favorite_df['vig'] = 1/favorite_df['favorite_ml'] + 1/favorite_df['underdog_ml'] - 1\n",
    "favorite_df['favorite_implied'] = 1/favorite_df['favorite_ml'] - favorite_df['vig']/2\n",
    "favorite_df['underdog_implied'] = 1/favorite_df['underdog_ml'] - favorite_df['vig']/2\n",
    "\n",
    "match_df = pd.concat([match_df.reset_index(drop=True),\n",
    "                      favorite_df.reset_index(drop=True)],axis=1)\n",
    "match_df['favorite_id'] = match_df.apply(lambda x: x['home_id'] if x['favorite_is_home']==1 else x['away_id'],axis=1)\n",
    "match_df['underdog_id'] = match_df.apply(lambda x: x['home_id'] if x['favorite_is_home']==0 else x['away_id'],axis=1)\n"
   ]
  },
  {
   "cell_type": "code",
   "execution_count": null,
   "id": "490da769-8558-4331-822a-e0f976107e85",
   "metadata": {},
   "outputs": [],
   "source": [
    "def get_prev_matches(date, team_id, match_df, opponent_id = 0):\n",
    "    if opponent_id:\n",
    "        return match_df[(match_df[\"date\"] < date) &\n",
    "                        (((match_df[\"favorite_id\"] == team_id) & \n",
    "                          (match_df[\"underdog_id\"] == opponent_id)) |\n",
    "                         ((match_df[\"favorite_id\"] == opponent_id) & \n",
    "                          (match_df[\"underdog_id\"] == team_id)))]\n",
    "    else:\n",
    "        return match_df[(match_df[\"date\"] < date) &\n",
    "                    ((match_df[\"favorite_id\"] == team_id) |\n",
    "                     (match_df[\"underdog_id\"] == team_id))]\n"
   ]
  },
  {
   "cell_type": "code",
   "execution_count": null,
   "id": "11c43bb3-54c3-4b96-995b-45c71fafb90e",
   "metadata": {},
   "outputs": [],
   "source": [
    "match_df.favorite_id.describe()"
   ]
  },
  {
   "cell_type": "code",
   "execution_count": null,
   "id": "a9f3cb4d-5541-4b0f-a8bc-eeba9a93d696",
   "metadata": {},
   "outputs": [],
   "source": [
    "def get_win_ratio(team_id, prev_matches, i):\n",
    "    if len(prev_matches) < i: \n",
    "        return None\n",
    "    prev_matches['res'] =  prev_matches.apply(lambda x:\n",
    "                             1 if (x['favorite_id'] == team_id and x['favorite_won']) or \n",
    "                                      (x['underdog_id'] == team_id and not x['favorite_won'])        \n",
    "                             else 0, axis=1)\n",
    "    return prev_matches['res'].sum()/i    "
   ]
  },
  {
   "cell_type": "code",
   "execution_count": null,
   "id": "decd1f2e-daa0-4e50-a65f-75ab57a7708b",
   "metadata": {},
   "outputs": [],
   "source": [
    "window_sizes = [5,7]\n",
    "\n",
    "for w in tqdm(window_sizes):\n",
    "    match_df[f'past_{w}_favorite_win_ratio'] = match_df.apply(lambda x: \n",
    "                                    get_win_ratio(x['favorite_id'], \n",
    "                                        get_prev_matches(x['date'], \n",
    "                                                         x['favorite_id'],\n",
    "                                                         match_df\n",
    "                                                        ).tail(w),\n",
    "                                                    w), axis=1)\n",
    "    match_df[f'past_{w}_underdog_win_ratio'] = match_df.apply(lambda x: \n",
    "                                    get_win_ratio(x['underdog_id'], \n",
    "                                        get_prev_matches(x['date'], \n",
    "                                                         x['underdog_id'],\n",
    "                                                         match_df\n",
    "                                                        ).tail(w),\n",
    "                                                    w), axis=1)\n"
   ]
  },
  {
   "cell_type": "markdown",
   "id": "35745a06-f5dc-476d-8781-cbb581302887",
   "metadata": {},
   "source": [
    "# Player Factors"
   ]
  },
  {
   "cell_type": "code",
   "execution_count": null,
   "id": "8aa6be4d-0c8b-4e3f-8de0-68920cf02779",
   "metadata": {},
   "outputs": [],
   "source": [
    "def get_prev_player_match(date, player_id, pp_df):\n",
    "    return pp_df[(pp_df['date'] < date) & \n",
    "                (pp_df['player_id'] == player_id)].tail(1)\n",
    "def get_active_players(match_id, team_id, pp_df):\n",
    "    return  pp_df[(pp_df['match_id'] == match_id) &\n",
    "                      (pp_df['team_id'] == team_id) &\n",
    "                  (pp_df['sp']>0)]\n",
    "\n",
    "def get_complete_roster(match_id, team_id, match_df):\n",
    "    return  pp_df[(pp_df['match_id'] == match_id) &\n",
    "                      (pp_df['team_id'] == team_id)]"
   ]
  },
  {
   "cell_type": "markdown",
   "id": "25e1eb82-adcc-4832-bbb6-fe4cb7efcb28",
   "metadata": {},
   "source": [
    "## Define Stats per minute played"
   ]
  },
  {
   "cell_type": "code",
   "execution_count": null,
   "id": "07e0e657-e02a-4d05-9085-3b2ef3833995",
   "metadata": {},
   "outputs": [],
   "source": [
    "pm_stats = ['pts', 'orb', 'drb', 'trb', 'ast', 'stl', 'blk','tov', 'pf']\n",
    "\n",
    "for f in pm_stats:\n",
    "    pp_df[f'{f}_avg'] = pp_df.apply(lambda x: x[f]*60/x['sp'] if x['sp']>0 else 0, axis=1)\n",
    "\n",
    "avg_stats = [f'{f}_avg' for f in pm_stats]"
   ]
  },
  {
   "cell_type": "markdown",
   "id": "099e1e4a-4b47-403e-af9d-736b59bf403d",
   "metadata": {},
   "source": [
    "## EWM Player Stats"
   ]
  },
  {
   "cell_type": "code",
   "execution_count": null,
   "id": "359254d1-bd48-43f4-9eb0-a1ab784d21f9",
   "metadata": {},
   "outputs": [],
   "source": [
    "def get_player_dict(gb):\n",
    "    window_sizes = [10,20,40]\n",
    "    player_dict = dict(tuple(gb))\n",
    "    \n",
    "    features = ['ts_pct',\n",
    "       'efg_pct', 'threepar', 'ftr', 'orb_pct', 'drb_pct', 'trb_pct',\n",
    "       'ast_pct', 'stl_pct', 'blk_pct', 'tov_pct', 'usg_pct', 'ortg', 'drtg',\n",
    "       'fg', 'fga', 'fg_pct', 'threep', 'threepa',\n",
    "       'threep_pct', 'ft', 'fta', 'ft_pct', 'orb', 'drb', 'trb', 'ast', 'stl',\n",
    "       'blk', 'tov', 'pf', 'pts', 'pts_avg', 'orb_avg', 'drb_avg', 'trb_avg',\n",
    "       'ast_avg', 'stl_avg', 'blk_avg', 'tov_avg', 'pf_avg']\n",
    "    for w in window_sizes:\n",
    "        ewm_features = [f'{f}_ewm_{w}' for f in features]\n",
    "        for p in player_dict:\n",
    "            # set the index to date for use in finding variable length windows later\n",
    "\n",
    "            tmp_df= player_dict[p][player_dict[p].sp > 0]\n",
    "            tmp_df[ewm_features] = tmp_df[features].ewm(span=w,min_periods=0,adjust=False,ignore_na=False).mean().shift(+1)\n",
    "            player_dict[p] = player_dict[p].merge(tmp_df[ewm_features+['match_id']], on='match_id', how='outer')\n",
    "            player_dict[p].index = player_dict[p]['date']\n",
    "            player_dict[p].fillna(method='ffill', inplace=True)\n",
    "    return player_dict"
   ]
  },
  {
   "cell_type": "code",
   "execution_count": null,
   "id": "53f4a884-040e-41ed-b435-e0fb5581fde2",
   "metadata": {},
   "outputs": [],
   "source": [
    "def parallelize_gb(df, func):\n",
    "    num_cores = multiprocessing.cpu_count()-1  #leave one free to not freeze machine\n",
    "    num_partitions = num_cores #number of partitions to split dataframe\n",
    "    gb = pp_df.groupby(['player_id'], group_keys=True)\n",
    "    df_split = np.array_split(gb, num_partitions)\n",
    "    pool = multiprocessing.Pool(num_cores)\n",
    "    list_dict = pool.map(func, df_split)\n",
    "    res = dict(ChainMap(*list_dict))\n",
    "    pool.close()\n",
    "    pool.join()\n",
    "    return res\n",
    "\n",
    "\n",
    "player_dict = parallelize_gb(pp_df, get_player_dict)"
   ]
  },
  {
   "cell_type": "code",
   "execution_count": null,
   "id": "cfe58e91-ece2-4011-9626-b3b4c721acee",
   "metadata": {},
   "outputs": [],
   "source": [
    "player_dict[3]"
   ]
  },
  {
   "cell_type": "markdown",
   "id": "2c31ed2b-df08-4312-b21f-f4a33494c4ea",
   "metadata": {},
   "source": [
    "## Player Fatigue"
   ]
  },
  {
   "cell_type": "markdown",
   "id": "6aa9498d-a7f0-4f89-b368-c62930afbee5",
   "metadata": {},
   "source": [
    "Seconds played over the last 2 weeks"
   ]
  },
  {
   "cell_type": "code",
   "execution_count": null,
   "id": "a5eba05a-2421-4b0d-aaa0-8468dca94b42",
   "metadata": {},
   "outputs": [],
   "source": [
    "def get_player_fatigue(x,w,p):\n",
    "    window = player_dict[p].loc[x.date - timedelta(days=w):x.date - timedelta(days=1)]\n",
    "    ewm_sp = np.nan\n",
    "    if len(window):\n",
    "        #set ewm span=7. A player is unlikely to play more than 7 games in 14 days.\n",
    "        window['ewm_sp'] = window['sp'].ewm(span=7,min_periods=0,adjust=False,ignore_na=False).mean()\n",
    "        ewm_sp = window.iloc[-1]['ewm_sp']\n",
    "    return ewm_sp\n",
    "\n",
    "window_sizes = [14]\n",
    "\n",
    "for w in tqdm(window_sizes):\n",
    "    for p in tqdm(player_dict):\n",
    "        player_dict[p][f'sp_ewm_{w}'] = player_dict[p].apply(lambda x: get_player_fatigue(x,w+1, p), axis=1)"
   ]
  },
  {
   "cell_type": "code",
   "execution_count": null,
   "id": "eb1051cc-7fdb-4cbc-a552-88c604d2b506",
   "metadata": {},
   "outputs": [],
   "source": [
    "player_dict[3]['sp_ewm_14']"
   ]
  },
  {
   "cell_type": "markdown",
   "id": "c45d9e81-771b-43d6-b7ce-c556066d0d36",
   "metadata": {},
   "source": [
    "## Insert player factors into match dataframe"
   ]
  },
  {
   "cell_type": "markdown",
   "id": "8247289a-294a-4bb7-955a-780e917d46a0",
   "metadata": {},
   "source": [
    "Most NBA teams rotate at least 8 players. \n",
    "We will use the top 8 players in terms of time played as features"
   ]
  },
  {
   "cell_type": "code",
   "execution_count": null,
   "id": "e379130c-9c87-41c1-a319-748b6d9d84f6",
   "metadata": {},
   "outputs": [],
   "source": [
    "def insert_player_features(match_df, player_dict, pp_df):\n",
    "    window_sizes = [10,20,40]\n",
    "    d = defaultdict(list)\n",
    "    player_features = ['ts_pct',\n",
    "       'efg_pct', 'threepar', 'ftr', 'orb_pct', 'drb_pct', 'trb_pct',\n",
    "       'ast_pct', 'stl_pct', 'blk_pct', 'tov_pct', 'usg_pct', 'ortg', 'drtg',\n",
    "       'fg', 'fga', 'fg_pct', 'threep', 'threepa',\n",
    "       'threep_pct', 'ft', 'fta', 'ft_pct', 'orb', 'drb', 'trb', 'ast', 'stl',\n",
    "       'blk', 'tov', 'pf', 'pts', 'pts_avg', 'orb_avg', 'drb_avg', 'trb_avg',\n",
    "       'ast_avg', 'stl_avg', 'blk_avg', 'tov_avg', 'pf_avg']\n",
    "    err = 0\n",
    "    n_features = len(player_features)\n",
    "    for idx, row in match_df.iterrows():\n",
    "        match_id = row['match_id']\n",
    "        favorite_players = get_active_players(row['match_id'], row['favorite_id'], pp_df).sort_values(by=['sp'], ascending=False).head(8)\n",
    "        underdog_players = get_active_players(row['match_id'], row['underdog_id'], pp_df).sort_values(by=['sp'], ascending=False).head(8)\n",
    "        if favorite_players.shape[0] < 8 or underdog_players.shape[0] < 8:\n",
    "            err += 1\n",
    "        for w in window_sizes:\n",
    "            for i in range(8):\n",
    "                ewm_features = [f'{f}_ewm_{w}' for f in player_features]\n",
    "\n",
    "                fav_player_ewm_features = [f'fav_p{i}_{f}_ewm_{w}' for f in player_features]\n",
    "                und_player_ewm_features = [f'und_p{i}_{f}_ewm_{w}' for f in player_features]\n",
    "                for j in range(n_features):\n",
    "                    \n",
    "                    if favorite_players.shape[0] < 8 or underdog_players.shape[0] < 8:\n",
    "                        d[fav_feature].append(np.nan)\n",
    "                        d[und_feature].append(np.nan)\n",
    "                        continue\n",
    "\n",
    "                    fav_player_id = favorite_players.iloc[i]['player_id']\n",
    "                    und_player_id = underdog_players.iloc[i]['player_id']\n",
    "\n",
    "                    fav_player_df = player_dict[fav_player_id]\n",
    "                    und_player_df = player_dict[und_player_id]\n",
    "\n",
    "                    fav_feature = fav_player_ewm_features[j]\n",
    "                    und_feature = und_player_ewm_features[j]\n",
    "                    d[fav_feature].append(fav_player_df[fav_player_df['match_id'] == match_id][ewm_features[j]].values[0])\n",
    "                    d[und_feature].append(und_player_df[und_player_df['match_id'] == match_id][ewm_features[j]].values[0])\n",
    "                    \n",
    "    df = pd.DataFrame(d)\n",
    "    new_df = pd.concat([match_df.reset_index(drop=True),\n",
    "                      df.reset_index(drop=True)],axis=1)\n",
    "    print('err:', err)\n",
    "    return new_df"
   ]
  },
  {
   "cell_type": "code",
   "execution_count": null,
   "id": "6ede940f-a8ce-4f22-9d51-29312613a590",
   "metadata": {},
   "outputs": [],
   "source": [
    "def parallelize_dataframe(df, func, player_dict, pp_df):\n",
    "    num_cores = multiprocessing.cpu_count()-1  #leave one free to not freeze machine\n",
    "    num_partitions = num_cores #number of partitions to split dataframe\n",
    "    df_split = np.array_split(df, num_partitions)\n",
    "    pool = multiprocessing.Pool(num_cores)\n",
    "    list_df = pool.map(partial(func, player_dict = player_dict, pp_df = pp_df), df_split)\n",
    "    df = pd.concat(list_df)\n",
    "    pool.close()\n",
    "    pool.join()\n",
    "    return df\n",
    "\n",
    "match_df = parallelize_dataframe(match_df, insert_player_features, player_dict, pp_df)"
   ]
  },
  {
   "cell_type": "code",
   "execution_count": null,
   "id": "dd369e76-44b8-427b-97b0-4736d55580b8",
   "metadata": {},
   "outputs": [],
   "source": [
    "match_df['fav_p2_pf_avg_ewm_10']"
   ]
  },
  {
   "cell_type": "markdown",
   "id": "bc2ee43a-8efe-4f4c-bd05-2c35a36d5ae9",
   "metadata": {},
   "source": [
    "## Team Factors"
   ]
  },
  {
   "cell_type": "markdown",
   "id": "9059cb8c-f4d4-46da-898a-ff16e94ea341",
   "metadata": {},
   "source": [
    "## Team Fatigue(Away game streak) and Win Streak"
   ]
  },
  {
   "cell_type": "code",
   "execution_count": null,
   "id": "2c7a9815-07c3-4c2d-bff8-26d1d8a8d224",
   "metadata": {},
   "outputs": [],
   "source": [
    "d = defaultdict(list)\n",
    "for idx, row in tqdm(match_df.iterrows(), total=match_df.shape[0]):\n",
    "    prev_favorite_match = get_prev_matches(row['date'], \\\n",
    "        row['favorite_id'], match_df).tail(1)\n",
    "    prev_underdog_match = get_prev_matches(row['date'], \\\n",
    "        row['underdog_id'], match_df).tail(1)\n",
    "    if prev_favorite_match.shape[0] > 0:\n",
    "        prev_f_win_streak = prev_favorite_match['post_favorite_win_streak'].values[0] if row['favorite_id'] == prev_favorite_match['favorite_id'].values[0] else prev_favorite_match['post_underdog_win_streak'].values[0]\n",
    "        prev_f_home_streak = prev_favorite_match['post_favorite_home_streak'].values[0] if row['favorite_id'] == prev_favorite_match['favorite_id'].values[0] else prev_favorite_match['post_underdog_home_streak'].values[0]\n",
    "    else:\n",
    "        prev_f_win_streak = 0\n",
    "        prev_f_home_streak = 0\n",
    "        \n",
    "    if prev_underdog_match.shape[0] > 0:\n",
    "        prev_u_win_streak = prev_underdog_match['post_favorite_win_streak'].values[0] if row['underdog_id'] == prev_underdog_match['favorite_id'].values[0] else prev_underdog_match['post_underdog_win_streak'].values[0]\n",
    "        prev_u_home_streak = prev_underdog_match['post_favorite_home_streak'].values[0] if row['underdog_id'] == prev_underdog_match['favorite_id'].values[0] else prev_underdog_match['post_underdog_home_streak'].values[0]\n",
    "    else:\n",
    "        prev_u_win_streak = 0\n",
    "        prev_u_home_streak = 0\n",
    "        \n",
    "    if row['favorite_won']:\n",
    "        f_win_streak = max(1,prev_f_win_streak+1)\n",
    "        u_win_streak = min(-1, prev_u_win_streak-1)\n",
    "    else:\n",
    "        f_win_streak = min(-1, prev_f_win_streak-1)\n",
    "        u_win_streak = max(1,prev_u_win_streak+1)\n",
    "\n",
    "    if row['favorite_is_home']:\n",
    "        f_home_streak = max(1, prev_f_home_streak+1)\n",
    "        u_home_streak = min(-1, prev_u_home_streak-1)\n",
    "    else:\n",
    "        f_home_streak = min(-1, prev_f_home_streak-1)\n",
    "        u_home_streak = max(1, prev_u_home_streak+1)\n",
    "        \n",
    "    match_df.at[idx, 'prev_favorite_win_streak'] = prev_f_win_streak\n",
    "    match_df.at[idx, 'prev_favorite_home_streak'] = prev_f_home_streak\n",
    "    match_df.at[idx, 'prev_underdog_win_streak'] = prev_u_win_streak\n",
    "    match_df.at[idx, 'prev_underdog_home_streak'] = prev_u_home_streak\n",
    "    \n",
    "    match_df.at[idx, 'post_favorite_win_streak'] = f_win_streak\n",
    "    match_df.at[idx, 'post_favorite_home_streak'] = f_home_streak\n",
    "    match_df.at[idx, 'post_underdog_win_streak'] = u_win_streak\n",
    "    match_df.at[idx, 'post_underdog_home_streak'] = u_home_streak\n",
    "\n",
    "df = pd.DataFrame(d)\n",
    "match_df = pd.concat([match_df.reset_index(drop=True),\n",
    "                      df.reset_index(drop=True)],axis=1)\n",
    "\n",
    "streak_features = ['prev_favorite_win_streak', \n",
    "                   'prev_favorite_home_streak', \n",
    "                   'prev_underdog_win_streak', \n",
    "                   'prev_underdog_home_streak']\n"
   ]
  },
  {
   "cell_type": "markdown",
   "id": "14ec142a-ae29-44d4-bc4d-23fb9916fa03",
   "metadata": {},
   "source": [
    "## FG%, 3P%, FT%, ORB, DRB, TRB, TOV, AST, STL, BLK, DRTG, ORTG, EFG "
   ]
  },
  {
   "cell_type": "code",
   "execution_count": null,
   "id": "f7e321a9-73ba-4b32-8e2d-430c74f5d244",
   "metadata": {},
   "outputs": [],
   "source": [
    "d = defaultdict(list)\n",
    "for idx, row in tqdm(match_df.iterrows(), total=match_df.shape[0]):\n",
    "    favorite_players = get_active_players(row['match_id'], row['favorite_id'], pp_df)\n",
    "    underdog_players = get_active_players(row['match_id'], row['underdog_id'], pp_df)\n",
    "    d['favorite_bpm'].append(favorite_players['bpm'].sum())\n",
    "    d['underdog_bpm'].append(underdog_players['bpm'].sum())\n",
    "    d['favorite_fga'].append(favorite_players['fga'].sum())\n",
    "    d['underdog_fga'].append(underdog_players['fga'].sum())\n",
    "    d['favorite_fg'].append(favorite_players['fg'].sum())\n",
    "    d['underdog_fg'].append(underdog_players['fg'].sum())\n",
    "    d['favorite_fg_pct'].append(favorite_players['fg_pct'].mean())\n",
    "    d['underdog_fg_pct'].append(underdog_players['fg_pct'].mean())\n",
    "    \n",
    "    d['favorite_3p'].append(favorite_players['threep'].sum())\n",
    "    d['underdog_3p'].append(underdog_players['threep'].sum())\n",
    "    d['favorite_3pa'].append(favorite_players['threepa'].sum())\n",
    "    d['underdog_3pa'].append(underdog_players['threepa'].sum())\n",
    "    d['favorite_3p_pct'].append(favorite_players['threep_pct'].mean())\n",
    "    d['underdog_3p_pct'].append(underdog_players['threep_pct'].mean())\n",
    "    \n",
    "    d['favorite_ft'].append(favorite_players['ft'].sum())\n",
    "    d['underdog_ft'].append(underdog_players['ft'].sum())\n",
    "    d['favorite_fta'].append(favorite_players['fta'].sum())\n",
    "    d['underdog_fta'].append(underdog_players['fta'].sum())\n",
    "    d['favorite_ft_pct'].append(favorite_players['ft_pct'].mean())\n",
    "    d['underdog_ft_pct'].append(underdog_players['ft_pct'].mean())\n",
    "    \n",
    "    d['favorite_orb'].append(favorite_players['orb'].sum())\n",
    "    d['underdog_orb'].append(underdog_players['orb'].sum())\n",
    "    d['favorite_orb_pct'].append(favorite_players['orb_pct'].mean())\n",
    "    d['underdog_orb_pct'].append(underdog_players['orb_pct'].mean())\n",
    "    \n",
    "    d['favorite_drb'].append(favorite_players['drb'].sum())\n",
    "    d['underdog_drb'].append(underdog_players['drb'].sum())\n",
    "    d['favorite_drb_pct'].append(favorite_players['drb_pct'].mean())\n",
    "    d['underdog_drb_pct'].append(underdog_players['drb_pct'].mean())\n",
    "    \n",
    "    d['favorite_trb'].append(favorite_players['trb'].sum())\n",
    "    d['underdog_trb'].append(underdog_players['trb'].sum())\n",
    "    d['favorite_trb_pct'].append(favorite_players['trb_pct'].mean())\n",
    "    d['underdog_trb_pct'].append(underdog_players['trb_pct'].mean())\n",
    "    \n",
    "    d['favorite_tov'].append(favorite_players['tov'].sum())\n",
    "    d['underdog_tov'].append(underdog_players['tov'].sum())\n",
    "    d['favorite_tov_pct'].append(favorite_players['tov_pct'].mean())\n",
    "    d['underdog_tov_pct'].append(underdog_players['tov_pct'].mean())\n",
    "    \n",
    "    d['favorite_ast'].append(favorite_players['ast'].sum())\n",
    "    d['underdog_ast'].append(underdog_players['ast'].sum())\n",
    "    d['favorite_ast_pct'].append(favorite_players['ast_pct'].mean())\n",
    "    d['underdog_ast_pct'].append(underdog_players['ast_pct'].mean())\n",
    "    \n",
    "    d['favorite_stl'].append(favorite_players['stl'].sum())\n",
    "    d['underdog_stl'].append(underdog_players['stl'].sum())\n",
    "    d['favorite_stl_pct'].append(favorite_players['stl_pct'].mean())\n",
    "    d['underdog_stl_pct'].append(underdog_players['stl_pct'].mean())\n",
    "    \n",
    "    d['favorite_blk'].append(favorite_players['blk'].sum())\n",
    "    d['underdog_blk'].append(underdog_players['blk'].sum())\n",
    "    d['favorite_blk_pct'].append(favorite_players['blk_pct'].mean())\n",
    "    d['underdog_blk_pct'].append(underdog_players['blk_pct'].mean())\n",
    "    \n",
    "    d['favorite_drtg'].append(favorite_players['drtg'].mean())\n",
    "    d['underdog_drtg'].append(underdog_players['drtg'].mean())\n",
    "    \n",
    "    d['favorite_ortg'].append(favorite_players['ortg'].mean())\n",
    "    d['underdog_ortg'].append(underdog_players['ortg'].mean())\n",
    "    \n",
    "    d['favorite_efg_pct'].append(favorite_players['efg_pct'].mean())\n",
    "    d['underdog_efg_pct'].append(underdog_players['efg_pct'].mean())\n",
    "        \n",
    "    d['sp'].append(favorite_players['sp'].sum())"
   ]
  },
  {
   "cell_type": "code",
   "execution_count": null,
   "id": "1db18902-3fb8-42ff-887c-a9cdae95d702",
   "metadata": {},
   "outputs": [],
   "source": [
    "df = pd.DataFrame(d)\n",
    "match_df = pd.concat([match_df.reset_index(drop=True),\n",
    "                      df.reset_index(drop=True)],axis=1)"
   ]
  },
  {
   "cell_type": "markdown",
   "id": "abc050a5-3387-4b1e-9b6b-e8a918a426c5",
   "metadata": {},
   "source": [
    "## Possessions and Pace"
   ]
  },
  {
   "cell_type": "code",
   "execution_count": null,
   "id": "39b99811-44e9-4b8d-a46b-45343da8bd3b",
   "metadata": {},
   "outputs": [],
   "source": [
    "match_df['favorite_possessions'] = \\\n",
    "    0.5 * ((match_df['favorite_fga'] + 0.4*match_df['favorite_fta'] - \\\n",
    "            1.07*(match_df['favorite_orb']/(match_df['favorite_orb'] + match_df['underdog_drb'])) * \\\n",
    "            (match_df['favorite_fga']-match_df['favorite_fg']) + match_df['favorite_tov']) + \\\n",
    "           (match_df['underdog_fga'] + 0.4*match_df['underdog_fta'] -\\\n",
    "           1.07 * (match_df['underdog_orb']/(match_df['underdog_orb'] + match_df['favorite_drb'])) * \\\n",
    "           (match_df['underdog_fga']-match_df['underdog_fg']) + match_df['underdog_tov']))\n",
    "\n",
    "match_df['underdog_possessions'] = \\\n",
    "    0.5 * ((match_df['underdog_fga'] + 0.4*match_df['underdog_fta'] - \\\n",
    "            1.07*(match_df['underdog_orb']/(match_df['underdog_orb'] + match_df['favorite_drb'])) * \\\n",
    "            (match_df['underdog_fga']-match_df['underdog_fg']) + match_df['underdog_tov']) + \\\n",
    "           (match_df['favorite_fga'] + 0.4*match_df['favorite_fta'] -\\\n",
    "           1.07 * (match_df['favorite_orb']/(match_df['favorite_orb'] + match_df['underdog_drb'])) * \\\n",
    "           (match_df['favorite_fga']-match_df['favorite_fg']) + match_df['favorite_tov']))\n",
    "\n",
    "match_df['favorite_pace'] = 48 * ((match_df['favorite_possessions'] + match_df['underdog_possessions']) / \\\n",
    "                          (2*(match_df['sp']/(60*5))))\n",
    "match_df['underdog_pace'] = 48 * ((match_df['favorite_possessions'] + match_df['underdog_possessions']) / \\\n",
    "                          (2*(match_df['sp']/(60*5))))\n"
   ]
  },
  {
   "cell_type": "markdown",
   "id": "e633340b-7f89-4b3f-ba3f-c9027641fdab",
   "metadata": {},
   "source": [
    "## EMA Team stats"
   ]
  },
  {
   "cell_type": "code",
   "execution_count": null,
   "id": "8508a3c2-1b0e-4ee8-8610-de49a915698e",
   "metadata": {},
   "outputs": [],
   "source": [
    "def ema(current, prev_ema, window_size, smoothing=2.0):\n",
    "    k = smoothing / (1 + window_size)\n",
    "    return current * k + prev_ema * (1-k)"
   ]
  },
  {
   "cell_type": "code",
   "execution_count": null,
   "id": "b91f4535-7879-47ed-a659-a47d171dc528",
   "metadata": {},
   "outputs": [],
   "source": [
    "def get_prev_team_sum(team_id, home_col, prev_matches):\n",
    "    away_col = home_col.replace('home', 'away')\n",
    "    prev_matches['res'] =  prev_matches.apply(lambda x:\n",
    "                             x[home_col] if x['home_id'] == team_id\n",
    "                             else x[away_col], axis=1)\n",
    "    return prev_matches['res'].sum()"
   ]
  },
  {
   "cell_type": "code",
   "execution_count": null,
   "id": "f399b9b2-a387-401c-a325-ecf62dcd01e5",
   "metadata": {},
   "outputs": [],
   "source": [
    "smoothing = 2\n",
    "window_sizes = [5,7,9]\n",
    "\n",
    "for w in tqdm(range(len(window_sizes))):\n",
    "    window_size = window_sizes[w]\n",
    "\n",
    "    ema_favorite_features = \\\n",
    "        [(f'prev_favorite_pts_ema{window_size}',      f'post_favorite_pts_ema{window_size}'),\n",
    "        (f'prev_favorite_bpm_ema{window_size}',       f'post_favorite_bpm_ema{window_size}'),\n",
    "        (f'prev_favorite_fg_ema{window_size}',        f'post_favorite_fg_ema{window_size}'),\n",
    "        (f'prev_favorite_fg_pct_ema{window_size}',    f'post_favorite_fg_pct_ema{window_size}'),\n",
    "        (f'prev_favorite_3p_ema{window_size}',        f'post_favorite_3p_ema{window_size}'),\n",
    "        (f'prev_favorite_3p_pct_ema{window_size}',    f'post_favorite_3p_pct_ema{window_size}'),\n",
    "        (f'prev_favorite_ft_ema{window_size}',        f'post_favorite_ft_ema{window_size}'),\n",
    "        (f'prev_favorite_ft_pct_ema{window_size}',    f'post_favorite_ft_pct_ema{window_size}'),\n",
    "        (f'prev_favorite_orb_ema{window_size}',       f'post_favorite_orb_ema{window_size}'),\n",
    "        (f'prev_favorite_orb_pct_ema{window_size}',   f'post_favorite_orb_pct_ema{window_size}'),\n",
    "        (f'prev_favorite_drb_ema{window_size}',       f'post_favorite_drb_ema{window_size}'),\n",
    "        (f'prev_favorite_drb_pct_ema{window_size}',   f'post_favorite_drb_pct_ema{window_size}'),\n",
    "        (f'prev_favorite_trb_ema{window_size}',       f'post_favorite_trb_ema{window_size}'),\n",
    "        (f'prev_favorite_trb_pct_ema{window_size}',   f'post_favorite_trb_pct_ema{window_size}'),\n",
    "        (f'prev_favorite_tov_ema{window_size}',       f'post_favorite_tov_ema{window_size}'),\n",
    "        (f'prev_favorite_tov_pct_ema{window_size}',   f'post_favorite_tov_pct_ema{window_size}'),\n",
    "        (f'prev_favorite_ast_ema{window_size}',       f'post_favorite_ast_ema{window_size}'),\n",
    "        (f'prev_favorite_ast_pct_ema{window_size}',   f'post_favorite_ast_pct_ema{window_size}'),\n",
    "        (f'prev_favorite_stl_ema{window_size}',       f'post_favorite_stl_ema{window_size}'),\n",
    "        (f'prev_favorite_stl_pct_ema{window_size}',   f'post_favorite_stl_pct_ema{window_size}'),\n",
    "        (f'prev_favorite_blk_ema{window_size}',       f'post_favorite_blk_ema{window_size}'),\n",
    "        (f'prev_favorite_blk_pct_ema{window_size}',   f'post_favorite_blk_pct_ema{window_size}'),\n",
    "        (f'prev_favorite_drtg_ema{window_size}',      f'post_favorite_drtg_ema{window_size}'),\n",
    "        (f'prev_favorite_ortg_ema{window_size}',      f'post_favorite_ortg_ema{window_size}'),\n",
    "        (f'prev_favorite_efg_pct_ema{window_size}',   f'post_favorite_efg_pct_ema{window_size}'),\n",
    "        (f'prev_favorite_pace_ema{window_size}',      f'post_favorite_pace_ema{window_size}'),\n",
    "        ]\n",
    "\n",
    "    ema_underdog_features = [(f[0].replace('favorite','underdog'), f[1].replace('favorite','underdog')) for f in ema_favorite_features]\n",
    "    sma_favorite_features = [(f[0].replace('ema','sma'), f[1].replace('ema','sma')) for f in ema_favorite_features]\n",
    "    sma_underdog_features = [(f[0].replace('favorite','underdog'), f[1].replace('favorite','underdog')) for f in sma_favorite_features]\n",
    "\n",
    "    for idx, row in tqdm(match_df.iterrows(), total=match_df.shape[0]):\n",
    "        prev_favorite_matches = get_prev_matches(row['date'], \\\n",
    "            row['favorite_id'], match_df).tail(window_size)\n",
    "        prev_underdog_matches = get_prev_matches(row['date'], \\\n",
    "            row['underdog_id'], match_df).tail(window_size)\n",
    "        len_prev_favorite_matches = len(prev_favorite_matches)\n",
    "        len_prev_underdog_matches = len(prev_underdog_matches)\n",
    "        for i in range(len(ema_favorite_features)):\n",
    "            favorite_feature = re.findall('favorite_.*_ema', ema_favorite_features[i][0])[0].replace('_ema', '')\n",
    "            underdog_feature = favorite_feature.replace('favorite', 'underdog') \n",
    "\n",
    "            if not prev_favorite_matches.empty:\n",
    "                prev_match = prev_favorite_matches.iloc[-1:]\n",
    "                match_df.at[idx,sma_favorite_features[i][0]] = get_prev_team_sum(row['favorite_id'], \n",
    "                                                                                 favorite_feature, \n",
    "                                                                                 prev_favorite_matches)/len_prev_favorite_matches \n",
    "                if len_prev_favorite_matches < window_size:\n",
    "                    match_df.at[idx,ema_favorite_features[i][0]] = match_df.at[idx,sma_favorite_features[i][0]]\n",
    "                    match_df.at[idx,ema_favorite_features[i][1]] = (match_df.at[idx,sma_favorite_features[i][0]] \\\n",
    "                        * len_prev_favorite_matches + row[favorite_feature])/(len_prev_favorite_matches + 1)\n",
    "                    \n",
    "                    match_df.at[idx,ema_favorite_features[i][0]] = match_df.loc[idx,sma_favorite_features[i][0]] \n",
    "                    match_df.at[idx,ema_favorite_features[i][1]] = (match_df.loc[idx,sma_favorite_features[i][0]] \\\n",
    "                                                                * len_prev_favorite_matches + row[favorite_feature])/(len_prev_favorite_matches + 1)\n",
    "\n",
    "                else:\n",
    "                    match_df.at[idx,ema_favorite_features[i][0]]= prev_match[ema_favorite_features[i][1]] \\\n",
    "                                        if prev_match['favorite_id'].values[0] == row['favorite_id'] \\\n",
    "                                        else prev_match[ema_underdog_features[i][1]]\n",
    "\n",
    "                    match_df.at[idx,ema_favorite_features[i][1]] = ema(row[favorite_feature],  \n",
    "                                        match_df.at[idx,ema_favorite_features[i][0]], \n",
    "                                        window_size)\n",
    "            else:\n",
    "                match_df.at[idx,ema_favorite_features[i][1]] = row[favorite_feature]\n",
    "\n",
    "\n",
    "            if not prev_underdog_matches.empty:\n",
    "                prev_match = prev_underdog_matches.iloc[-1:]\n",
    "                match_df.at[idx,sma_underdog_features[i][0]] = get_prev_team_sum(row['underdog_id'], \\\n",
    "                    underdog_feature, prev_underdog_matches)/len_prev_underdog_matches\n",
    "\n",
    "                if len_prev_underdog_matches < window_size:\n",
    "                    match_df.at[idx,ema_underdog_features[i][0]] = match_df.at[idx,sma_underdog_features[i][0]]\n",
    "                    match_df.at[idx,ema_underdog_features[i][1]] = (match_df.at[idx,sma_underdog_features[i][0]] \\\n",
    "                        * len_prev_underdog_matches + row[underdog_feature])/(len_prev_underdog_matches + 1)\n",
    "                else:\n",
    "                    match_df.at[idx,ema_underdog_features[i][0]] = (prev_match[ema_favorite_features[i][1]] \\\n",
    "                                if prev_match['favorite_id'].values[0] == row['underdog_id'] \\\n",
    "                                else prev_match[ema_underdog_features[i][1]])\n",
    "\n",
    "                    match_df.at[idx,ema_underdog_features[i][1]] = ema(row[underdog_feature],  \n",
    "                                            match_df.at[idx,ema_underdog_features[i][0]], \n",
    "                                            window_size)\n",
    "            else:\n",
    "                match_df.at[idx,ema_underdog_features[i][1]] = row[underdog_feature]"
   ]
  },
  {
   "cell_type": "code",
   "execution_count": null,
   "id": "6bbe5e4d-64c8-4386-a81a-a49ae29d4253",
   "metadata": {},
   "outputs": [],
   "source": [
    "match_df[(match_df.favorite_id == 7) | (match_df.underdog_id == 7)][['favorite_id', 'underdog_id', 'favorite_pts', 'underdog_pts', 'prev_favorite_pts_ema7', 'prev_underdog_pts_ema7']]"
   ]
  },
  {
   "cell_type": "code",
   "execution_count": null,
   "id": "5f3b8f29-27c2-4246-a907-cf6dafc45c2f",
   "metadata": {},
   "outputs": [],
   "source": [
    "match_df.to_csv('nba_processed_features.csv')\n",
    "pp_df.to_csv('player_df.csv')"
   ]
  },
  {
   "cell_type": "code",
   "execution_count": 3,
   "id": "3d83ec0d-713b-49b5-b236-75005cf8078b",
   "metadata": {},
   "outputs": [
    {
     "name": "stdout",
     "output_type": "stream",
     "text": [
      "time: 1.48 ms (started: 2023-03-04 13:44:08 -05:00)\n"
     ]
    }
   ],
   "source": [
    "match_df['favorite_elo'] = 1500.0\n",
    "match_df['underdog_elo'] = 1500.0"
   ]
  },
  {
   "cell_type": "code",
   "execution_count": 4,
   "id": "23a50e23-898e-464a-8608-f3f873fcd2f1",
   "metadata": {},
   "outputs": [
    {
     "name": "stdout",
     "output_type": "stream",
     "text": [
      "time: 485 µs (started: 2023-03-04 13:44:09 -05:00)\n"
     ]
    }
   ],
   "source": [
    "def get_prev_match(date, team_id, match_df):\n",
    "    return match_df[(match_df[\"date\"] < date) &\n",
    "                    ((match_df[\"favorite_id\"] == team_id) |\n",
    "                     (match_df[\"underdog_id\"] == team_id))].tail(1)"
   ]
  },
  {
   "cell_type": "code",
   "execution_count": null,
   "id": "32020379-e125-451b-bdbf-6039bd1a0d09",
   "metadata": {},
   "outputs": [],
   "source": [
    "def get_prev_elo(team_id, season, prev_match):\n",
    "    if prev_match.empty:\n",
    "        prev_elo = 1500.0\n",
    "    elif team_id == prev_match['favorite_id'].values[0]:\n",
    "        prev_elo = prev_match['favorite_elo'].values[0]\n",
    "    elif team_id == prev_match['underdog_id'].values[0]:\n",
    "        prev_elo = prev_match['underdog_elo'].values[0]\n",
    "    else: \n",
    "        print('err')\n",
    "\n",
    "    if (not prev_match.empty and\n",
    "            (prev_match['season'].values[0]\n",
    "             != season)):\n",
    "        prev_elo = prev_elo * 0.75 + 1505 * 0.25\n",
    "    return prev_elo\n",
    "\n",
    "\n",
    "def update_elo(favorite_elo, underdog_elo, movl):\n",
    "    elo_diff = favorite_elo + 100.0 - underdog_elo\n",
    "    if movl > 0:\n",
    "        h_s = 1.0\n",
    "        a_s = 0.0\n",
    "        multiplier = ((movl+3)**(0.8))/(7.5+0.006*elo_diff)\n",
    "\n",
    "    else:\n",
    "        h_s = 0.0\n",
    "        a_s = 1.0\n",
    "        multiplier = ((-movl+3)**(0.8))/(7.5+0.006*(-elo_diff))\n",
    "        \n",
    "    exp_h_s = 1.0 / (1.0 + 10.0 ** (-elo_diff/400.0))\n",
    "    exp_a_s = 1.0 - exp_h_s\n",
    "    \n",
    "    k = 20.0 * multiplier\n",
    "\n",
    "    new_favorite_elo = favorite_elo + k * (h_s - exp_h_s)\n",
    "    new_underdog_elo = underdog_elo + k * (a_s - exp_a_s)\n",
    "\n",
    "    return (new_favorite_elo, new_underdog_elo)"
   ]
  },
  {
   "cell_type": "code",
   "execution_count": null,
   "id": "e745ba73-fae9-455f-9ddd-cfacc66060cb",
   "metadata": {},
   "outputs": [],
   "source": [
    "for idx, row in tqdm(match_df.iterrows(), total=match_df.shape[0]):\n",
    "    prev_f_match = get_prev_match(row['date'], row['favorite_id'], match_df)\n",
    "    prev_u_match = get_prev_match(row['date'], row['underdog_id'], match_df)\n",
    "\n",
    "    prev_f_elo = get_prev_elo(\n",
    "        row['favorite_id'], row['season'], prev_f_match)\n",
    "    prev_u_elo = get_prev_elo(\n",
    "        row['underdog_id'], row['season'], prev_u_match)    \n",
    "\n",
    "    new_elos = update_elo(prev_f_elo, prev_u_elo, row['favorite_movl'])\n",
    "    match_df.at[idx, 'favorite_elo'] = new_elos[0]\n",
    "    match_df.at[idx, 'underdog_elo'] = new_elos[1]\n",
    "\n",
    "    match_df.at[idx, 'prev_favorite_elo'] = prev_f_elo\n",
    "    match_df.at[idx, 'prev_underdog_elo'] = prev_u_elo"
   ]
  },
  {
   "cell_type": "code",
   "execution_count": null,
   "id": "a1143e27-def8-4759-9e88-ab1263e68596",
   "metadata": {},
   "outputs": [],
   "source": [
    "match_df.to_csv('nba_processed_features.csv')\n",
    "pp_df.to_csv('player_df.csv')"
   ]
  },
  {
   "cell_type": "code",
   "execution_count": 2,
   "id": "4091b844-a86a-429a-a77a-4618aea73b77",
   "metadata": {},
   "outputs": [
    {
     "name": "stdout",
     "output_type": "stream",
     "text": [
      "time: 6.23 s (started: 2023-03-04 13:43:35 -05:00)\n"
     ]
    }
   ],
   "source": [
    "match_df = pd.read_csv('nba_processed_features.csv')\n",
    "pp_df = pd.read_csv('player_df.csv')"
   ]
  },
  {
   "cell_type": "code",
   "execution_count": null,
   "id": "a02478de-3f20-4c74-85f0-80bffb12a82e",
   "metadata": {},
   "outputs": [],
   "source": [
    "ema_favorite_features = \\\n",
    "        [(f'prev_favorite_pts_ema{window_size}',       f'post_favorite_pts_ema{window_size}'),\n",
    "        (f'prev_favorite_bpm_ema{window_size}',       f'post_favorite_bpm_ema{window_size}'),\n",
    "        (f'prev_favorite_fg_ema{window_size}',        f'post_favorite_fg_ema{window_size}'),\n",
    "        (f'prev_favorite_fg_pct_ema{window_size}',    f'post_favorite_fg_pct_ema{window_size}'),\n",
    "        (f'prev_favorite_3p_ema{window_size}',        f'post_favorite_3p_ema{window_size}'),\n",
    "        (f'prev_favorite_3p_pct_ema{window_size}',    f'post_favorite_3p_pct_ema{window_size}'),\n",
    "        (f'prev_favorite_ft_ema{window_size}',        f'post_favorite_ft_ema{window_size}'),\n",
    "        (f'prev_favorite_ft_pct_ema{window_size}',    f'post_favorite_ft_pct_ema{window_size}'),\n",
    "        (f'prev_favorite_orb_ema{window_size}',       f'post_favorite_orb_ema{window_size}'),\n",
    "        (f'prev_favorite_orb_pct_ema{window_size}',   f'post_favorite_orb_pct_ema{window_size}'),\n",
    "        (f'prev_favorite_drb_ema{window_size}',       f'post_favorite_drb_ema{window_size}'),\n",
    "        (f'prev_favorite_drb_pct_ema{window_size}',   f'post_favorite_drb_pct_ema{window_size}'),\n",
    "        (f'prev_favorite_trb_ema{window_size}',       f'post_favorite_trb_ema{window_size}'),\n",
    "        (f'prev_favorite_trb_pct_ema{window_size}',   f'post_favorite_trb_pct_ema{window_size}'),\n",
    "        (f'prev_favorite_tov_ema{window_size}',       f'post_favorite_tov_ema{window_size}'),\n",
    "        (f'prev_favorite_tov_pct_ema{window_size}',   f'post_favorite_tov_pct_ema{window_size}'),\n",
    "        (f'prev_favorite_ast_ema{window_size}',       f'post_favorite_ast_ema{window_size}'),\n",
    "        (f'prev_favorite_ast_pct_ema{window_size}',   f'post_favorite_ast_pct_ema{window_size}'),\n",
    "        (f'prev_favorite_stl_ema{window_size}',       f'post_favorite_stl_ema{window_size}'),\n",
    "        (f'prev_favorite_stl_pct_ema{window_size}',   f'post_favorite_stl_pct_ema{window_size}'),\n",
    "        (f'prev_favorite_blk_ema{window_size}',       f'post_favorite_blk_ema{window_size}'),\n",
    "        (f'prev_favorite_blk_pct_ema{window_size}',   f'post_favorite_blk_pct_ema{window_size}'),\n",
    "        (f'prev_favorite_drtg_ema{window_size}',      f'post_favorite_drtg_ema{window_size}'),\n",
    "        (f'prev_favorite_ortg_ema{window_size}',      f'post_favorite_ortg_ema{window_size}'),\n",
    "        (f'prev_favorite_efg_pct_ema{window_size}',   f'post_favorite_efg_pct_ema{window_size}'),\n",
    "        (f'prev_favorite_pace_ema{window_size}',      f'post_favorite_pace_ema{window_size}')]\n",
    "\n",
    "features = ['favorite_pace','underdog_pace']\n",
    "\n",
    "#all_features = "
   ]
  }
 ],
 "metadata": {
  "kernelspec": {
   "display_name": "Python 3 (ipykernel)",
   "language": "python",
   "name": "python3"
  },
  "language_info": {
   "codemirror_mode": {
    "name": "ipython",
    "version": 3
   },
   "file_extension": ".py",
   "mimetype": "text/x-python",
   "name": "python",
   "nbconvert_exporter": "python",
   "pygments_lexer": "ipython3",
   "version": "3.10.9"
  }
 },
 "nbformat": 4,
 "nbformat_minor": 5
}
