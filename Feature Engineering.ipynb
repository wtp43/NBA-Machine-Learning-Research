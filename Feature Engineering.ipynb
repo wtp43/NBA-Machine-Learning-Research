{
 "cells": [
  {
   "cell_type": "markdown",
   "id": "0aa337dd-5567-4d73-809c-bafe92bc29bf",
   "metadata": {},
   "source": [
    "## Imports"
   ]
  },
  {
   "cell_type": "code",
   "execution_count": 1,
   "id": "87b71677-0593-4df1-890d-fbd803e9fefc",
   "metadata": {},
   "outputs": [
    {
     "name": "stdout",
     "output_type": "stream",
     "text": [
      "time: 1.11 s (started: 2024-02-13 18:07:11 -05:00)\n"
     ]
    }
   ],
   "source": [
    "%%capture\n",
    "import warnings\n",
    "import math\n",
    "import db_func\n",
    "import pandas as pd\n",
    "import numpy as np\n",
    "from bokeh.plotting import figure, show\n",
    "from bokeh.io import output_notebook, push_notebook, show\n",
    "import matplotlib.pyplot as plt\n",
    "from datetime import date, datetime, timedelta\n",
    "from tqdm.notebook import tqdm\n",
    "import re\n",
    "from collections import defaultdict, ChainMap\n",
    "import multiprocessing\n",
    "from functools import partial\n",
    "import numpy as np\n",
    "from itertools import repeat\n",
    "\n",
    "warnings.filterwarnings('ignore')\n",
    "\n",
    "try:\n",
    "    %load_ext autotime\n",
    "    %load_ext jupyterlab_notify\n",
    "except:\n",
    "    !pip3 install ipython-autotime\n",
    "    %load_ext autotime"
   ]
  },
  {
   "cell_type": "code",
   "execution_count": 2,
   "id": "bb944588-a9ab-442f-8568-23d9fcba6392",
   "metadata": {},
   "outputs": [
    {
     "name": "stdout",
     "output_type": "stream",
     "text": [
      "time: 264 µs (started: 2023-03-05 03:37:12 -05:00)\n"
     ]
    }
   ],
   "source": [
    "#pd.set_option('max_columns', 2)\n",
    "#pd.set_option('min_rows', 20)"
   ]
  },
  {
   "cell_type": "markdown",
   "id": "c492d1c2-a2b8-401c-a538-5789bff84c02",
   "metadata": {},
   "source": [
    "## Database Connection"
   ]
  },
  {
   "cell_type": "code",
   "execution_count": 3,
   "id": "e08df3dd-ef3e-4d5b-9478-71fa8eceaf1c",
   "metadata": {},
   "outputs": [
    {
     "name": "stdout",
     "output_type": "stream",
     "text": [
      "time: 380 ms (started: 2023-03-05 03:37:12 -05:00)\n"
     ]
    }
   ],
   "source": [
    "conn = db_func.get_conn()"
   ]
  },
  {
   "cell_type": "markdown",
   "id": "42f77435-cf89-4e28-a2c0-fec0c4242a7c",
   "metadata": {},
   "source": [
    "# Preprocessing\n"
   ]
  },
  {
   "cell_type": "markdown",
   "id": "d132be9c-5aeb-4615-a6a4-608bb3946479",
   "metadata": {},
   "source": [
    "match_df: The final processed dataset to be used in the machine learning models "
   ]
  },
  {
   "cell_type": "code",
   "execution_count": 4,
   "id": "26269d9a-0435-47e4-9d1a-a59f8dbab629",
   "metadata": {},
   "outputs": [
    {
     "name": "stdout",
     "output_type": "stream",
     "text": [
      "time: 6min 13s (started: 2023-03-05 03:37:12 -05:00)\n"
     ]
    }
   ],
   "source": [
    "match_query = '''SELECT\n",
    "\t\t\t\tm.match_id,  m.away_id, m.home_id,\n",
    "\t\t\t\tm.date, m.away_pts, m.home_pts, m.playoff_game,\n",
    "\t\t\t\th_ml.home_ml, a_ml.away_ml,\n",
    "\t\t\t\th_ps.home_spread, a_ps.away_spread,\n",
    "\t\t\t\th_ps.home_ps_odds, a_ps.away_ps_odds,\n",
    "\t\t\t\tover.over, under.under, ou.spread\n",
    "\t\t\tFROM match AS m\n",
    "\t\t\tLEFT OUTER JOIN\n",
    "\t\t\t(\n",
    "\t\t\t\tSELECT\n",
    "\t\t\t\t\tAVG(decimal_odds) AS home_ml,\n",
    "\t\t\t\t\tm.match_id AS match_id\n",
    "\t\t\t\tFROM\n",
    "\t\t\t\t\todds AS o, team AS t1, team as t2,\n",
    "\t\t\t\t\tmatch AS m\n",
    "\t\t\t\tWHERE\n",
    "\t\t\t\t\to.bet_type_id = 1 AND\n",
    "\t\t\t\t\to.match_id = m.match_id AND\n",
    "\t\t\t\t\to.team_id = m.home_id\n",
    "\t\t\t\tGROUP BY m.match_id\n",
    "\t\t\t) AS h_ml ON m.match_id = h_ml.match_id\n",
    "\t\t\tLEFT OUTER JOIN\n",
    "\t\t\t(\n",
    "\t\t\t\tSELECT\n",
    "\t\t\t\t\tAVG(decimal_odds) AS away_ml,\n",
    "\t\t\t\t\tm.match_id AS match_id\n",
    "\t\t\t\tFROM\n",
    "\t\t\t\t\todds AS o, team AS t1, team as t2,\n",
    "\t\t\t\t\tmatch AS m\n",
    "\t\t\t\tWHERE\n",
    "\t\t\t\t\to.bet_type_id = 1 AND\n",
    "\t\t\t\t\to.match_id = m.match_id AND\n",
    "\t\t\t\t\to.team_id = m.away_id\n",
    "\t\t\t\tGROUP BY m.match_id\n",
    "\t\t\t) AS a_ml ON m.match_id = a_ml.match_id\n",
    "\t\t\tLEFT OUTER JOIN\n",
    "\t\t\t(\n",
    "\t\t\t\tSELECT\n",
    "\t\t\t\t\tAVG(decimal_odds) AS home_ps_odds,\n",
    "\t\t\t\t\tAVG(spread) AS home_spread,\n",
    "\t\t\t\t\tm.match_id AS match_id\n",
    "\t\t\t\tFROM\n",
    "\t\t\t\t\todds AS o, team AS t1, team as t2,\n",
    "\t\t\t\t\tmatch AS m\n",
    "\t\t\t\tWHERE\n",
    "\t\t\t\t\to.bet_type_id = 2 AND\n",
    "\t\t\t\t\to.match_id = m.match_id AND\n",
    "\t\t\t\t\to.team_id = m.home_id\n",
    "\t\t\t\tGROUP BY m.match_id\n",
    "\t\t\t) AS h_ps ON m.match_id = h_ps.match_id\n",
    "\t\t\tLEFT OUTER JOIN\n",
    "\t\t\t(\n",
    "\t\t\t\tSELECT\n",
    "\t\t\t\t\tAVG(decimal_odds) AS away_ps_odds,\n",
    "\t\t\t\t\tAVG(spread) AS away_spread,\n",
    "\t\t\t\t\tm.match_id AS match_id\n",
    "\t\t\t\tFROM\n",
    "\t\t\t\t\todds AS o, team AS t1, team as t2,\n",
    "\t\t\t\t\tmatch AS m\n",
    "\t\t\t\tWHERE\n",
    "\t\t\t\t\to.bet_type_id = 2 AND\n",
    "\t\t\t\t\to.match_id = m.match_id AND\n",
    "\t\t\t\t\to.team_id = m.away_id\n",
    "\t\t\t\tGROUP BY m.match_id\n",
    "\t\t\t) AS a_ps ON m.match_id = a_ps.match_id\n",
    "\t\t\tLEFT OUTER JOIN\n",
    "\t\t\t(\n",
    "\t\t\t\tSELECT\n",
    "\t\t\t\t\tAVG(decimal_odds) AS under,\n",
    "\t\t\t\t\tm.match_id AS match_id\n",
    "\t\t\t\tFROM\n",
    "\t\t\t\t\todds AS o, match AS m\n",
    "\t\t\t\tWHERE\n",
    "\t\t\t\t\to.bet_type_id = 3 AND\n",
    "\t\t\t\t\to.over_under = 'under' AND\n",
    "\t\t\t\t\to.match_id = m.match_id\n",
    "\t\t\t\tGROUP BY m.match_id\n",
    "\t\t\t) AS under ON m.match_id = under.match_id\n",
    "\t\t\tLEFT OUTER JOIN\n",
    "\t\t\t(\n",
    "\t\t\t\tSELECT\n",
    "\t\t\t\t\tAVG(decimal_odds) AS over,\n",
    "\t\t\t\t\tm.match_id AS match_id\n",
    "\t\t\t\tFROM\n",
    "\t\t\t\t\todds AS o, match AS m\n",
    "\t\t\t\tWHERE\n",
    "\t\t\t\t\to.bet_type_id = 3 AND\n",
    "\t\t\t\t\to.over_under = 'over' AND\n",
    "\t\t\t\t\to.match_id = m.match_id\n",
    "\t\t\t\tGROUP BY m.match_id\n",
    "\t\t\t) AS over ON m.match_id = over.match_id\n",
    "\t\t\tLEFT OUTER JOIN\n",
    "\t\t\t(\n",
    "\t\t\t\tSELECT\n",
    "\t\t\t\t\tAVG(spread) AS spread,\n",
    "\t\t\t\t\tm.match_id AS match_id\n",
    "\t\t\t\tFROM\n",
    "\t\t\t\t\todds AS o, match AS m\n",
    "\t\t\t\tWHERE\n",
    "\t\t\t\t\to.bet_type_id = 3 AND\n",
    "\t\t\t\t\to.match_id = m.match_id\n",
    "\t\t\t\tGROUP BY m.match_id\n",
    "\t\t\t) AS ou ON m.match_id = ou.match_id\n",
    "\t\t\tWHERE date >= DATE('2007-10-30')\n",
    "\t\t\tORDER BY date ASC\n",
    "\t\t\t'''\n",
    "\n",
    "season_query = '''SELECT *\n",
    "\t\t\t\tFROM season'''\n",
    "\n",
    "player_performance_query = '''SELECT p.*, m.date\n",
    "\t\t\t\t\t\t\tFROM player_performance as p, match as m\n",
    "\t\t\t\t\t\t\tWHERE m.match_id = p.match_id\n",
    "\t\t\t\t\t\t\tAND m.date >= DATE('2007-10-30')\n",
    "\t\t\t\t\t\t\tORDER BY date ASC'''\n",
    "team_query = '''SELECT * \n",
    "\t\t\t\tFROM team_name'''\n",
    "\n",
    "injury_query = '''SELECT i.* \n",
    "\t\t\t\tFROM injury as i, match as m\n",
    "\t\t\t\tWHERE m.match_id = i.match_id\n",
    "\t\t\t\tAND m.date >= DATE('2007-10-30')\n",
    "\t\t\t\tORDER BY m.date ASC'''\n",
    "\n",
    "match_df = pd.read_sql(match_query, conn)\n",
    "season_df = pd.read_sql(season_query, conn)\n",
    "pp_df = pd.read_sql(player_performance_query, conn)\n",
    "team_df = pd.read_sql(team_query, conn)\n",
    "injury_df = pd.read_sql(injury_query, conn)\n",
    "match_df['date'] = match_df['date'].map(lambda x: datetime(x.year, x.month, x.day))\n",
    "pp_df['date'] = pp_df['date'].map(lambda x: datetime(x.year, x.month, x.day))\n",
    "season_df['start_date'] =season_df['start_date'].map(lambda x: datetime(x.year, x.month, x.day))\n",
    "season_df['end_date'] = season_df['end_date'].map(lambda x: datetime(x.year, x.month, x.day))"
   ]
  },
  {
   "cell_type": "code",
   "execution_count": 5,
   "id": "a79345ac-97eb-4e93-91d7-5edef01bbedf",
   "metadata": {},
   "outputs": [
    {
     "name": "stdout",
     "output_type": "stream",
     "text": [
      "time: 200 µs (started: 2023-03-05 03:43:26 -05:00)\n"
     ]
    }
   ],
   "source": [
    "def get_season(date):\n",
    "    return season_df[(season_df['start_date'] <= date) &\n",
    "                     (season_df['end_date'] >= date)]['season'].values[0]"
   ]
  },
  {
   "cell_type": "code",
   "execution_count": 6,
   "id": "a8d6b19d-f2a2-4006-8ad2-49f22be2aea1",
   "metadata": {},
   "outputs": [
    {
     "name": "stdout",
     "output_type": "stream",
     "text": [
      "time: 2min 17s (started: 2023-03-05 03:43:26 -05:00)\n"
     ]
    }
   ],
   "source": [
    "match_df['season'] = match_df['date'].map(get_season)\n",
    "pp_df['season'] = pp_df['date'].map(get_season)"
   ]
  },
  {
   "cell_type": "markdown",
   "id": "0e88fb98-44d7-4afa-a57a-1faf9e08bdcc",
   "metadata": {},
   "source": [
    "# Feature Engineering"
   ]
  },
  {
   "cell_type": "markdown",
   "id": "de45a4dd-5148-4fa4-944e-cd2f15de34e1",
   "metadata": {},
   "source": [
    "## Basic stats with respect to the favorite (determined by bookies)"
   ]
  },
  {
   "cell_type": "code",
   "execution_count": 7,
   "id": "5c53c7e3-6d8d-4589-8005-cc272b47723b",
   "metadata": {},
   "outputs": [
    {
     "data": {
      "application/vnd.jupyter.widget-view+json": {
       "model_id": "e440a2eab65142029c6c3378601415ec",
       "version_major": 2,
       "version_minor": 0
      },
      "text/plain": [
       "  0%|          | 0/19158 [00:00<?, ?it/s]"
      ]
     },
     "metadata": {},
     "output_type": "display_data"
    },
    {
     "name": "stdout",
     "output_type": "stream",
     "text": [
      "time: 900 ms (started: 2023-03-05 03:45:43 -05:00)\n"
     ]
    }
   ],
   "source": [
    "favorite_df = defaultdict(list)\n",
    "p = re.compile('prev.*ema')\n",
    "match_df['home_movl'] = match_df['home_pts'] - match_df['away_pts']\n",
    "match_df['home_win'] = match_df['home_movl'].map(lambda x: 0 if x < 0 else 1)\n",
    "for idx, row in tqdm(match_df.iterrows(), total=match_df.shape[0]):    \n",
    "    favorite_won = False\n",
    "    if row['home_ml'] < row['away_ml']:\n",
    "        favorite_df['favorite_ml'].append(row['home_ml'])\n",
    "        favorite_df['underdog_ml'].append(row['away_ml'])\n",
    "        favorite_df['favorite_is_home'].append(1)\n",
    "        favorite_df['favorite_movl'].append(row['home_pts']-row['away_pts'])\n",
    "        favorite_df['point_spread'].append(abs(row['home_spread']))\n",
    "        favorite_df['favorite_pts'].append(row['home_pts'])\n",
    "        favorite_df['underdog_pts'].append(row['away_pts'])\n",
    "\n",
    "        if row['home_win']:\n",
    "            favorite_won = True\n",
    "    else:\n",
    "        if not row['home_win']:\n",
    "            favorite_won = True\n",
    "        favorite_df['favorite_ml'].append(row['away_ml'])\n",
    "        favorite_df['underdog_ml'].append(row['home_ml'])\n",
    "        favorite_df['favorite_is_home'].append(0)\n",
    "        favorite_df['favorite_movl'].append(row['away_pts']-row['home_pts'])\n",
    "        favorite_df['point_spread'].append(abs(row['away_spread']))\n",
    "        favorite_df['favorite_pts'].append(row['away_pts'])\n",
    "        favorite_df['underdog_pts'].append(row['home_pts'])\n",
    "\n",
    "\n",
    "    favorite_df['favorite_won'].append(1 if favorite_won else 0)\n",
    "\n",
    "favorite_df = pd.DataFrame(favorite_df)\n",
    "favorite_df['vig'] = 1/favorite_df['favorite_ml'] + 1/favorite_df['underdog_ml'] - 1\n",
    "favorite_df['favorite_implied'] = 1/favorite_df['favorite_ml'] - favorite_df['vig']/2\n",
    "favorite_df['underdog_implied'] = 1/favorite_df['underdog_ml'] - favorite_df['vig']/2\n",
    "\n",
    "match_df = pd.concat([match_df.reset_index(drop=True),\n",
    "                      favorite_df.reset_index(drop=True)],axis=1)\n",
    "match_df['favorite_id'] = match_df.apply(lambda x: x['home_id'] if x['favorite_is_home']==1 else x['away_id'],axis=1)\n",
    "match_df['underdog_id'] = match_df.apply(lambda x: x['home_id'] if x['favorite_is_home']==0 else x['away_id'],axis=1)\n"
   ]
  },
  {
   "cell_type": "code",
   "execution_count": 8,
   "id": "490da769-8558-4331-822a-e0f976107e85",
   "metadata": {},
   "outputs": [
    {
     "name": "stdout",
     "output_type": "stream",
     "text": [
      "time: 352 µs (started: 2023-03-05 03:45:44 -05:00)\n"
     ]
    }
   ],
   "source": [
    "def get_prev_matches(date, team_id, match_df, opponent_id = 0):\n",
    "    if opponent_id:\n",
    "        return match_df[(match_df[\"date\"] < date) &\n",
    "                        (((match_df[\"favorite_id\"] == team_id) & \n",
    "                          (match_df[\"underdog_id\"] == opponent_id)) |\n",
    "                         ((match_df[\"favorite_id\"] == opponent_id) & \n",
    "                          (match_df[\"underdog_id\"] == team_id)))]\n",
    "    else:\n",
    "        return match_df[(match_df[\"date\"] < date) &\n",
    "                    ((match_df[\"favorite_id\"] == team_id) |\n",
    "                     (match_df[\"underdog_id\"] == team_id))]\n"
   ]
  },
  {
   "cell_type": "code",
   "execution_count": 9,
   "id": "11c43bb3-54c3-4b96-995b-45c71fafb90e",
   "metadata": {},
   "outputs": [
    {
     "data": {
      "text/plain": [
       "count    19158.000000\n",
       "mean        15.339806\n",
       "std          8.668143\n",
       "min          1.000000\n",
       "25%          8.000000\n",
       "50%         15.000000\n",
       "75%         23.000000\n",
       "max         30.000000\n",
       "Name: favorite_id, dtype: float64"
      ]
     },
     "execution_count": 9,
     "metadata": {},
     "output_type": "execute_result"
    },
    {
     "name": "stdout",
     "output_type": "stream",
     "text": [
      "time: 8.95 ms (started: 2023-03-05 03:45:44 -05:00)\n"
     ]
    }
   ],
   "source": [
    "match_df.favorite_id.describe()"
   ]
  },
  {
   "cell_type": "code",
   "execution_count": 10,
   "id": "a9f3cb4d-5541-4b0f-a8bc-eeba9a93d696",
   "metadata": {},
   "outputs": [
    {
     "name": "stdout",
     "output_type": "stream",
     "text": [
      "time: 280 µs (started: 2023-03-05 03:45:44 -05:00)\n"
     ]
    }
   ],
   "source": [
    "def get_win_ratio(team_id, prev_matches, i):\n",
    "    if len(prev_matches) < i: \n",
    "        return None\n",
    "    prev_matches['res'] =  prev_matches.apply(lambda x:\n",
    "                             1 if (x['favorite_id'] == team_id and x['favorite_won']) or \n",
    "                                      (x['underdog_id'] == team_id and not x['favorite_won'])        \n",
    "                             else 0, axis=1)\n",
    "    return prev_matches['res'].sum()/i    "
   ]
  },
  {
   "cell_type": "code",
   "execution_count": 11,
   "id": "decd1f2e-daa0-4e50-a65f-75ab57a7708b",
   "metadata": {},
   "outputs": [
    {
     "data": {
      "application/vnd.jupyter.widget-view+json": {
       "model_id": "1a71ac1003134ef9857a592e3f63fcdd",
       "version_major": 2,
       "version_minor": 0
      },
      "text/plain": [
       "  0%|          | 0/3 [00:00<?, ?it/s]"
      ]
     },
     "metadata": {},
     "output_type": "display_data"
    },
    {
     "name": "stdout",
     "output_type": "stream",
     "text": [
      "time: 1min 44s (started: 2023-03-05 03:45:44 -05:00)\n"
     ]
    }
   ],
   "source": [
    "window_sizes = [5,8,12]\n",
    "\n",
    "for w in tqdm(window_sizes):\n",
    "    match_df[f'past_{w}_favorite_win_ratio'] = match_df.apply(lambda x: \n",
    "                                    get_win_ratio(x['favorite_id'], \n",
    "                                        get_prev_matches(x['date'], \n",
    "                                                         x['favorite_id'],\n",
    "                                                         match_df\n",
    "                                                        ).tail(w),\n",
    "                                                    w), axis=1)\n",
    "    match_df[f'past_{w}_underdog_win_ratio'] = match_df.apply(lambda x: \n",
    "                                    get_win_ratio(x['underdog_id'], \n",
    "                                        get_prev_matches(x['date'], \n",
    "                                                         x['underdog_id'],\n",
    "                                                         match_df\n",
    "                                                        ).tail(w),\n",
    "                                                    w), axis=1)\n"
   ]
  },
  {
   "cell_type": "markdown",
   "id": "35745a06-f5dc-476d-8781-cbb581302887",
   "metadata": {},
   "source": [
    "# Player Factors"
   ]
  },
  {
   "cell_type": "code",
   "execution_count": 12,
   "id": "8aa6be4d-0c8b-4e3f-8de0-68920cf02779",
   "metadata": {},
   "outputs": [
    {
     "name": "stdout",
     "output_type": "stream",
     "text": [
      "time: 378 µs (started: 2023-03-05 03:47:29 -05:00)\n"
     ]
    }
   ],
   "source": [
    "def get_prev_player_match(date, player_id, pp_df):\n",
    "    return pp_df[(pp_df['date'] < date) & \n",
    "                (pp_df['player_id'] == player_id)].tail(1)\n",
    "def get_active_players(match_id, team_id, pp_df):\n",
    "    return  pp_df[(pp_df['match_id'] == match_id) &\n",
    "                      (pp_df['team_id'] == team_id) &\n",
    "                  (pp_df['sp']>0)]\n",
    "\n",
    "def get_complete_roster(match_id, team_id, match_df):\n",
    "    return  pp_df[(pp_df['match_id'] == match_id) &\n",
    "                      (pp_df['team_id'] == team_id)]"
   ]
  },
  {
   "cell_type": "markdown",
   "id": "25e1eb82-adcc-4832-bbb6-fe4cb7efcb28",
   "metadata": {},
   "source": [
    "## Define Stats per minute played"
   ]
  },
  {
   "cell_type": "code",
   "execution_count": 13,
   "id": "07e0e657-e02a-4d05-9085-3b2ef3833995",
   "metadata": {},
   "outputs": [
    {
     "name": "stdout",
     "output_type": "stream",
     "text": [
      "time: 37.1 s (started: 2023-03-05 03:47:29 -05:00)\n"
     ]
    }
   ],
   "source": [
    "pm_stats = ['pts', 'orb', 'drb', 'trb', 'ast', 'stl', 'blk','tov', 'pf']\n",
    "\n",
    "for f in pm_stats:\n",
    "    pp_df[f'{f}_avg'] = pp_df.apply(lambda x: x[f]*60/x['sp'] if x['sp']>0 else 0, axis=1)\n",
    "\n",
    "avg_stats = [f'{f}_avg' for f in pm_stats]"
   ]
  },
  {
   "cell_type": "markdown",
   "id": "099e1e4a-4b47-403e-af9d-736b59bf403d",
   "metadata": {},
   "source": [
    "## EWM Player Stats"
   ]
  },
  {
   "cell_type": "code",
   "execution_count": 14,
   "id": "359254d1-bd48-43f4-9eb0-a1ab784d21f9",
   "metadata": {},
   "outputs": [
    {
     "name": "stdout",
     "output_type": "stream",
     "text": [
      "time: 619 µs (started: 2023-03-05 03:48:06 -05:00)\n"
     ]
    }
   ],
   "source": [
    "def get_player_dict(gb):\n",
    "    window_sizes = [10,20,40]\n",
    "    player_dict = dict(tuple(gb))\n",
    "    \n",
    "    features = ['ts_pct',\n",
    "       'efg_pct', 'threepar', 'ftr', 'orb_pct', 'drb_pct', 'trb_pct',\n",
    "       'ast_pct', 'stl_pct', 'blk_pct', 'tov_pct', 'usg_pct', 'ortg', 'drtg',\n",
    "       'fg', 'fga', 'fg_pct', 'threep', 'threepa',\n",
    "       'threep_pct', 'ft', 'fta', 'ft_pct', 'orb', 'drb', 'trb', 'ast', 'stl',\n",
    "       'blk', 'tov', 'pf', 'pts', 'pts_avg', 'orb_avg', 'drb_avg', 'trb_avg',\n",
    "       'ast_avg', 'stl_avg', 'blk_avg', 'tov_avg', 'pf_avg']\n",
    "    n_features = len(features)\n",
    "    for w in window_sizes:\n",
    "        ewm_features = [f'{f}_ewm_{w}' for f in features]\n",
    "        for p in player_dict:\n",
    "            # set the index to date for use in finding variable length windows later\n",
    "            for i in range(n_features):\n",
    "                player_dict[p].loc[player_dict[p].sp > 0, ewm_features[i]] = player_dict[p].loc[player_dict[p].sp > 0, features[i]].ewm(span=w,min_periods=0,adjust=False,ignore_na=False).mean().shift(+1).values.tolist()\n",
    "            player_dict[p].index = player_dict[p]['date']\n",
    "            player_dict[p].fillna(method='ffill', inplace=True)\n",
    "    return player_dict"
   ]
  },
  {
   "cell_type": "code",
   "execution_count": 3,
   "id": "53f4a884-040e-41ed-b435-e0fb5581fde2",
   "metadata": {},
   "outputs": [
    {
     "ename": "NameError",
     "evalue": "name 'get_player_dict' is not defined",
     "output_type": "error",
     "traceback": [
      "\u001b[0;31m---------------------------------------------------------------------------\u001b[0m",
      "\u001b[0;31mNameError\u001b[0m                                 Traceback (most recent call last)",
      "Cell \u001b[0;32mIn[3], line 13\u001b[0m\n\u001b[1;32m     10\u001b[0m     pool\u001b[38;5;241m.\u001b[39mjoin()\n\u001b[1;32m     11\u001b[0m     \u001b[38;5;28;01mreturn\u001b[39;00m res\n\u001b[0;32m---> 13\u001b[0m player_dict \u001b[38;5;241m=\u001b[39m parallelize_gb(pp_df, \u001b[43mget_player_dict\u001b[49m)\n",
      "\u001b[0;31mNameError\u001b[0m: name 'get_player_dict' is not defined"
     ]
    },
    {
     "name": "stdout",
     "output_type": "stream",
     "text": [
      "time: 215 ms (started: 2023-03-06 14:50:59 -05:00)\n"
     ]
    }
   ],
   "source": [
    "def parallelize_gb(pp_df, func):\n",
    "    num_cores = multiprocessing.cpu_count()-1  #leave one free to not freeze machine\n",
    "    num_partitions = num_cores #number of partitions to split dataframe\n",
    "    gb = pp_df.groupby(['player_id'], group_keys=True)\n",
    "    df_split = np.array_split(gb, num_partitions)\n",
    "    pool = multiprocessing.Pool(num_cores)\n",
    "    list_dict = pool.map(func, df_split)\n",
    "    res = dict(ChainMap(*list_dict))\n",
    "    pool.close()\n",
    "    pool.join()\n",
    "    return res\n",
    "\n",
    "player_dict = parallelize_gb(pp_df, get_player_dict)"
   ]
  },
  {
   "cell_type": "code",
   "execution_count": 16,
   "id": "cfe58e91-ece2-4011-9626-b3b4c721acee",
   "metadata": {},
   "outputs": [
    {
     "data": {
      "text/html": [
       "<div>\n",
       "<style scoped>\n",
       "    .dataframe tbody tr th:only-of-type {\n",
       "        vertical-align: middle;\n",
       "    }\n",
       "\n",
       "    .dataframe tbody tr th {\n",
       "        vertical-align: top;\n",
       "    }\n",
       "\n",
       "    .dataframe thead th {\n",
       "        text-align: right;\n",
       "    }\n",
       "</style>\n",
       "<table border=\"1\" class=\"dataframe\">\n",
       "  <thead>\n",
       "    <tr style=\"text-align: right;\">\n",
       "      <th></th>\n",
       "      <th>player_id</th>\n",
       "      <th>match_id</th>\n",
       "      <th>team_id</th>\n",
       "      <th>sp</th>\n",
       "      <th>inactive</th>\n",
       "      <th>ts_pct</th>\n",
       "      <th>efg_pct</th>\n",
       "      <th>threepar</th>\n",
       "      <th>ftr</th>\n",
       "      <th>orb_pct</th>\n",
       "      <th>...</th>\n",
       "      <th>pts_ewm_40</th>\n",
       "      <th>pts_avg_ewm_40</th>\n",
       "      <th>orb_avg_ewm_40</th>\n",
       "      <th>drb_avg_ewm_40</th>\n",
       "      <th>trb_avg_ewm_40</th>\n",
       "      <th>ast_avg_ewm_40</th>\n",
       "      <th>stl_avg_ewm_40</th>\n",
       "      <th>blk_avg_ewm_40</th>\n",
       "      <th>tov_avg_ewm_40</th>\n",
       "      <th>pf_avg_ewm_40</th>\n",
       "    </tr>\n",
       "    <tr>\n",
       "      <th>date</th>\n",
       "      <th></th>\n",
       "      <th></th>\n",
       "      <th></th>\n",
       "      <th></th>\n",
       "      <th></th>\n",
       "      <th></th>\n",
       "      <th></th>\n",
       "      <th></th>\n",
       "      <th></th>\n",
       "      <th></th>\n",
       "      <th></th>\n",
       "      <th></th>\n",
       "      <th></th>\n",
       "      <th></th>\n",
       "      <th></th>\n",
       "      <th></th>\n",
       "      <th></th>\n",
       "      <th></th>\n",
       "      <th></th>\n",
       "      <th></th>\n",
       "      <th></th>\n",
       "    </tr>\n",
       "  </thead>\n",
       "  <tbody>\n",
       "    <tr>\n",
       "      <th>2020-12-23</th>\n",
       "      <td>3</td>\n",
       "      <td>14920</td>\n",
       "      <td>16</td>\n",
       "      <td>819.0</td>\n",
       "      <td>0.0</td>\n",
       "      <td>0.694</td>\n",
       "      <td>0.750</td>\n",
       "      <td>0.000</td>\n",
       "      <td>1.000</td>\n",
       "      <td>9.5</td>\n",
       "      <td>...</td>\n",
       "      <td>NaN</td>\n",
       "      <td>NaN</td>\n",
       "      <td>NaN</td>\n",
       "      <td>NaN</td>\n",
       "      <td>NaN</td>\n",
       "      <td>NaN</td>\n",
       "      <td>NaN</td>\n",
       "      <td>NaN</td>\n",
       "      <td>NaN</td>\n",
       "      <td>NaN</td>\n",
       "    </tr>\n",
       "    <tr>\n",
       "      <th>2020-12-25</th>\n",
       "      <td>3</td>\n",
       "      <td>10398</td>\n",
       "      <td>16</td>\n",
       "      <td>1168.0</td>\n",
       "      <td>0.0</td>\n",
       "      <td>0.698</td>\n",
       "      <td>0.714</td>\n",
       "      <td>0.000</td>\n",
       "      <td>0.286</td>\n",
       "      <td>7.3</td>\n",
       "      <td>...</td>\n",
       "      <td>8.000000</td>\n",
       "      <td>0.586081</td>\n",
       "      <td>0.073260</td>\n",
       "      <td>0.146520</td>\n",
       "      <td>0.219780</td>\n",
       "      <td>0.000000</td>\n",
       "      <td>0.000000</td>\n",
       "      <td>0.000000</td>\n",
       "      <td>0.000000</td>\n",
       "      <td>0.146520</td>\n",
       "    </tr>\n",
       "    <tr>\n",
       "      <th>2020-12-29</th>\n",
       "      <td>3</td>\n",
       "      <td>10389</td>\n",
       "      <td>16</td>\n",
       "      <td>1058.0</td>\n",
       "      <td>0.0</td>\n",
       "      <td>0.563</td>\n",
       "      <td>0.625</td>\n",
       "      <td>0.000</td>\n",
       "      <td>0.250</td>\n",
       "      <td>0.0</td>\n",
       "      <td>...</td>\n",
       "      <td>8.146341</td>\n",
       "      <td>0.585056</td>\n",
       "      <td>0.072192</td>\n",
       "      <td>0.144385</td>\n",
       "      <td>0.216577</td>\n",
       "      <td>0.005012</td>\n",
       "      <td>0.000000</td>\n",
       "      <td>0.002506</td>\n",
       "      <td>0.002506</td>\n",
       "      <td>0.154408</td>\n",
       "    </tr>\n",
       "    <tr>\n",
       "      <th>2020-12-30</th>\n",
       "      <td>3</td>\n",
       "      <td>10386</td>\n",
       "      <td>16</td>\n",
       "      <td>721.0</td>\n",
       "      <td>0.0</td>\n",
       "      <td>0.000</td>\n",
       "      <td>0.000</td>\n",
       "      <td>0.000</td>\n",
       "      <td>0.000</td>\n",
       "      <td>29.2</td>\n",
       "      <td>...</td>\n",
       "      <td>8.236764</td>\n",
       "      <td>0.584180</td>\n",
       "      <td>0.068671</td>\n",
       "      <td>0.148407</td>\n",
       "      <td>0.217078</td>\n",
       "      <td>0.004767</td>\n",
       "      <td>0.002766</td>\n",
       "      <td>0.002384</td>\n",
       "      <td>0.007916</td>\n",
       "      <td>0.155175</td>\n",
       "    </tr>\n",
       "    <tr>\n",
       "      <th>2021-01-01</th>\n",
       "      <td>3</td>\n",
       "      <td>4224</td>\n",
       "      <td>16</td>\n",
       "      <td>719.0</td>\n",
       "      <td>0.0</td>\n",
       "      <td>0.753</td>\n",
       "      <td>0.750</td>\n",
       "      <td>0.000</td>\n",
       "      <td>1.500</td>\n",
       "      <td>16.0</td>\n",
       "      <td>...</td>\n",
       "      <td>7.834970</td>\n",
       "      <td>0.555684</td>\n",
       "      <td>0.077499</td>\n",
       "      <td>0.149286</td>\n",
       "      <td>0.226785</td>\n",
       "      <td>0.004535</td>\n",
       "      <td>0.002631</td>\n",
       "      <td>0.006327</td>\n",
       "      <td>0.019708</td>\n",
       "      <td>0.155724</td>\n",
       "    </tr>\n",
       "    <tr>\n",
       "      <th>...</th>\n",
       "      <td>...</td>\n",
       "      <td>...</td>\n",
       "      <td>...</td>\n",
       "      <td>...</td>\n",
       "      <td>...</td>\n",
       "      <td>...</td>\n",
       "      <td>...</td>\n",
       "      <td>...</td>\n",
       "      <td>...</td>\n",
       "      <td>...</td>\n",
       "      <td>...</td>\n",
       "      <td>...</td>\n",
       "      <td>...</td>\n",
       "      <td>...</td>\n",
       "      <td>...</td>\n",
       "      <td>...</td>\n",
       "      <td>...</td>\n",
       "      <td>...</td>\n",
       "      <td>...</td>\n",
       "      <td>...</td>\n",
       "      <td>...</td>\n",
       "    </tr>\n",
       "    <tr>\n",
       "      <th>2022-04-18</th>\n",
       "      <td>3</td>\n",
       "      <td>15112</td>\n",
       "      <td>28</td>\n",
       "      <td>1739.0</td>\n",
       "      <td>0.0</td>\n",
       "      <td>0.415</td>\n",
       "      <td>0.375</td>\n",
       "      <td>0.125</td>\n",
       "      <td>0.125</td>\n",
       "      <td>7.0</td>\n",
       "      <td>...</td>\n",
       "      <td>10.341972</td>\n",
       "      <td>0.446731</td>\n",
       "      <td>0.066428</td>\n",
       "      <td>0.161688</td>\n",
       "      <td>0.228117</td>\n",
       "      <td>0.046173</td>\n",
       "      <td>0.018711</td>\n",
       "      <td>0.025121</td>\n",
       "      <td>0.055287</td>\n",
       "      <td>0.086776</td>\n",
       "    </tr>\n",
       "    <tr>\n",
       "      <th>2022-04-20</th>\n",
       "      <td>3</td>\n",
       "      <td>18533</td>\n",
       "      <td>28</td>\n",
       "      <td>2133.0</td>\n",
       "      <td>0.0</td>\n",
       "      <td>0.842</td>\n",
       "      <td>0.909</td>\n",
       "      <td>0.182</td>\n",
       "      <td>0.182</td>\n",
       "      <td>6.5</td>\n",
       "      <td>...</td>\n",
       "      <td>10.178949</td>\n",
       "      <td>0.436721</td>\n",
       "      <td>0.066554</td>\n",
       "      <td>0.160533</td>\n",
       "      <td>0.227087</td>\n",
       "      <td>0.043921</td>\n",
       "      <td>0.019481</td>\n",
       "      <td>0.023896</td>\n",
       "      <td>0.052590</td>\n",
       "      <td>0.087592</td>\n",
       "    </tr>\n",
       "    <tr>\n",
       "      <th>2022-04-23</th>\n",
       "      <td>3</td>\n",
       "      <td>18528</td>\n",
       "      <td>28</td>\n",
       "      <td>1465.0</td>\n",
       "      <td>0.0</td>\n",
       "      <td>0.363</td>\n",
       "      <td>0.333</td>\n",
       "      <td>0.333</td>\n",
       "      <td>0.333</td>\n",
       "      <td>8.2</td>\n",
       "      <td>...</td>\n",
       "      <td>10.658024</td>\n",
       "      <td>0.442861</td>\n",
       "      <td>0.066052</td>\n",
       "      <td>0.158191</td>\n",
       "      <td>0.224243</td>\n",
       "      <td>0.043151</td>\n",
       "      <td>0.018531</td>\n",
       "      <td>0.024103</td>\n",
       "      <td>0.055513</td>\n",
       "      <td>0.086064</td>\n",
       "    </tr>\n",
       "    <tr>\n",
       "      <th>2022-04-25</th>\n",
       "      <td>3</td>\n",
       "      <td>15109</td>\n",
       "      <td>28</td>\n",
       "      <td>1606.0</td>\n",
       "      <td>0.0</td>\n",
       "      <td>0.715</td>\n",
       "      <td>0.682</td>\n",
       "      <td>0.455</td>\n",
       "      <td>0.182</td>\n",
       "      <td>5.6</td>\n",
       "      <td>...</td>\n",
       "      <td>10.382023</td>\n",
       "      <td>0.431247</td>\n",
       "      <td>0.066825</td>\n",
       "      <td>0.154470</td>\n",
       "      <td>0.221296</td>\n",
       "      <td>0.043044</td>\n",
       "      <td>0.017627</td>\n",
       "      <td>0.022927</td>\n",
       "      <td>0.058799</td>\n",
       "      <td>0.083864</td>\n",
       "    </tr>\n",
       "    <tr>\n",
       "      <th>2022-04-28</th>\n",
       "      <td>3</td>\n",
       "      <td>18486</td>\n",
       "      <td>28</td>\n",
       "      <td>1334.0</td>\n",
       "      <td>0.0</td>\n",
       "      <td>0.190</td>\n",
       "      <td>0.143</td>\n",
       "      <td>0.286</td>\n",
       "      <td>0.286</td>\n",
       "      <td>0.0</td>\n",
       "      <td>...</td>\n",
       "      <td>10.704851</td>\n",
       "      <td>0.441192</td>\n",
       "      <td>0.065388</td>\n",
       "      <td>0.157870</td>\n",
       "      <td>0.223258</td>\n",
       "      <td>0.040944</td>\n",
       "      <td>0.016767</td>\n",
       "      <td>0.027276</td>\n",
       "      <td>0.055931</td>\n",
       "      <td>0.087062</td>\n",
       "    </tr>\n",
       "  </tbody>\n",
       "</table>\n",
       "<p>164 rows × 174 columns</p>\n",
       "</div>"
      ],
      "text/plain": [
       "            player_id  match_id  team_id      sp  inactive  ts_pct  efg_pct  \\\n",
       "date                                                                          \n",
       "2020-12-23          3     14920       16   819.0       0.0   0.694    0.750   \n",
       "2020-12-25          3     10398       16  1168.0       0.0   0.698    0.714   \n",
       "2020-12-29          3     10389       16  1058.0       0.0   0.563    0.625   \n",
       "2020-12-30          3     10386       16   721.0       0.0   0.000    0.000   \n",
       "2021-01-01          3      4224       16   719.0       0.0   0.753    0.750   \n",
       "...               ...       ...      ...     ...       ...     ...      ...   \n",
       "2022-04-18          3     15112       28  1739.0       0.0   0.415    0.375   \n",
       "2022-04-20          3     18533       28  2133.0       0.0   0.842    0.909   \n",
       "2022-04-23          3     18528       28  1465.0       0.0   0.363    0.333   \n",
       "2022-04-25          3     15109       28  1606.0       0.0   0.715    0.682   \n",
       "2022-04-28          3     18486       28  1334.0       0.0   0.190    0.143   \n",
       "\n",
       "            threepar    ftr  orb_pct  ...  pts_ewm_40  pts_avg_ewm_40  \\\n",
       "date                                  ...                               \n",
       "2020-12-23     0.000  1.000      9.5  ...         NaN             NaN   \n",
       "2020-12-25     0.000  0.286      7.3  ...    8.000000        0.586081   \n",
       "2020-12-29     0.000  0.250      0.0  ...    8.146341        0.585056   \n",
       "2020-12-30     0.000  0.000     29.2  ...    8.236764        0.584180   \n",
       "2021-01-01     0.000  1.500     16.0  ...    7.834970        0.555684   \n",
       "...              ...    ...      ...  ...         ...             ...   \n",
       "2022-04-18     0.125  0.125      7.0  ...   10.341972        0.446731   \n",
       "2022-04-20     0.182  0.182      6.5  ...   10.178949        0.436721   \n",
       "2022-04-23     0.333  0.333      8.2  ...   10.658024        0.442861   \n",
       "2022-04-25     0.455  0.182      5.6  ...   10.382023        0.431247   \n",
       "2022-04-28     0.286  0.286      0.0  ...   10.704851        0.441192   \n",
       "\n",
       "            orb_avg_ewm_40  drb_avg_ewm_40  trb_avg_ewm_40  ast_avg_ewm_40  \\\n",
       "date                                                                         \n",
       "2020-12-23             NaN             NaN             NaN             NaN   \n",
       "2020-12-25        0.073260        0.146520        0.219780        0.000000   \n",
       "2020-12-29        0.072192        0.144385        0.216577        0.005012   \n",
       "2020-12-30        0.068671        0.148407        0.217078        0.004767   \n",
       "2021-01-01        0.077499        0.149286        0.226785        0.004535   \n",
       "...                    ...             ...             ...             ...   \n",
       "2022-04-18        0.066428        0.161688        0.228117        0.046173   \n",
       "2022-04-20        0.066554        0.160533        0.227087        0.043921   \n",
       "2022-04-23        0.066052        0.158191        0.224243        0.043151   \n",
       "2022-04-25        0.066825        0.154470        0.221296        0.043044   \n",
       "2022-04-28        0.065388        0.157870        0.223258        0.040944   \n",
       "\n",
       "            stl_avg_ewm_40  blk_avg_ewm_40  tov_avg_ewm_40  pf_avg_ewm_40  \n",
       "date                                                                       \n",
       "2020-12-23             NaN             NaN             NaN            NaN  \n",
       "2020-12-25        0.000000        0.000000        0.000000       0.146520  \n",
       "2020-12-29        0.000000        0.002506        0.002506       0.154408  \n",
       "2020-12-30        0.002766        0.002384        0.007916       0.155175  \n",
       "2021-01-01        0.002631        0.006327        0.019708       0.155724  \n",
       "...                    ...             ...             ...            ...  \n",
       "2022-04-18        0.018711        0.025121        0.055287       0.086776  \n",
       "2022-04-20        0.019481        0.023896        0.052590       0.087592  \n",
       "2022-04-23        0.018531        0.024103        0.055513       0.086064  \n",
       "2022-04-25        0.017627        0.022927        0.058799       0.083864  \n",
       "2022-04-28        0.016767        0.027276        0.055931       0.087062  \n",
       "\n",
       "[164 rows x 174 columns]"
      ]
     },
     "execution_count": 16,
     "metadata": {},
     "output_type": "execute_result"
    },
    {
     "name": "stdout",
     "output_type": "stream",
     "text": [
      "time: 18.6 ms (started: 2023-03-05 03:48:19 -05:00)\n"
     ]
    }
   ],
   "source": [
    "player_dict[3]"
   ]
  },
  {
   "cell_type": "markdown",
   "id": "2c31ed2b-df08-4312-b21f-f4a33494c4ea",
   "metadata": {},
   "source": [
    "## Player Fatigue"
   ]
  },
  {
   "cell_type": "markdown",
   "id": "6aa9498d-a7f0-4f89-b368-c62930afbee5",
   "metadata": {},
   "source": [
    "Seconds played over the last 2 weeks"
   ]
  },
  {
   "cell_type": "code",
   "execution_count": 17,
   "id": "a5eba05a-2421-4b0d-aaa0-8468dca94b42",
   "metadata": {},
   "outputs": [
    {
     "data": {
      "application/vnd.jupyter.widget-view+json": {
       "model_id": "db0e4095944e48eba7f6fd506ccf5124",
       "version_major": 2,
       "version_minor": 0
      },
      "text/plain": [
       "  0%|          | 0/2 [00:00<?, ?it/s]"
      ]
     },
     "metadata": {},
     "output_type": "display_data"
    },
    {
     "data": {
      "application/vnd.jupyter.widget-view+json": {
       "model_id": "a4b9375011a84fc59798826deae9c957",
       "version_major": 2,
       "version_minor": 0
      },
      "text/plain": [
       "  0%|          | 0/1708 [00:00<?, ?it/s]"
      ]
     },
     "metadata": {},
     "output_type": "display_data"
    },
    {
     "data": {
      "application/vnd.jupyter.widget-view+json": {
       "model_id": "17eebe02824941478c084d3a4af7626d",
       "version_major": 2,
       "version_minor": 0
      },
      "text/plain": [
       "  0%|          | 0/1708 [00:00<?, ?it/s]"
      ]
     },
     "metadata": {},
     "output_type": "display_data"
    },
    {
     "name": "stdout",
     "output_type": "stream",
     "text": [
      "time: 8min 37s (started: 2023-03-05 03:48:19 -05:00)\n"
     ]
    }
   ],
   "source": [
    "def get_player_fatigue(x,w,p):\n",
    "    window = player_dict[p].loc[x.date - timedelta(days=w):x.date - timedelta(days=1)]\n",
    "    ewm_sp = np.nan\n",
    "    if len(window):\n",
    "        #set ewm span=7. A player is unlikely to play more than 7 games in 14 days.\n",
    "        window['ewm_sp'] = window['sp'].ewm(span=7,min_periods=0,adjust=False,ignore_na=False).mean()\n",
    "        ewm_sp = window.iloc[-1]['ewm_sp']\n",
    "    return ewm_sp\n",
    "\n",
    "window_sizes = [10, 14]\n",
    "\n",
    "for w in tqdm(window_sizes):\n",
    "    for p in tqdm(player_dict):\n",
    "        player_dict[p][f'sp_ewm_{w}'] = player_dict[p].apply(lambda x: get_player_fatigue(x,w+1, p), axis=1)"
   ]
  },
  {
   "cell_type": "code",
   "execution_count": 18,
   "id": "eb1051cc-7fdb-4cbc-a552-88c604d2b506",
   "metadata": {},
   "outputs": [
    {
     "data": {
      "text/plain": [
       "date\n",
       "2020-12-23            NaN\n",
       "2020-12-25     819.000000\n",
       "2020-12-29     906.250000\n",
       "2020-12-30     944.187500\n",
       "2021-01-01     888.390625\n",
       "                 ...     \n",
       "2022-04-18    1485.213867\n",
       "2022-04-20    1581.230469\n",
       "2022-04-23    1502.988281\n",
       "2022-04-25    1687.843750\n",
       "2022-04-28    1702.503906\n",
       "Name: sp_ewm_14, Length: 164, dtype: float64"
      ]
     },
     "execution_count": 18,
     "metadata": {},
     "output_type": "execute_result"
    },
    {
     "name": "stdout",
     "output_type": "stream",
     "text": [
      "time: 1.75 ms (started: 2023-03-05 03:56:56 -05:00)\n"
     ]
    }
   ],
   "source": [
    "player_dict[3]['sp_ewm_14']"
   ]
  },
  {
   "cell_type": "code",
   "execution_count": 19,
   "id": "2a98c9c5-1c28-4122-8aa7-cb820b15dc68",
   "metadata": {},
   "outputs": [
    {
     "name": "stdout",
     "output_type": "stream",
     "text": [
      "time: 29.9 s (started: 2023-03-05 03:56:56 -05:00)\n"
     ]
    }
   ],
   "source": [
    "match_df['n_f_players'] = match_df.apply(lambda row: len(get_active_players(row['match_id'], row['favorite_id'], pp_df)), axis=1)\n",
    "match_df['n_u_players'] = match_df.apply(lambda row: len(get_active_players(row['match_id'], row['underdog_id'], pp_df)), axis=1)"
   ]
  },
  {
   "cell_type": "code",
   "execution_count": 20,
   "id": "ce8a7b78-421c-44fc-9761-66d47eee95e6",
   "metadata": {},
   "outputs": [
    {
     "data": {
      "text/plain": [
       "304      7\n",
       "915      7\n",
       "1009     7\n",
       "1495     7\n",
       "1551     7\n",
       "1569     7\n",
       "1614     7\n",
       "1620     7\n",
       "1632     7\n",
       "1678     7\n",
       "1717     7\n",
       "1810     7\n",
       "1898     7\n",
       "2124     7\n",
       "2261     7\n",
       "2424     7\n",
       "2427     7\n",
       "2440     7\n",
       "2463     7\n",
       "2494     7\n",
       "2504     7\n",
       "2523     7\n",
       "2532     7\n",
       "2751     7\n",
       "2781     7\n",
       "2837     6\n",
       "3051     7\n",
       "3843     7\n",
       "5004     7\n",
       "5152     7\n",
       "6232     7\n",
       "7140     7\n",
       "7534     7\n",
       "7594     7\n",
       "8242     7\n",
       "8861     7\n",
       "10008    7\n",
       "10178    6\n",
       "11491    7\n",
       "11500    7\n",
       "12807    7\n",
       "12816    7\n",
       "12878    7\n",
       "14198    7\n",
       "14200    7\n",
       "16280    7\n",
       "16662    7\n",
       "16800    7\n",
       "17557    7\n",
       "17646    7\n",
       "17718    7\n",
       "17742    6\n",
       "18484    7\n",
       "18504    7\n",
       "19044    6\n",
       "19057    6\n",
       "19062    7\n",
       "Name: n_u_players, dtype: int64"
      ]
     },
     "execution_count": 20,
     "metadata": {},
     "output_type": "execute_result"
    },
    {
     "name": "stdout",
     "output_type": "stream",
     "text": [
      "time: 1.91 ms (started: 2023-03-05 03:57:26 -05:00)\n"
     ]
    }
   ],
   "source": [
    "match_df['n_f_players'][match_df['n_f_players']<8]\n",
    "match_df['n_u_players'][match_df['n_u_players']<8]"
   ]
  },
  {
   "cell_type": "markdown",
   "id": "c45d9e81-771b-43d6-b7ce-c556066d0d36",
   "metadata": {},
   "source": [
    "## Insert player factors into match dataframe"
   ]
  },
  {
   "cell_type": "markdown",
   "id": "8247289a-294a-4bb7-955a-780e917d46a0",
   "metadata": {},
   "source": [
    "Most NBA teams rotate at least 8 players. \n",
    "We will use the top 8 players in terms of time played as features"
   ]
  },
  {
   "cell_type": "code",
   "execution_count": 21,
   "id": "e379130c-9c87-41c1-a319-748b6d9d84f6",
   "metadata": {},
   "outputs": [
    {
     "name": "stdout",
     "output_type": "stream",
     "text": [
      "time: 1.91 ms (started: 2023-03-05 03:57:26 -05:00)\n"
     ]
    }
   ],
   "source": [
    "def insert_player_features(match_df, player_dict, pp_df):\n",
    "    window_sizes = [10,20,40]\n",
    "    d = defaultdict(list)\n",
    "    player_features = ['ts_pct',\n",
    "       'efg_pct', 'threepar', 'ftr', 'orb_pct', 'drb_pct', 'trb_pct',\n",
    "       'ast_pct', 'stl_pct', 'blk_pct', 'tov_pct', 'usg_pct', 'ortg', 'drtg',\n",
    "       'fg', 'fga', 'fg_pct', 'threep', 'threepa',\n",
    "       'threep_pct', 'ft', 'fta', 'ft_pct', 'orb', 'drb', 'trb', 'ast', 'stl',\n",
    "       'blk', 'tov', 'pf', 'pts', 'pts_avg', 'orb_avg', 'drb_avg', 'trb_avg',\n",
    "       'ast_avg', 'stl_avg', 'blk_avg', 'tov_avg', 'pf_avg']\n",
    "    err = 0\n",
    "    n_features = len(player_features)\n",
    "    for idx, row in match_df.iterrows():\n",
    "        match_id = row['match_id']\n",
    "        favorite_players = get_active_players(row['match_id'], row['favorite_id'], pp_df).sort_values(by=['sp'], ascending=False).head(8)\n",
    "        underdog_players = get_active_players(row['match_id'], row['underdog_id'], pp_df).sort_values(by=['sp'], ascending=False).head(8)\n",
    "        if favorite_players.shape[0] < 8 or underdog_players.shape[0] < 8:\n",
    "            err += 1\n",
    "        for w in window_sizes:\n",
    "            # ewm_features = [f'{f}_ewm_{w}' for f in player_features]\n",
    "#             for i in range(8):\n",
    "#                 fav_player_ewm_features = [f'fav_p{i}_{f}_ewm_{w}' for f in player_features]\n",
    "#                 und_player_ewm_features = [f'und_p{i}_{f}_ewm_{w}' for f in player_features]\n",
    "#                 if favorite_players.shape[0] >= 8 and underdog_players.shape[0] >= 8:\n",
    "#                     fav_player_id = favorite_players.iloc[i]['player_id']\n",
    "#                     und_player_id = underdog_players.iloc[i]['player_id']\n",
    "\n",
    "#                     fav_player_df = player_dict[fav_player_id]\n",
    "#                     und_player_df = player_dict[und_player_id]\n",
    "#                 for j in range(n_features):\n",
    "#                     fav_feature = fav_player_ewm_features[j]\n",
    "#                     und_feature = und_player_ewm_features[j]\n",
    "                    \n",
    "#                     if favorite_players.shape[0] < 8 or underdog_players.shape[0] < 8:\n",
    "#                         d[fav_feature].append(np.nan)\n",
    "#                         d[und_feature].append(np.nan)\n",
    "#                     else:\n",
    "#                         d[fav_feature].append(fav_player_df[fav_player_df['match_id'] == match_id][ewm_features[j]].values[0])\n",
    "#                         d[und_feature].append(und_player_df[und_player_df['match_id'] == match_id][ewm_features[j]].values[0])\n",
    "                for j in [10,14]:\n",
    "                    if favorite_players.shape[0] < 8 or underdog_players.shape[0] < 8:\n",
    "                        d[f'sp_ewm_{j}'].append(np.nan)\n",
    "                        d[f'sp_ewm_{j}'].append(np.nan)\n",
    "                    else:\n",
    "                        d[f'fav_p{i}_sp_ewm_{j}'].append(fav_player_df[fav_player_df['match_id'] == match_id][f'sp_ewm_{j}'].values[0])\n",
    "                        d[f'und_p{i}_sp_ewm_{j}'].append(und_player_df[und_player_df['match_id'] == match_id][f'sp_ewm_{j}'].values[0])\n",
    "    df = pd.DataFrame(d)\n",
    "    \n",
    "    new_df = pd.concat([match_df.reset_index(drop=True),\n",
    "                      df.reset_index(drop=True)],axis=1)\n",
    "    print('err:', err)\n",
    "    return new_df"
   ]
  },
  {
   "cell_type": "code",
   "execution_count": 22,
   "id": "e09e09c2-5028-4113-b1c7-42ffe1d60df5",
   "metadata": {},
   "outputs": [
    {
     "name": "stdout",
     "output_type": "stream",
     "text": [
      "err: 1\n"
     ]
    },
    {
     "data": {
      "text/html": [
       "<div>\n",
       "<style scoped>\n",
       "    .dataframe tbody tr th:only-of-type {\n",
       "        vertical-align: middle;\n",
       "    }\n",
       "\n",
       "    .dataframe tbody tr th {\n",
       "        vertical-align: top;\n",
       "    }\n",
       "\n",
       "    .dataframe thead th {\n",
       "        text-align: right;\n",
       "    }\n",
       "</style>\n",
       "<table border=\"1\" class=\"dataframe\">\n",
       "  <thead>\n",
       "    <tr style=\"text-align: right;\">\n",
       "      <th></th>\n",
       "      <th>match_id</th>\n",
       "      <th>away_id</th>\n",
       "      <th>home_id</th>\n",
       "      <th>date</th>\n",
       "      <th>away_pts</th>\n",
       "      <th>home_pts</th>\n",
       "      <th>playoff_game</th>\n",
       "      <th>home_ml</th>\n",
       "      <th>away_ml</th>\n",
       "      <th>home_spread</th>\n",
       "      <th>...</th>\n",
       "      <th>fav_p7_ast_avg_ewm_40</th>\n",
       "      <th>und_p7_ast_avg_ewm_40</th>\n",
       "      <th>fav_p7_stl_avg_ewm_40</th>\n",
       "      <th>und_p7_stl_avg_ewm_40</th>\n",
       "      <th>fav_p7_blk_avg_ewm_40</th>\n",
       "      <th>und_p7_blk_avg_ewm_40</th>\n",
       "      <th>fav_p7_tov_avg_ewm_40</th>\n",
       "      <th>und_p7_tov_avg_ewm_40</th>\n",
       "      <th>fav_p7_pf_avg_ewm_40</th>\n",
       "      <th>und_p7_pf_avg_ewm_40</th>\n",
       "    </tr>\n",
       "  </thead>\n",
       "  <tbody>\n",
       "    <tr>\n",
       "      <th>0</th>\n",
       "      <td>10011</td>\n",
       "      <td>2</td>\n",
       "      <td>15</td>\n",
       "      <td>2022-04-10</td>\n",
       "      <td>139.0</td>\n",
       "      <td>110.0</td>\n",
       "      <td>0.0</td>\n",
       "      <td>4.152222</td>\n",
       "      <td>1.250862</td>\n",
       "      <td>9.166667</td>\n",
       "      <td>...</td>\n",
       "      <td>0.048016</td>\n",
       "      <td>0.111106</td>\n",
       "      <td>0.034579</td>\n",
       "      <td>0.051510</td>\n",
       "      <td>0.014444</td>\n",
       "      <td>0.020868</td>\n",
       "      <td>0.075589</td>\n",
       "      <td>0.076093</td>\n",
       "      <td>0.102111</td>\n",
       "      <td>0.081044</td>\n",
       "    </tr>\n",
       "    <tr>\n",
       "      <th>1</th>\n",
       "      <td>4791</td>\n",
       "      <td>14</td>\n",
       "      <td>8</td>\n",
       "      <td>2022-04-10</td>\n",
       "      <td>146.0</td>\n",
       "      <td>141.0</td>\n",
       "      <td>0.0</td>\n",
       "      <td>1.420668</td>\n",
       "      <td>3.011111</td>\n",
       "      <td>-6.000000</td>\n",
       "      <td>...</td>\n",
       "      <td>0.099542</td>\n",
       "      <td>0.102980</td>\n",
       "      <td>0.035678</td>\n",
       "      <td>0.017965</td>\n",
       "      <td>0.023244</td>\n",
       "      <td>0.002443</td>\n",
       "      <td>0.162772</td>\n",
       "      <td>0.048768</td>\n",
       "      <td>0.234735</td>\n",
       "      <td>0.049644</td>\n",
       "    </tr>\n",
       "    <tr>\n",
       "      <th>2</th>\n",
       "      <td>6923</td>\n",
       "      <td>1</td>\n",
       "      <td>11</td>\n",
       "      <td>2022-04-10</td>\n",
       "      <td>130.0</td>\n",
       "      <td>114.0</td>\n",
       "      <td>0.0</td>\n",
       "      <td>6.341111</td>\n",
       "      <td>1.136773</td>\n",
       "      <td>11.888889</td>\n",
       "      <td>...</td>\n",
       "      <td>0.118023</td>\n",
       "      <td>0.089840</td>\n",
       "      <td>0.074180</td>\n",
       "      <td>0.070265</td>\n",
       "      <td>0.013626</td>\n",
       "      <td>0.101475</td>\n",
       "      <td>0.023061</td>\n",
       "      <td>0.030411</td>\n",
       "      <td>0.038348</td>\n",
       "      <td>0.110892</td>\n",
       "    </tr>\n",
       "    <tr>\n",
       "      <th>3</th>\n",
       "      <td>3093</td>\n",
       "      <td>30</td>\n",
       "      <td>4</td>\n",
       "      <td>2022-04-10</td>\n",
       "      <td>108.0</td>\n",
       "      <td>124.0</td>\n",
       "      <td>0.0</td>\n",
       "      <td>1.115298</td>\n",
       "      <td>7.080000</td>\n",
       "      <td>-12.722222</td>\n",
       "      <td>...</td>\n",
       "      <td>0.071830</td>\n",
       "      <td>0.085062</td>\n",
       "      <td>0.031664</td>\n",
       "      <td>0.013259</td>\n",
       "      <td>0.022134</td>\n",
       "      <td>0.094317</td>\n",
       "      <td>0.045249</td>\n",
       "      <td>0.033402</td>\n",
       "      <td>0.115354</td>\n",
       "      <td>0.045403</td>\n",
       "    </tr>\n",
       "    <tr>\n",
       "      <th>4</th>\n",
       "      <td>3364</td>\n",
       "      <td>17</td>\n",
       "      <td>6</td>\n",
       "      <td>2022-04-10</td>\n",
       "      <td>115.0</td>\n",
       "      <td>133.0</td>\n",
       "      <td>0.0</td>\n",
       "      <td>1.263102</td>\n",
       "      <td>4.042222</td>\n",
       "      <td>-8.388889</td>\n",
       "      <td>...</td>\n",
       "      <td>NaN</td>\n",
       "      <td>NaN</td>\n",
       "      <td>NaN</td>\n",
       "      <td>NaN</td>\n",
       "      <td>NaN</td>\n",
       "      <td>NaN</td>\n",
       "      <td>NaN</td>\n",
       "      <td>NaN</td>\n",
       "      <td>NaN</td>\n",
       "      <td>NaN</td>\n",
       "    </tr>\n",
       "    <tr>\n",
       "      <th>...</th>\n",
       "      <td>...</td>\n",
       "      <td>...</td>\n",
       "      <td>...</td>\n",
       "      <td>...</td>\n",
       "      <td>...</td>\n",
       "      <td>...</td>\n",
       "      <td>...</td>\n",
       "      <td>...</td>\n",
       "      <td>...</td>\n",
       "      <td>...</td>\n",
       "      <td>...</td>\n",
       "      <td>...</td>\n",
       "      <td>...</td>\n",
       "      <td>...</td>\n",
       "      <td>...</td>\n",
       "      <td>...</td>\n",
       "      <td>...</td>\n",
       "      <td>...</td>\n",
       "      <td>...</td>\n",
       "      <td>...</td>\n",
       "      <td>...</td>\n",
       "    </tr>\n",
       "    <tr>\n",
       "      <th>95</th>\n",
       "      <td>5966</td>\n",
       "      <td>2</td>\n",
       "      <td>10</td>\n",
       "      <td>2022-06-05</td>\n",
       "      <td>88.0</td>\n",
       "      <td>107.0</td>\n",
       "      <td>0.0</td>\n",
       "      <td>1.495142</td>\n",
       "      <td>2.727778</td>\n",
       "      <td>-4.722222</td>\n",
       "      <td>...</td>\n",
       "      <td>0.071789</td>\n",
       "      <td>0.051152</td>\n",
       "      <td>0.044479</td>\n",
       "      <td>0.019747</td>\n",
       "      <td>0.015597</td>\n",
       "      <td>0.050313</td>\n",
       "      <td>0.031607</td>\n",
       "      <td>0.062771</td>\n",
       "      <td>0.075290</td>\n",
       "      <td>0.127350</td>\n",
       "    </tr>\n",
       "    <tr>\n",
       "      <th>96</th>\n",
       "      <td>1280</td>\n",
       "      <td>10</td>\n",
       "      <td>2</td>\n",
       "      <td>2022-06-08</td>\n",
       "      <td>100.0</td>\n",
       "      <td>116.0</td>\n",
       "      <td>0.0</td>\n",
       "      <td>1.658921</td>\n",
       "      <td>2.338000</td>\n",
       "      <td>-4.375000</td>\n",
       "      <td>...</td>\n",
       "      <td>0.119471</td>\n",
       "      <td>0.059651</td>\n",
       "      <td>0.022813</td>\n",
       "      <td>0.061109</td>\n",
       "      <td>0.007314</td>\n",
       "      <td>0.022243</td>\n",
       "      <td>0.019934</td>\n",
       "      <td>0.031978</td>\n",
       "      <td>0.091964</td>\n",
       "      <td>0.098992</td>\n",
       "    </tr>\n",
       "    <tr>\n",
       "      <th>97</th>\n",
       "      <td>1271</td>\n",
       "      <td>10</td>\n",
       "      <td>2</td>\n",
       "      <td>2022-06-10</td>\n",
       "      <td>107.0</td>\n",
       "      <td>97.0</td>\n",
       "      <td>0.0</td>\n",
       "      <td>1.638972</td>\n",
       "      <td>2.367059</td>\n",
       "      <td>-4.176471</td>\n",
       "      <td>...</td>\n",
       "      <td>0.118629</td>\n",
       "      <td>0.061014</td>\n",
       "      <td>0.021700</td>\n",
       "      <td>0.062400</td>\n",
       "      <td>0.006957</td>\n",
       "      <td>0.021158</td>\n",
       "      <td>0.023948</td>\n",
       "      <td>0.030418</td>\n",
       "      <td>0.087478</td>\n",
       "      <td>0.102709</td>\n",
       "    </tr>\n",
       "    <tr>\n",
       "      <th>98</th>\n",
       "      <td>5978</td>\n",
       "      <td>2</td>\n",
       "      <td>10</td>\n",
       "      <td>2022-06-13</td>\n",
       "      <td>94.0</td>\n",
       "      <td>104.0</td>\n",
       "      <td>0.0</td>\n",
       "      <td>1.605194</td>\n",
       "      <td>2.437778</td>\n",
       "      <td>-3.833333</td>\n",
       "      <td>...</td>\n",
       "      <td>0.138134</td>\n",
       "      <td>0.112842</td>\n",
       "      <td>0.027784</td>\n",
       "      <td>0.020641</td>\n",
       "      <td>0.013387</td>\n",
       "      <td>0.006618</td>\n",
       "      <td>0.091271</td>\n",
       "      <td>0.027626</td>\n",
       "      <td>0.099795</td>\n",
       "      <td>0.083211</td>\n",
       "    </tr>\n",
       "    <tr>\n",
       "      <th>99</th>\n",
       "      <td>1260</td>\n",
       "      <td>10</td>\n",
       "      <td>2</td>\n",
       "      <td>2022-06-16</td>\n",
       "      <td>103.0</td>\n",
       "      <td>90.0</td>\n",
       "      <td>0.0</td>\n",
       "      <td>1.574627</td>\n",
       "      <td>2.521111</td>\n",
       "      <td>-4.562500</td>\n",
       "      <td>...</td>\n",
       "      <td>0.107338</td>\n",
       "      <td>0.073158</td>\n",
       "      <td>0.019634</td>\n",
       "      <td>0.046977</td>\n",
       "      <td>0.006295</td>\n",
       "      <td>0.016107</td>\n",
       "      <td>0.036694</td>\n",
       "      <td>0.027966</td>\n",
       "      <td>0.079152</td>\n",
       "      <td>0.076429</td>\n",
       "    </tr>\n",
       "  </tbody>\n",
       "</table>\n",
       "<p>100 rows × 2008 columns</p>\n",
       "</div>"
      ],
      "text/plain": [
       "    match_id  away_id  home_id       date  away_pts  home_pts  playoff_game  \\\n",
       "0      10011        2       15 2022-04-10     139.0     110.0           0.0   \n",
       "1       4791       14        8 2022-04-10     146.0     141.0           0.0   \n",
       "2       6923        1       11 2022-04-10     130.0     114.0           0.0   \n",
       "3       3093       30        4 2022-04-10     108.0     124.0           0.0   \n",
       "4       3364       17        6 2022-04-10     115.0     133.0           0.0   \n",
       "..       ...      ...      ...        ...       ...       ...           ...   \n",
       "95      5966        2       10 2022-06-05      88.0     107.0           0.0   \n",
       "96      1280       10        2 2022-06-08     100.0     116.0           0.0   \n",
       "97      1271       10        2 2022-06-10     107.0      97.0           0.0   \n",
       "98      5978        2       10 2022-06-13      94.0     104.0           0.0   \n",
       "99      1260       10        2 2022-06-16     103.0      90.0           0.0   \n",
       "\n",
       "     home_ml   away_ml  home_spread  ...  fav_p7_ast_avg_ewm_40  \\\n",
       "0   4.152222  1.250862     9.166667  ...               0.048016   \n",
       "1   1.420668  3.011111    -6.000000  ...               0.099542   \n",
       "2   6.341111  1.136773    11.888889  ...               0.118023   \n",
       "3   1.115298  7.080000   -12.722222  ...               0.071830   \n",
       "4   1.263102  4.042222    -8.388889  ...                    NaN   \n",
       "..       ...       ...          ...  ...                    ...   \n",
       "95  1.495142  2.727778    -4.722222  ...               0.071789   \n",
       "96  1.658921  2.338000    -4.375000  ...               0.119471   \n",
       "97  1.638972  2.367059    -4.176471  ...               0.118629   \n",
       "98  1.605194  2.437778    -3.833333  ...               0.138134   \n",
       "99  1.574627  2.521111    -4.562500  ...               0.107338   \n",
       "\n",
       "    und_p7_ast_avg_ewm_40  fav_p7_stl_avg_ewm_40  und_p7_stl_avg_ewm_40  \\\n",
       "0                0.111106               0.034579               0.051510   \n",
       "1                0.102980               0.035678               0.017965   \n",
       "2                0.089840               0.074180               0.070265   \n",
       "3                0.085062               0.031664               0.013259   \n",
       "4                     NaN                    NaN                    NaN   \n",
       "..                    ...                    ...                    ...   \n",
       "95               0.051152               0.044479               0.019747   \n",
       "96               0.059651               0.022813               0.061109   \n",
       "97               0.061014               0.021700               0.062400   \n",
       "98               0.112842               0.027784               0.020641   \n",
       "99               0.073158               0.019634               0.046977   \n",
       "\n",
       "    fav_p7_blk_avg_ewm_40  und_p7_blk_avg_ewm_40  fav_p7_tov_avg_ewm_40  \\\n",
       "0                0.014444               0.020868               0.075589   \n",
       "1                0.023244               0.002443               0.162772   \n",
       "2                0.013626               0.101475               0.023061   \n",
       "3                0.022134               0.094317               0.045249   \n",
       "4                     NaN                    NaN                    NaN   \n",
       "..                    ...                    ...                    ...   \n",
       "95               0.015597               0.050313               0.031607   \n",
       "96               0.007314               0.022243               0.019934   \n",
       "97               0.006957               0.021158               0.023948   \n",
       "98               0.013387               0.006618               0.091271   \n",
       "99               0.006295               0.016107               0.036694   \n",
       "\n",
       "    und_p7_tov_avg_ewm_40  fav_p7_pf_avg_ewm_40  und_p7_pf_avg_ewm_40  \n",
       "0                0.076093              0.102111              0.081044  \n",
       "1                0.048768              0.234735              0.049644  \n",
       "2                0.030411              0.038348              0.110892  \n",
       "3                0.033402              0.115354              0.045403  \n",
       "4                     NaN                   NaN                   NaN  \n",
       "..                    ...                   ...                   ...  \n",
       "95               0.062771              0.075290              0.127350  \n",
       "96               0.031978              0.091964              0.098992  \n",
       "97               0.030418              0.087478              0.102709  \n",
       "98               0.027626              0.099795              0.083211  \n",
       "99               0.027966              0.079152              0.076429  \n",
       "\n",
       "[100 rows x 2008 columns]"
      ]
     },
     "execution_count": 22,
     "metadata": {},
     "output_type": "execute_result"
    },
    {
     "name": "stdout",
     "output_type": "stream",
     "text": [
      "time: 34.1 s (started: 2023-03-05 03:57:26 -05:00)\n"
     ]
    }
   ],
   "source": [
    "insert_player_features(match_df.tail(100), player_dict, pp_df)"
   ]
  },
  {
   "cell_type": "code",
   "execution_count": 23,
   "id": "200ede3f-c5e4-4142-ae74-c7db3fd2da07",
   "metadata": {},
   "outputs": [
    {
     "data": {
      "text/html": [
       "<div>\n",
       "<style scoped>\n",
       "    .dataframe tbody tr th:only-of-type {\n",
       "        vertical-align: middle;\n",
       "    }\n",
       "\n",
       "    .dataframe tbody tr th {\n",
       "        vertical-align: top;\n",
       "    }\n",
       "\n",
       "    .dataframe thead th {\n",
       "        text-align: right;\n",
       "    }\n",
       "</style>\n",
       "<table border=\"1\" class=\"dataframe\">\n",
       "  <thead>\n",
       "    <tr style=\"text-align: right;\">\n",
       "      <th></th>\n",
       "      <th>player_id</th>\n",
       "      <th>match_id</th>\n",
       "      <th>team_id</th>\n",
       "      <th>sp</th>\n",
       "      <th>inactive</th>\n",
       "      <th>ts_pct</th>\n",
       "      <th>efg_pct</th>\n",
       "      <th>threepar</th>\n",
       "      <th>ftr</th>\n",
       "      <th>orb_pct</th>\n",
       "      <th>...</th>\n",
       "      <th>orb_avg_ewm_40</th>\n",
       "      <th>drb_avg_ewm_40</th>\n",
       "      <th>trb_avg_ewm_40</th>\n",
       "      <th>ast_avg_ewm_40</th>\n",
       "      <th>stl_avg_ewm_40</th>\n",
       "      <th>blk_avg_ewm_40</th>\n",
       "      <th>tov_avg_ewm_40</th>\n",
       "      <th>pf_avg_ewm_40</th>\n",
       "      <th>sp_ewm_10</th>\n",
       "      <th>sp_ewm_14</th>\n",
       "    </tr>\n",
       "    <tr>\n",
       "      <th>date</th>\n",
       "      <th></th>\n",
       "      <th></th>\n",
       "      <th></th>\n",
       "      <th></th>\n",
       "      <th></th>\n",
       "      <th></th>\n",
       "      <th></th>\n",
       "      <th></th>\n",
       "      <th></th>\n",
       "      <th></th>\n",
       "      <th></th>\n",
       "      <th></th>\n",
       "      <th></th>\n",
       "      <th></th>\n",
       "      <th></th>\n",
       "      <th></th>\n",
       "      <th></th>\n",
       "      <th></th>\n",
       "      <th></th>\n",
       "      <th></th>\n",
       "      <th></th>\n",
       "    </tr>\n",
       "  </thead>\n",
       "  <tbody>\n",
       "    <tr>\n",
       "      <th>2021-10-20</th>\n",
       "      <td>1691</td>\n",
       "      <td>18005</td>\n",
       "      <td>27</td>\n",
       "      <td>0.0</td>\n",
       "      <td>1.0</td>\n",
       "      <td>0.000</td>\n",
       "      <td>0.0</td>\n",
       "      <td>0.0</td>\n",
       "      <td>0.000</td>\n",
       "      <td>0.0</td>\n",
       "      <td>...</td>\n",
       "      <td>NaN</td>\n",
       "      <td>NaN</td>\n",
       "      <td>NaN</td>\n",
       "      <td>NaN</td>\n",
       "      <td>NaN</td>\n",
       "      <td>NaN</td>\n",
       "      <td>NaN</td>\n",
       "      <td>NaN</td>\n",
       "      <td>NaN</td>\n",
       "      <td>NaN</td>\n",
       "    </tr>\n",
       "    <tr>\n",
       "      <th>2021-10-22</th>\n",
       "      <td>1691</td>\n",
       "      <td>4959</td>\n",
       "      <td>27</td>\n",
       "      <td>0.0</td>\n",
       "      <td>1.0</td>\n",
       "      <td>0.000</td>\n",
       "      <td>0.0</td>\n",
       "      <td>0.0</td>\n",
       "      <td>0.000</td>\n",
       "      <td>0.0</td>\n",
       "      <td>...</td>\n",
       "      <td>NaN</td>\n",
       "      <td>NaN</td>\n",
       "      <td>NaN</td>\n",
       "      <td>NaN</td>\n",
       "      <td>NaN</td>\n",
       "      <td>NaN</td>\n",
       "      <td>NaN</td>\n",
       "      <td>NaN</td>\n",
       "      <td>0.000000</td>\n",
       "      <td>0.000000</td>\n",
       "    </tr>\n",
       "    <tr>\n",
       "      <th>2021-10-23</th>\n",
       "      <td>1691</td>\n",
       "      <td>17970</td>\n",
       "      <td>27</td>\n",
       "      <td>0.0</td>\n",
       "      <td>1.0</td>\n",
       "      <td>0.000</td>\n",
       "      <td>0.0</td>\n",
       "      <td>0.0</td>\n",
       "      <td>0.000</td>\n",
       "      <td>0.0</td>\n",
       "      <td>...</td>\n",
       "      <td>NaN</td>\n",
       "      <td>NaN</td>\n",
       "      <td>NaN</td>\n",
       "      <td>NaN</td>\n",
       "      <td>NaN</td>\n",
       "      <td>NaN</td>\n",
       "      <td>NaN</td>\n",
       "      <td>NaN</td>\n",
       "      <td>0.000000</td>\n",
       "      <td>0.000000</td>\n",
       "    </tr>\n",
       "    <tr>\n",
       "      <th>2021-10-26</th>\n",
       "      <td>1691</td>\n",
       "      <td>17975</td>\n",
       "      <td>27</td>\n",
       "      <td>0.0</td>\n",
       "      <td>1.0</td>\n",
       "      <td>0.000</td>\n",
       "      <td>0.0</td>\n",
       "      <td>0.0</td>\n",
       "      <td>0.000</td>\n",
       "      <td>0.0</td>\n",
       "      <td>...</td>\n",
       "      <td>NaN</td>\n",
       "      <td>NaN</td>\n",
       "      <td>NaN</td>\n",
       "      <td>NaN</td>\n",
       "      <td>NaN</td>\n",
       "      <td>NaN</td>\n",
       "      <td>NaN</td>\n",
       "      <td>NaN</td>\n",
       "      <td>0.000000</td>\n",
       "      <td>0.000000</td>\n",
       "    </tr>\n",
       "    <tr>\n",
       "      <th>2021-10-28</th>\n",
       "      <td>1691</td>\n",
       "      <td>4559</td>\n",
       "      <td>27</td>\n",
       "      <td>0.0</td>\n",
       "      <td>1.0</td>\n",
       "      <td>0.000</td>\n",
       "      <td>0.0</td>\n",
       "      <td>0.0</td>\n",
       "      <td>0.000</td>\n",
       "      <td>0.0</td>\n",
       "      <td>...</td>\n",
       "      <td>NaN</td>\n",
       "      <td>NaN</td>\n",
       "      <td>NaN</td>\n",
       "      <td>NaN</td>\n",
       "      <td>NaN</td>\n",
       "      <td>NaN</td>\n",
       "      <td>NaN</td>\n",
       "      <td>NaN</td>\n",
       "      <td>0.000000</td>\n",
       "      <td>0.000000</td>\n",
       "    </tr>\n",
       "    <tr>\n",
       "      <th>...</th>\n",
       "      <td>...</td>\n",
       "      <td>...</td>\n",
       "      <td>...</td>\n",
       "      <td>...</td>\n",
       "      <td>...</td>\n",
       "      <td>...</td>\n",
       "      <td>...</td>\n",
       "      <td>...</td>\n",
       "      <td>...</td>\n",
       "      <td>...</td>\n",
       "      <td>...</td>\n",
       "      <td>...</td>\n",
       "      <td>...</td>\n",
       "      <td>...</td>\n",
       "      <td>...</td>\n",
       "      <td>...</td>\n",
       "      <td>...</td>\n",
       "      <td>...</td>\n",
       "      <td>...</td>\n",
       "      <td>...</td>\n",
       "      <td>...</td>\n",
       "    </tr>\n",
       "    <tr>\n",
       "      <th>2022-04-05</th>\n",
       "      <td>1691</td>\n",
       "      <td>4824</td>\n",
       "      <td>27</td>\n",
       "      <td>198.0</td>\n",
       "      <td>0.0</td>\n",
       "      <td>0.000</td>\n",
       "      <td>0.0</td>\n",
       "      <td>1.0</td>\n",
       "      <td>0.000</td>\n",
       "      <td>0.0</td>\n",
       "      <td>...</td>\n",
       "      <td>0.032849</td>\n",
       "      <td>0.031504</td>\n",
       "      <td>0.064353</td>\n",
       "      <td>0.115104</td>\n",
       "      <td>0.054788</td>\n",
       "      <td>0.004230</td>\n",
       "      <td>0.004615</td>\n",
       "      <td>0.070837</td>\n",
       "      <td>186.121094</td>\n",
       "      <td>348.437500</td>\n",
       "    </tr>\n",
       "    <tr>\n",
       "      <th>2022-04-07</th>\n",
       "      <td>1691</td>\n",
       "      <td>11763</td>\n",
       "      <td>27</td>\n",
       "      <td>507.0</td>\n",
       "      <td>0.0</td>\n",
       "      <td>0.174</td>\n",
       "      <td>0.0</td>\n",
       "      <td>0.5</td>\n",
       "      <td>1.000</td>\n",
       "      <td>0.0</td>\n",
       "      <td>...</td>\n",
       "      <td>0.031246</td>\n",
       "      <td>0.044749</td>\n",
       "      <td>0.075995</td>\n",
       "      <td>0.109489</td>\n",
       "      <td>0.052115</td>\n",
       "      <td>0.004024</td>\n",
       "      <td>0.004390</td>\n",
       "      <td>0.067382</td>\n",
       "      <td>71.625000</td>\n",
       "      <td>310.828125</td>\n",
       "    </tr>\n",
       "    <tr>\n",
       "      <th>2022-04-09</th>\n",
       "      <td>1691</td>\n",
       "      <td>17764</td>\n",
       "      <td>27</td>\n",
       "      <td>1343.0</td>\n",
       "      <td>0.0</td>\n",
       "      <td>0.515</td>\n",
       "      <td>0.5</td>\n",
       "      <td>1.0</td>\n",
       "      <td>0.667</td>\n",
       "      <td>0.0</td>\n",
       "      <td>...</td>\n",
       "      <td>0.029722</td>\n",
       "      <td>0.048339</td>\n",
       "      <td>0.078061</td>\n",
       "      <td>0.104148</td>\n",
       "      <td>0.049573</td>\n",
       "      <td>0.003828</td>\n",
       "      <td>0.004176</td>\n",
       "      <td>0.075640</td>\n",
       "      <td>180.468750</td>\n",
       "      <td>268.568115</td>\n",
       "    </tr>\n",
       "    <tr>\n",
       "      <th>2022-04-10</th>\n",
       "      <td>1691</td>\n",
       "      <td>4298</td>\n",
       "      <td>27</td>\n",
       "      <td>527.0</td>\n",
       "      <td>0.0</td>\n",
       "      <td>0.000</td>\n",
       "      <td>0.0</td>\n",
       "      <td>0.0</td>\n",
       "      <td>0.000</td>\n",
       "      <td>0.0</td>\n",
       "      <td>...</td>\n",
       "      <td>0.028272</td>\n",
       "      <td>0.050340</td>\n",
       "      <td>0.078612</td>\n",
       "      <td>0.103427</td>\n",
       "      <td>0.047155</td>\n",
       "      <td>0.003641</td>\n",
       "      <td>0.003972</td>\n",
       "      <td>0.071951</td>\n",
       "      <td>471.101562</td>\n",
       "      <td>537.176086</td>\n",
       "    </tr>\n",
       "    <tr>\n",
       "      <th>2022-04-13</th>\n",
       "      <td>1691</td>\n",
       "      <td>12818</td>\n",
       "      <td>27</td>\n",
       "      <td>0.0</td>\n",
       "      <td>0.0</td>\n",
       "      <td>0.000</td>\n",
       "      <td>0.0</td>\n",
       "      <td>0.0</td>\n",
       "      <td>0.000</td>\n",
       "      <td>0.0</td>\n",
       "      <td>...</td>\n",
       "      <td>0.028272</td>\n",
       "      <td>0.050340</td>\n",
       "      <td>0.078612</td>\n",
       "      <td>0.103427</td>\n",
       "      <td>0.047155</td>\n",
       "      <td>0.003641</td>\n",
       "      <td>0.003972</td>\n",
       "      <td>0.071951</td>\n",
       "      <td>513.078125</td>\n",
       "      <td>485.076172</td>\n",
       "    </tr>\n",
       "  </tbody>\n",
       "</table>\n",
       "<p>83 rows × 176 columns</p>\n",
       "</div>"
      ],
      "text/plain": [
       "            player_id  match_id  team_id      sp  inactive  ts_pct  efg_pct  \\\n",
       "date                                                                          \n",
       "2021-10-20       1691     18005       27     0.0       1.0   0.000      0.0   \n",
       "2021-10-22       1691      4959       27     0.0       1.0   0.000      0.0   \n",
       "2021-10-23       1691     17970       27     0.0       1.0   0.000      0.0   \n",
       "2021-10-26       1691     17975       27     0.0       1.0   0.000      0.0   \n",
       "2021-10-28       1691      4559       27     0.0       1.0   0.000      0.0   \n",
       "...               ...       ...      ...     ...       ...     ...      ...   \n",
       "2022-04-05       1691      4824       27   198.0       0.0   0.000      0.0   \n",
       "2022-04-07       1691     11763       27   507.0       0.0   0.174      0.0   \n",
       "2022-04-09       1691     17764       27  1343.0       0.0   0.515      0.5   \n",
       "2022-04-10       1691      4298       27   527.0       0.0   0.000      0.0   \n",
       "2022-04-13       1691     12818       27     0.0       0.0   0.000      0.0   \n",
       "\n",
       "            threepar    ftr  orb_pct  ...  orb_avg_ewm_40  drb_avg_ewm_40  \\\n",
       "date                                  ...                                   \n",
       "2021-10-20       0.0  0.000      0.0  ...             NaN             NaN   \n",
       "2021-10-22       0.0  0.000      0.0  ...             NaN             NaN   \n",
       "2021-10-23       0.0  0.000      0.0  ...             NaN             NaN   \n",
       "2021-10-26       0.0  0.000      0.0  ...             NaN             NaN   \n",
       "2021-10-28       0.0  0.000      0.0  ...             NaN             NaN   \n",
       "...              ...    ...      ...  ...             ...             ...   \n",
       "2022-04-05       1.0  0.000      0.0  ...        0.032849        0.031504   \n",
       "2022-04-07       0.5  1.000      0.0  ...        0.031246        0.044749   \n",
       "2022-04-09       1.0  0.667      0.0  ...        0.029722        0.048339   \n",
       "2022-04-10       0.0  0.000      0.0  ...        0.028272        0.050340   \n",
       "2022-04-13       0.0  0.000      0.0  ...        0.028272        0.050340   \n",
       "\n",
       "            trb_avg_ewm_40  ast_avg_ewm_40  stl_avg_ewm_40  blk_avg_ewm_40  \\\n",
       "date                                                                         \n",
       "2021-10-20             NaN             NaN             NaN             NaN   \n",
       "2021-10-22             NaN             NaN             NaN             NaN   \n",
       "2021-10-23             NaN             NaN             NaN             NaN   \n",
       "2021-10-26             NaN             NaN             NaN             NaN   \n",
       "2021-10-28             NaN             NaN             NaN             NaN   \n",
       "...                    ...             ...             ...             ...   \n",
       "2022-04-05        0.064353        0.115104        0.054788        0.004230   \n",
       "2022-04-07        0.075995        0.109489        0.052115        0.004024   \n",
       "2022-04-09        0.078061        0.104148        0.049573        0.003828   \n",
       "2022-04-10        0.078612        0.103427        0.047155        0.003641   \n",
       "2022-04-13        0.078612        0.103427        0.047155        0.003641   \n",
       "\n",
       "            tov_avg_ewm_40  pf_avg_ewm_40   sp_ewm_10   sp_ewm_14  \n",
       "date                                                               \n",
       "2021-10-20             NaN            NaN         NaN         NaN  \n",
       "2021-10-22             NaN            NaN    0.000000    0.000000  \n",
       "2021-10-23             NaN            NaN    0.000000    0.000000  \n",
       "2021-10-26             NaN            NaN    0.000000    0.000000  \n",
       "2021-10-28             NaN            NaN    0.000000    0.000000  \n",
       "...                    ...            ...         ...         ...  \n",
       "2022-04-05        0.004615       0.070837  186.121094  348.437500  \n",
       "2022-04-07        0.004390       0.067382   71.625000  310.828125  \n",
       "2022-04-09        0.004176       0.075640  180.468750  268.568115  \n",
       "2022-04-10        0.003972       0.071951  471.101562  537.176086  \n",
       "2022-04-13        0.003972       0.071951  513.078125  485.076172  \n",
       "\n",
       "[83 rows x 176 columns]"
      ]
     },
     "execution_count": 23,
     "metadata": {},
     "output_type": "execute_result"
    },
    {
     "name": "stdout",
     "output_type": "stream",
     "text": [
      "time: 10.3 ms (started: 2023-03-05 03:58:00 -05:00)\n"
     ]
    }
   ],
   "source": [
    "player_dict[1691]"
   ]
  },
  {
   "cell_type": "code",
   "execution_count": 24,
   "id": "6ede940f-a8ce-4f22-9d51-29312613a590",
   "metadata": {},
   "outputs": [
    {
     "name": "stdout",
     "output_type": "stream",
     "text": [
      "err: 9\n",
      "err: 11\n",
      "err: 11\n",
      "err: 2\n",
      "err: 2\n",
      "err: 4\n",
      "err: 1\n",
      "err: 4\n",
      "err: 1\n",
      "err: 0\n",
      "err: 3\n",
      "err: 2\n",
      "err: 2\n",
      "err: 0\n",
      "err: 2\n",
      "err: 3\n",
      "err: 2\n",
      "err: 1\n",
      "err: 3\n",
      "err: 0\n",
      "err: 2\n",
      "err: 6\n",
      "err: 5\n",
      "time: 11min 6s (started: 2023-03-05 03:58:00 -05:00)\n"
     ]
    }
   ],
   "source": [
    "def parallelize_dataframe(df, func, player_dict, pp_df):\n",
    "    num_cores = multiprocessing.cpu_count()-1  #leave one free to not freeze machine\n",
    "    num_partitions = num_cores #number of partitions to split dataframe\n",
    "    df_split = np.array_split(df, num_partitions)\n",
    "    pool = multiprocessing.Pool(num_cores)\n",
    "    list_df = pool.map(partial(func, player_dict = player_dict, pp_df = pp_df), df_split)\n",
    "    df = pd.concat(list_df)\n",
    "    pool.close()\n",
    "    pool.join()\n",
    "    return df\n",
    "\n",
    "match_df = parallelize_dataframe(match_df, insert_player_features, player_dict, pp_df)"
   ]
  },
  {
   "cell_type": "code",
   "execution_count": 25,
   "id": "dd369e76-44b8-427b-97b0-4736d55580b8",
   "metadata": {},
   "outputs": [
    {
     "data": {
      "text/plain": [
       "0           NaN\n",
       "1           NaN\n",
       "2           NaN\n",
       "3           NaN\n",
       "4           NaN\n",
       "         ...   \n",
       "827    0.081345\n",
       "828    0.102807\n",
       "829    0.084706\n",
       "830    0.079755\n",
       "831    0.071826\n",
       "Name: fav_p2_pf_avg_ewm_10, Length: 19158, dtype: float64"
      ]
     },
     "execution_count": 25,
     "metadata": {},
     "output_type": "execute_result"
    },
    {
     "name": "stdout",
     "output_type": "stream",
     "text": [
      "time: 4.37 ms (started: 2023-03-05 04:09:06 -05:00)\n"
     ]
    }
   ],
   "source": [
    "match_df['fav_p2_pf_avg_ewm_10']"
   ]
  },
  {
   "cell_type": "markdown",
   "id": "bc2ee43a-8efe-4f4c-bd05-2c35a36d5ae9",
   "metadata": {},
   "source": [
    "## Team Factors"
   ]
  },
  {
   "cell_type": "markdown",
   "id": "9059cb8c-f4d4-46da-898a-ff16e94ea341",
   "metadata": {},
   "source": [
    "## Team Fatigue(Away game streak) and Win Streak"
   ]
  },
  {
   "cell_type": "code",
   "execution_count": 26,
   "id": "2c7a9815-07c3-4c2d-bff8-26d1d8a8d224",
   "metadata": {},
   "outputs": [
    {
     "data": {
      "application/vnd.jupyter.widget-view+json": {
       "model_id": "2e5425bbb1084ec9a63b24786601921a",
       "version_major": 2,
       "version_minor": 0
      },
      "text/plain": [
       "  0%|          | 0/19158 [00:00<?, ?it/s]"
      ]
     },
     "metadata": {},
     "output_type": "display_data"
    },
    {
     "name": "stdout",
     "output_type": "stream",
     "text": [
      "time: 3min 30s (started: 2023-03-05 04:09:06 -05:00)\n"
     ]
    }
   ],
   "source": [
    "d = defaultdict(list)\n",
    "for idx, row in tqdm(match_df.iterrows(), total=match_df.shape[0]):\n",
    "    prev_favorite_match = get_prev_matches(row['date'], \\\n",
    "        row['favorite_id'], match_df).tail(1)\n",
    "    prev_underdog_match = get_prev_matches(row['date'], \\\n",
    "        row['underdog_id'], match_df).tail(1)\n",
    "    if prev_favorite_match.shape[0] > 0:\n",
    "        prev_f_win_streak = prev_favorite_match['post_favorite_win_streak'].values[0] if row['favorite_id'] == prev_favorite_match['favorite_id'].values[0] else prev_favorite_match['post_underdog_win_streak'].values[0]\n",
    "        prev_f_home_streak = prev_favorite_match['post_favorite_home_streak'].values[0] if row['favorite_id'] == prev_favorite_match['favorite_id'].values[0] else prev_favorite_match['post_underdog_home_streak'].values[0]\n",
    "    else:\n",
    "        prev_f_win_streak = 0\n",
    "        prev_f_home_streak = 0\n",
    "        \n",
    "    if prev_underdog_match.shape[0] > 0:\n",
    "        prev_u_win_streak = prev_underdog_match['post_favorite_win_streak'].values[0] if row['underdog_id'] == prev_underdog_match['favorite_id'].values[0] else prev_underdog_match['post_underdog_win_streak'].values[0]\n",
    "        prev_u_home_streak = prev_underdog_match['post_favorite_home_streak'].values[0] if row['underdog_id'] == prev_underdog_match['favorite_id'].values[0] else prev_underdog_match['post_underdog_home_streak'].values[0]\n",
    "    else:\n",
    "        prev_u_win_streak = 0\n",
    "        prev_u_home_streak = 0\n",
    "        \n",
    "    if row['favorite_won']:\n",
    "        f_win_streak = max(1,prev_f_win_streak+1)\n",
    "        u_win_streak = min(-1, prev_u_win_streak-1)\n",
    "    else:\n",
    "        f_win_streak = min(-1, prev_f_win_streak-1)\n",
    "        u_win_streak = max(1,prev_u_win_streak+1)\n",
    "\n",
    "    if row['favorite_is_home']:\n",
    "        f_home_streak = max(1, prev_f_home_streak+1)\n",
    "        u_home_streak = min(-1, prev_u_home_streak-1)\n",
    "    else:\n",
    "        f_home_streak = min(-1, prev_f_home_streak-1)\n",
    "        u_home_streak = max(1, prev_u_home_streak+1)\n",
    "        \n",
    "    match_df.at[idx, 'prev_favorite_win_streak'] = prev_f_win_streak\n",
    "    match_df.at[idx, 'prev_favorite_home_streak'] = prev_f_home_streak\n",
    "    match_df.at[idx, 'prev_underdog_win_streak'] = prev_u_win_streak\n",
    "    match_df.at[idx, 'prev_underdog_home_streak'] = prev_u_home_streak\n",
    "    \n",
    "    match_df.at[idx, 'post_favorite_win_streak'] = f_win_streak\n",
    "    match_df.at[idx, 'post_favorite_home_streak'] = f_home_streak\n",
    "    match_df.at[idx, 'post_underdog_win_streak'] = u_win_streak\n",
    "    match_df.at[idx, 'post_underdog_home_streak'] = u_home_streak\n",
    "\n",
    "df = pd.DataFrame(d)\n",
    "match_df = pd.concat([match_df.reset_index(drop=True),\n",
    "                      df.reset_index(drop=True)],axis=1)\n",
    "\n",
    "streak_features = ['prev_favorite_win_streak', \n",
    "                   'prev_favorite_home_streak', \n",
    "                   'prev_underdog_win_streak', \n",
    "                   'prev_underdog_home_streak']\n"
   ]
  },
  {
   "cell_type": "markdown",
   "id": "14ec142a-ae29-44d4-bc4d-23fb9916fa03",
   "metadata": {},
   "source": [
    "## FG%, 3P%, FT%, ORB, DRB, TRB, TOV, AST, STL, BLK, DRTG, ORTG, EFG "
   ]
  },
  {
   "cell_type": "code",
   "execution_count": 27,
   "id": "f7e321a9-73ba-4b32-8e2d-430c74f5d244",
   "metadata": {},
   "outputs": [
    {
     "data": {
      "application/vnd.jupyter.widget-view+json": {
       "model_id": "e545dfe980c14a559264297df0bb2e30",
       "version_major": 2,
       "version_minor": 0
      },
      "text/plain": [
       "  0%|          | 0/19158 [00:00<?, ?it/s]"
      ]
     },
     "metadata": {},
     "output_type": "display_data"
    },
    {
     "name": "stdout",
     "output_type": "stream",
     "text": [
      "time: 1min 16s (started: 2023-03-05 04:12:37 -05:00)\n"
     ]
    }
   ],
   "source": [
    "d = defaultdict(list)\n",
    "for idx, row in tqdm(match_df.iterrows(), total=match_df.shape[0]):\n",
    "    favorite_players = get_active_players(row['match_id'], row['favorite_id'], pp_df)\n",
    "    underdog_players = get_active_players(row['match_id'], row['underdog_id'], pp_df)\n",
    "    d['favorite_bpm'].append(favorite_players['bpm'].sum())\n",
    "    d['underdog_bpm'].append(underdog_players['bpm'].sum())\n",
    "    d['favorite_fga'].append(favorite_players['fga'].sum())\n",
    "    d['underdog_fga'].append(underdog_players['fga'].sum())\n",
    "    d['favorite_fg'].append(favorite_players['fg'].sum())\n",
    "    d['underdog_fg'].append(underdog_players['fg'].sum())\n",
    "    d['favorite_fg_pct'].append(favorite_players['fg_pct'].mean())\n",
    "    d['underdog_fg_pct'].append(underdog_players['fg_pct'].mean())\n",
    "    \n",
    "    d['favorite_3p'].append(favorite_players['threep'].sum())\n",
    "    d['underdog_3p'].append(underdog_players['threep'].sum())\n",
    "    d['favorite_3pa'].append(favorite_players['threepa'].sum())\n",
    "    d['underdog_3pa'].append(underdog_players['threepa'].sum())\n",
    "    d['favorite_3p_pct'].append(favorite_players['threep_pct'].mean())\n",
    "    d['underdog_3p_pct'].append(underdog_players['threep_pct'].mean())\n",
    "    \n",
    "    d['favorite_ft'].append(favorite_players['ft'].sum())\n",
    "    d['underdog_ft'].append(underdog_players['ft'].sum())\n",
    "    d['favorite_fta'].append(favorite_players['fta'].sum())\n",
    "    d['underdog_fta'].append(underdog_players['fta'].sum())\n",
    "    d['favorite_ft_pct'].append(favorite_players['ft_pct'].mean())\n",
    "    d['underdog_ft_pct'].append(underdog_players['ft_pct'].mean())\n",
    "    \n",
    "    d['favorite_orb'].append(favorite_players['orb'].sum())\n",
    "    d['underdog_orb'].append(underdog_players['orb'].sum())\n",
    "    d['favorite_orb_pct'].append(favorite_players['orb_pct'].mean())\n",
    "    d['underdog_orb_pct'].append(underdog_players['orb_pct'].mean())\n",
    "    \n",
    "    d['favorite_drb'].append(favorite_players['drb'].sum())\n",
    "    d['underdog_drb'].append(underdog_players['drb'].sum())\n",
    "    d['favorite_drb_pct'].append(favorite_players['drb_pct'].mean())\n",
    "    d['underdog_drb_pct'].append(underdog_players['drb_pct'].mean())\n",
    "    \n",
    "    d['favorite_trb'].append(favorite_players['trb'].sum())\n",
    "    d['underdog_trb'].append(underdog_players['trb'].sum())\n",
    "    d['favorite_trb_pct'].append(favorite_players['trb_pct'].mean())\n",
    "    d['underdog_trb_pct'].append(underdog_players['trb_pct'].mean())\n",
    "    \n",
    "    d['favorite_tov'].append(favorite_players['tov'].sum())\n",
    "    d['underdog_tov'].append(underdog_players['tov'].sum())\n",
    "    d['favorite_tov_pct'].append(favorite_players['tov_pct'].mean())\n",
    "    d['underdog_tov_pct'].append(underdog_players['tov_pct'].mean())\n",
    "    \n",
    "    d['favorite_ast'].append(favorite_players['ast'].sum())\n",
    "    d['underdog_ast'].append(underdog_players['ast'].sum())\n",
    "    d['favorite_ast_pct'].append(favorite_players['ast_pct'].mean())\n",
    "    d['underdog_ast_pct'].append(underdog_players['ast_pct'].mean())\n",
    "    \n",
    "    d['favorite_stl'].append(favorite_players['stl'].sum())\n",
    "    d['underdog_stl'].append(underdog_players['stl'].sum())\n",
    "    d['favorite_stl_pct'].append(favorite_players['stl_pct'].mean())\n",
    "    d['underdog_stl_pct'].append(underdog_players['stl_pct'].mean())\n",
    "    \n",
    "    d['favorite_blk'].append(favorite_players['blk'].sum())\n",
    "    d['underdog_blk'].append(underdog_players['blk'].sum())\n",
    "    d['favorite_blk_pct'].append(favorite_players['blk_pct'].mean())\n",
    "    d['underdog_blk_pct'].append(underdog_players['blk_pct'].mean())\n",
    "    \n",
    "    d['favorite_drtg'].append(favorite_players['drtg'].mean())\n",
    "    d['underdog_drtg'].append(underdog_players['drtg'].mean())\n",
    "    \n",
    "    d['favorite_ortg'].append(favorite_players['ortg'].mean())\n",
    "    d['underdog_ortg'].append(underdog_players['ortg'].mean())\n",
    "    \n",
    "    d['favorite_efg_pct'].append(favorite_players['efg_pct'].mean())\n",
    "    d['underdog_efg_pct'].append(underdog_players['efg_pct'].mean())\n",
    "        \n",
    "    d['sp'].append(favorite_players['sp'].sum())"
   ]
  },
  {
   "cell_type": "code",
   "execution_count": 28,
   "id": "1db18902-3fb8-42ff-887c-a9cdae95d702",
   "metadata": {},
   "outputs": [
    {
     "name": "stdout",
     "output_type": "stream",
     "text": [
      "time: 151 ms (started: 2023-03-05 04:13:53 -05:00)\n"
     ]
    }
   ],
   "source": [
    "df = pd.DataFrame(d)\n",
    "match_df = pd.concat([match_df.reset_index(drop=True),\n",
    "                      df.reset_index(drop=True)],axis=1)"
   ]
  },
  {
   "cell_type": "markdown",
   "id": "abc050a5-3387-4b1e-9b6b-e8a918a426c5",
   "metadata": {},
   "source": [
    "## Possessions and Pace"
   ]
  },
  {
   "cell_type": "code",
   "execution_count": 29,
   "id": "39b99811-44e9-4b8d-a46b-45343da8bd3b",
   "metadata": {},
   "outputs": [
    {
     "name": "stdout",
     "output_type": "stream",
     "text": [
      "time: 4.84 ms (started: 2023-03-05 04:13:54 -05:00)\n"
     ]
    }
   ],
   "source": [
    "match_df['favorite_possessions'] = \\\n",
    "    0.5 * ((match_df['favorite_fga'] + 0.4*match_df['favorite_fta'] - \\\n",
    "            1.07*(match_df['favorite_orb']/(match_df['favorite_orb'] + match_df['underdog_drb'])) * \\\n",
    "            (match_df['favorite_fga']-match_df['favorite_fg']) + match_df['favorite_tov']) + \\\n",
    "           (match_df['underdog_fga'] + 0.4*match_df['underdog_fta'] -\\\n",
    "           1.07 * (match_df['underdog_orb']/(match_df['underdog_orb'] + match_df['favorite_drb'])) * \\\n",
    "           (match_df['underdog_fga']-match_df['underdog_fg']) + match_df['underdog_tov']))\n",
    "\n",
    "match_df['underdog_possessions'] = \\\n",
    "    0.5 * ((match_df['underdog_fga'] + 0.4*match_df['underdog_fta'] - \\\n",
    "            1.07*(match_df['underdog_orb']/(match_df['underdog_orb'] + match_df['favorite_drb'])) * \\\n",
    "            (match_df['underdog_fga']-match_df['underdog_fg']) + match_df['underdog_tov']) + \\\n",
    "           (match_df['favorite_fga'] + 0.4*match_df['favorite_fta'] -\\\n",
    "           1.07 * (match_df['favorite_orb']/(match_df['favorite_orb'] + match_df['underdog_drb'])) * \\\n",
    "           (match_df['favorite_fga']-match_df['favorite_fg']) + match_df['favorite_tov']))\n",
    "\n",
    "match_df['favorite_pace'] = 48 * ((match_df['favorite_possessions'] + match_df['underdog_possessions']) / \\\n",
    "                          (2*(match_df['sp']/(60*5))))\n",
    "match_df['underdog_pace'] = 48 * ((match_df['favorite_possessions'] + match_df['underdog_possessions']) / \\\n",
    "                          (2*(match_df['sp']/(60*5))))\n"
   ]
  },
  {
   "cell_type": "markdown",
   "id": "e633340b-7f89-4b3f-ba3f-c9027641fdab",
   "metadata": {},
   "source": [
    "## EMA Team stats"
   ]
  },
  {
   "cell_type": "code",
   "execution_count": 30,
   "id": "8508a3c2-1b0e-4ee8-8610-de49a915698e",
   "metadata": {},
   "outputs": [
    {
     "name": "stdout",
     "output_type": "stream",
     "text": [
      "time: 1.85 ms (started: 2023-03-05 04:13:54 -05:00)\n"
     ]
    }
   ],
   "source": [
    "def ema(current, prev_ema, window_size, smoothing=2.0):\n",
    "    k = smoothing / (1 + window_size)\n",
    "    return current * k + prev_ema * (1-k)"
   ]
  },
  {
   "cell_type": "code",
   "execution_count": 31,
   "id": "b91f4535-7879-47ed-a659-a47d171dc528",
   "metadata": {},
   "outputs": [
    {
     "name": "stdout",
     "output_type": "stream",
     "text": [
      "time: 548 µs (started: 2023-03-05 04:13:54 -05:00)\n"
     ]
    }
   ],
   "source": [
    "def get_prev_team_sum(team_id, home_col, prev_matches):\n",
    "    away_col = home_col.replace('home', 'away')\n",
    "    prev_matches['res'] =  prev_matches.apply(lambda x:\n",
    "                             x[home_col] if x['home_id'] == team_id\n",
    "                             else x[away_col], axis=1)\n",
    "    return prev_matches['res'].sum()"
   ]
  },
  {
   "cell_type": "code",
   "execution_count": 32,
   "id": "f399b9b2-a387-401c-a325-ecf62dcd01e5",
   "metadata": {},
   "outputs": [
    {
     "data": {
      "application/vnd.jupyter.widget-view+json": {
       "model_id": "d1e4b99210f947e6b4ada59ffc7679cf",
       "version_major": 2,
       "version_minor": 0
      },
      "text/plain": [
       "  0%|          | 0/3 [00:00<?, ?it/s]"
      ]
     },
     "metadata": {},
     "output_type": "display_data"
    },
    {
     "data": {
      "application/vnd.jupyter.widget-view+json": {
       "model_id": "25a4b609c83e46c8b654b9ea726de35e",
       "version_major": 2,
       "version_minor": 0
      },
      "text/plain": [
       "  0%|          | 0/19158 [00:00<?, ?it/s]"
      ]
     },
     "metadata": {},
     "output_type": "display_data"
    },
    {
     "data": {
      "application/vnd.jupyter.widget-view+json": {
       "model_id": "368a28306fce45828235d91a2a4b648b",
       "version_major": 2,
       "version_minor": 0
      },
      "text/plain": [
       "  0%|          | 0/19158 [00:00<?, ?it/s]"
      ]
     },
     "metadata": {},
     "output_type": "display_data"
    },
    {
     "data": {
      "application/vnd.jupyter.widget-view+json": {
       "model_id": "355d31032e484425baac3a7566c27d33",
       "version_major": 2,
       "version_minor": 0
      },
      "text/plain": [
       "  0%|          | 0/19158 [00:00<?, ?it/s]"
      ]
     },
     "metadata": {},
     "output_type": "display_data"
    },
    {
     "name": "stdout",
     "output_type": "stream",
     "text": [
      "time: 1h 25min 54s (started: 2023-03-05 04:13:54 -05:00)\n"
     ]
    }
   ],
   "source": [
    "smoothing = 2\n",
    "window_sizes = [5,8,12]\n",
    "\n",
    "for w in tqdm(range(len(window_sizes))):\n",
    "    window_size = window_sizes[w]\n",
    "\n",
    "    ema_favorite_features = \\\n",
    "        [(f'prev_favorite_pts_ema{window_size}',      f'post_favorite_pts_ema{window_size}'),\n",
    "        (f'prev_favorite_bpm_ema{window_size}',       f'post_favorite_bpm_ema{window_size}'),\n",
    "        (f'prev_favorite_fg_ema{window_size}',        f'post_favorite_fg_ema{window_size}'),\n",
    "        (f'prev_favorite_fg_pct_ema{window_size}',    f'post_favorite_fg_pct_ema{window_size}'),\n",
    "        (f'prev_favorite_3p_ema{window_size}',        f'post_favorite_3p_ema{window_size}'),\n",
    "        (f'prev_favorite_3p_pct_ema{window_size}',    f'post_favorite_3p_pct_ema{window_size}'),\n",
    "        (f'prev_favorite_ft_ema{window_size}',        f'post_favorite_ft_ema{window_size}'),\n",
    "        (f'prev_favorite_ft_pct_ema{window_size}',    f'post_favorite_ft_pct_ema{window_size}'),\n",
    "        (f'prev_favorite_orb_ema{window_size}',       f'post_favorite_orb_ema{window_size}'),\n",
    "        (f'prev_favorite_orb_pct_ema{window_size}',   f'post_favorite_orb_pct_ema{window_size}'),\n",
    "        (f'prev_favorite_drb_ema{window_size}',       f'post_favorite_drb_ema{window_size}'),\n",
    "        (f'prev_favorite_drb_pct_ema{window_size}',   f'post_favorite_drb_pct_ema{window_size}'),\n",
    "        (f'prev_favorite_trb_ema{window_size}',       f'post_favorite_trb_ema{window_size}'),\n",
    "        (f'prev_favorite_trb_pct_ema{window_size}',   f'post_favorite_trb_pct_ema{window_size}'),\n",
    "        (f'prev_favorite_tov_ema{window_size}',       f'post_favorite_tov_ema{window_size}'),\n",
    "        (f'prev_favorite_tov_pct_ema{window_size}',   f'post_favorite_tov_pct_ema{window_size}'),\n",
    "        (f'prev_favorite_ast_ema{window_size}',       f'post_favorite_ast_ema{window_size}'),\n",
    "        (f'prev_favorite_ast_pct_ema{window_size}',   f'post_favorite_ast_pct_ema{window_size}'),\n",
    "        (f'prev_favorite_stl_ema{window_size}',       f'post_favorite_stl_ema{window_size}'),\n",
    "        (f'prev_favorite_stl_pct_ema{window_size}',   f'post_favorite_stl_pct_ema{window_size}'),\n",
    "        (f'prev_favorite_blk_ema{window_size}',       f'post_favorite_blk_ema{window_size}'),\n",
    "        (f'prev_favorite_blk_pct_ema{window_size}',   f'post_favorite_blk_pct_ema{window_size}'),\n",
    "        (f'prev_favorite_drtg_ema{window_size}',      f'post_favorite_drtg_ema{window_size}'),\n",
    "        (f'prev_favorite_ortg_ema{window_size}',      f'post_favorite_ortg_ema{window_size}'),\n",
    "        (f'prev_favorite_efg_pct_ema{window_size}',   f'post_favorite_efg_pct_ema{window_size}'),\n",
    "        (f'prev_favorite_pace_ema{window_size}',      f'post_favorite_pace_ema{window_size}'),\n",
    "        ]\n",
    "\n",
    "    ema_underdog_features = [(f[0].replace('favorite','underdog'), f[1].replace('favorite','underdog')) for f in ema_favorite_features]\n",
    "    sma_favorite_features = [(f[0].replace('ema','sma'), f[1].replace('ema','sma')) for f in ema_favorite_features]\n",
    "    sma_underdog_features = [(f[0].replace('favorite','underdog'), f[1].replace('favorite','underdog')) for f in sma_favorite_features]\n",
    "\n",
    "    for idx, row in tqdm(match_df.iterrows(), total=match_df.shape[0]):\n",
    "        prev_favorite_matches = get_prev_matches(row['date'], \\\n",
    "            row['favorite_id'], match_df).tail(window_size)\n",
    "        prev_underdog_matches = get_prev_matches(row['date'], \\\n",
    "            row['underdog_id'], match_df).tail(window_size)\n",
    "        len_prev_favorite_matches = len(prev_favorite_matches)\n",
    "        len_prev_underdog_matches = len(prev_underdog_matches)\n",
    "        for i in range(len(ema_favorite_features)):\n",
    "            favorite_feature = re.findall('favorite_.*_ema', ema_favorite_features[i][0])[0].replace('_ema', '')\n",
    "            underdog_feature = favorite_feature.replace('favorite', 'underdog') \n",
    "\n",
    "            if not prev_favorite_matches.empty:\n",
    "                prev_match = prev_favorite_matches.iloc[-1:]\n",
    "                match_df.at[idx,sma_favorite_features[i][0]] = get_prev_team_sum(row['favorite_id'], \n",
    "                                                                                 favorite_feature, \n",
    "                                                                                 prev_favorite_matches)/len_prev_favorite_matches \n",
    "                if len_prev_favorite_matches < window_size:\n",
    "                    match_df.at[idx,ema_favorite_features[i][0]] = match_df.at[idx,sma_favorite_features[i][0]]\n",
    "                    match_df.at[idx,ema_favorite_features[i][1]] = (match_df.at[idx,sma_favorite_features[i][0]] \\\n",
    "                        * len_prev_favorite_matches + row[favorite_feature])/(len_prev_favorite_matches + 1)\n",
    "                    \n",
    "                    match_df.at[idx,ema_favorite_features[i][0]] = match_df.loc[idx,sma_favorite_features[i][0]] \n",
    "                    match_df.at[idx,ema_favorite_features[i][1]] = (match_df.loc[idx,sma_favorite_features[i][0]] \\\n",
    "                                                                * len_prev_favorite_matches + row[favorite_feature])/(len_prev_favorite_matches + 1)\n",
    "\n",
    "                else:\n",
    "                    match_df.at[idx,ema_favorite_features[i][0]]= prev_match[ema_favorite_features[i][1]] \\\n",
    "                                        if prev_match['favorite_id'].values[0] == row['favorite_id'] \\\n",
    "                                        else prev_match[ema_underdog_features[i][1]]\n",
    "\n",
    "                    match_df.at[idx,ema_favorite_features[i][1]] = ema(row[favorite_feature],  \n",
    "                                        match_df.at[idx,ema_favorite_features[i][0]], \n",
    "                                        window_size)\n",
    "            else:\n",
    "                match_df.at[idx,ema_favorite_features[i][1]] = row[favorite_feature]\n",
    "\n",
    "\n",
    "            if not prev_underdog_matches.empty:\n",
    "                prev_match = prev_underdog_matches.iloc[-1:]\n",
    "                match_df.at[idx,sma_underdog_features[i][0]] = get_prev_team_sum(row['underdog_id'], \\\n",
    "                    underdog_feature, prev_underdog_matches)/len_prev_underdog_matches\n",
    "\n",
    "                if len_prev_underdog_matches < window_size:\n",
    "                    match_df.at[idx,ema_underdog_features[i][0]] = match_df.at[idx,sma_underdog_features[i][0]]\n",
    "                    match_df.at[idx,ema_underdog_features[i][1]] = (match_df.at[idx,sma_underdog_features[i][0]] \\\n",
    "                        * len_prev_underdog_matches + row[underdog_feature])/(len_prev_underdog_matches + 1)\n",
    "                else:\n",
    "                    match_df.at[idx,ema_underdog_features[i][0]] = (prev_match[ema_favorite_features[i][1]] \\\n",
    "                                if prev_match['favorite_id'].values[0] == row['underdog_id'] \\\n",
    "                                else prev_match[ema_underdog_features[i][1]])\n",
    "\n",
    "                    match_df.at[idx,ema_underdog_features[i][1]] = ema(row[underdog_feature],  \n",
    "                                            match_df.at[idx,ema_underdog_features[i][0]], \n",
    "                                            window_size)\n",
    "            else:\n",
    "                match_df.at[idx,ema_underdog_features[i][1]] = row[underdog_feature]"
   ]
  },
  {
   "cell_type": "code",
   "execution_count": 34,
   "id": "5f3b8f29-27c2-4246-a907-cf6dafc45c2f",
   "metadata": {},
   "outputs": [
    {
     "name": "stdout",
     "output_type": "stream",
     "text": [
      "time: 35.9 s (started: 2023-03-05 09:02:13 -05:00)\n"
     ]
    }
   ],
   "source": [
    "match_df.to_csv('nba_processed_features.csv')\n",
    "pp_df.to_csv('player_df.csv')"
   ]
  },
  {
   "cell_type": "code",
   "execution_count": 36,
   "id": "3d83ec0d-713b-49b5-b236-75005cf8078b",
   "metadata": {},
   "outputs": [
    {
     "name": "stdout",
     "output_type": "stream",
     "text": [
      "time: 1.13 ms (started: 2023-03-05 09:02:49 -05:00)\n"
     ]
    }
   ],
   "source": [
    "match_df['favorite_elo'] = 1500.0\n",
    "match_df['underdog_elo'] = 1500.0"
   ]
  },
  {
   "cell_type": "code",
   "execution_count": 35,
   "id": "23a50e23-898e-464a-8608-f3f873fcd2f1",
   "metadata": {},
   "outputs": [
    {
     "name": "stdout",
     "output_type": "stream",
     "text": [
      "time: 252 µs (started: 2023-03-05 09:02:49 -05:00)\n"
     ]
    }
   ],
   "source": [
    "def get_prev_match(date, team_id, match_df):\n",
    "    return match_df[(match_df[\"date\"] < date) &\n",
    "                    ((match_df[\"favorite_id\"] == team_id) |\n",
    "                     (match_df[\"underdog_id\"] == team_id))].tail(1)"
   ]
  },
  {
   "cell_type": "code",
   "execution_count": 37,
   "id": "32020379-e125-451b-bdbf-6039bd1a0d09",
   "metadata": {},
   "outputs": [
    {
     "name": "stdout",
     "output_type": "stream",
     "text": [
      "time: 576 µs (started: 2023-03-05 09:02:49 -05:00)\n"
     ]
    }
   ],
   "source": [
    "def get_prev_elo(team_id, season, prev_match):\n",
    "    if prev_match.empty:\n",
    "        prev_elo = 1500.0\n",
    "    elif team_id == prev_match['favorite_id'].values[0]:\n",
    "        prev_elo = prev_match['favorite_elo'].values[0]\n",
    "    elif team_id == prev_match['underdog_id'].values[0]:\n",
    "        prev_elo = prev_match['underdog_elo'].values[0]\n",
    "    else: \n",
    "        print('err')\n",
    "\n",
    "    if (not prev_match.empty and\n",
    "            (prev_match['season'].values[0]\n",
    "             != season)):\n",
    "        prev_elo = prev_elo * 0.75 + 1505 * 0.25\n",
    "    return prev_elo\n",
    "\n",
    "\n",
    "def update_elo(favorite_elo, underdog_elo, movl):\n",
    "    elo_diff = favorite_elo + 100.0 - underdog_elo\n",
    "    if movl > 0:\n",
    "        h_s = 1.0\n",
    "        a_s = 0.0\n",
    "        multiplier = ((movl+3)**(0.8))/(7.5+0.006*elo_diff)\n",
    "\n",
    "    else:\n",
    "        h_s = 0.0\n",
    "        a_s = 1.0\n",
    "        multiplier = ((-movl+3)**(0.8))/(7.5+0.006*(-elo_diff))\n",
    "        \n",
    "    exp_h_s = 1.0 / (1.0 + 10.0 ** (-elo_diff/400.0))\n",
    "    exp_a_s = 1.0 - exp_h_s\n",
    "    \n",
    "    k = 20.0 * multiplier\n",
    "\n",
    "    new_favorite_elo = favorite_elo + k * (h_s - exp_h_s)\n",
    "    new_underdog_elo = underdog_elo + k * (a_s - exp_a_s)\n",
    "\n",
    "    return (new_favorite_elo, new_underdog_elo)"
   ]
  },
  {
   "cell_type": "code",
   "execution_count": 38,
   "id": "e745ba73-fae9-455f-9ddd-cfacc66060cb",
   "metadata": {},
   "outputs": [
    {
     "data": {
      "application/vnd.jupyter.widget-view+json": {
       "model_id": "59279a18626e40fabcd68fa863cdca19",
       "version_major": 2,
       "version_minor": 0
      },
      "text/plain": [
       "  0%|          | 0/19158 [00:00<?, ?it/s]"
      ]
     },
     "metadata": {},
     "output_type": "display_data"
    },
    {
     "name": "stdout",
     "output_type": "stream",
     "text": [
      "time: 3min 57s (started: 2023-03-05 09:02:49 -05:00)\n"
     ]
    }
   ],
   "source": [
    "for idx, row in tqdm(match_df.iterrows(), total=match_df.shape[0]):\n",
    "    prev_f_match = get_prev_match(row['date'], row['favorite_id'], match_df)\n",
    "    prev_u_match = get_prev_match(row['date'], row['underdog_id'], match_df)\n",
    "\n",
    "    prev_f_elo = get_prev_elo(\n",
    "        row['favorite_id'], row['season'], prev_f_match)\n",
    "    prev_u_elo = get_prev_elo(\n",
    "        row['underdog_id'], row['season'], prev_u_match)    \n",
    "\n",
    "    new_elos = update_elo(prev_f_elo, prev_u_elo, row['favorite_movl'])\n",
    "    match_df.at[idx, 'favorite_elo'] = new_elos[0]\n",
    "    match_df.at[idx, 'underdog_elo'] = new_elos[1]\n",
    "\n",
    "    match_df.at[idx, 'prev_favorite_elo'] = prev_f_elo\n",
    "    match_df.at[idx, 'prev_underdog_elo'] = prev_u_elo"
   ]
  },
  {
   "cell_type": "code",
   "execution_count": 39,
   "id": "a1143e27-def8-4759-9e88-ab1263e68596",
   "metadata": {},
   "outputs": [
    {
     "name": "stdout",
     "output_type": "stream",
     "text": [
      "time: 35.8 s (started: 2023-03-05 09:06:47 -05:00)\n"
     ]
    }
   ],
   "source": [
    "match_df.to_csv('nba_processed_features + elo.csv')\n",
    "pp_df.to_csv('player_df.csv')"
   ]
  },
  {
   "cell_type": "code",
   "execution_count": 2,
   "id": "4091b844-a86a-429a-a77a-4618aea73b77",
   "metadata": {},
   "outputs": [
    {
     "name": "stdout",
     "output_type": "stream",
     "text": [
      "time: 6.56 s (started: 2023-03-06 14:49:25 -05:00)\n"
     ]
    }
   ],
   "source": [
    "match_df = pd.read_csv('nba_processed_features + elo.csv')\n",
    "pp_df = pd.read_csv('player_df.csv')"
   ]
  },
  {
   "cell_type": "code",
   "execution_count": null,
   "id": "a02478de-3f20-4c74-85f0-80bffb12a82e",
   "metadata": {},
   "outputs": [],
   "source": [
    "ema_favorite_features = \\\n",
    "        [(f'prev_favorite_pts_ema{window_size}',       f'post_favorite_pts_ema{window_size}'),\n",
    "        (f'prev_favorite_bpm_ema{window_size}',       f'post_favorite_bpm_ema{window_size}'),\n",
    "        (f'prev_favorite_fg_ema{window_size}',        f'post_favorite_fg_ema{window_size}'),\n",
    "        (f'prev_favorite_fg_pct_ema{window_size}',    f'post_favorite_fg_pct_ema{window_size}'),\n",
    "        (f'prev_favorite_3p_ema{window_size}',        f'post_favorite_3p_ema{window_size}'),\n",
    "        (f'prev_favorite_3p_pct_ema{window_size}',    f'post_favorite_3p_pct_ema{window_size}'),\n",
    "        (f'prev_favorite_ft_ema{window_size}',        f'post_favorite_ft_ema{window_size}'),\n",
    "        (f'prev_favorite_ft_pct_ema{window_size}',    f'post_favorite_ft_pct_ema{window_size}'),\n",
    "        (f'prev_favorite_orb_ema{window_size}',       f'post_favorite_orb_ema{window_size}'),\n",
    "        (f'prev_favorite_orb_pct_ema{window_size}',   f'post_favorite_orb_pct_ema{window_size}'),\n",
    "        (f'prev_favorite_drb_ema{window_size}',       f'post_favorite_drb_ema{window_size}'),\n",
    "        (f'prev_favorite_drb_pct_ema{window_size}',   f'post_favorite_drb_pct_ema{window_size}'),\n",
    "        (f'prev_favorite_trb_ema{window_size}',       f'post_favorite_trb_ema{window_size}'),\n",
    "        (f'prev_favorite_trb_pct_ema{window_size}',   f'post_favorite_trb_pct_ema{window_size}'),\n",
    "        (f'prev_favorite_tov_ema{window_size}',       f'post_favorite_tov_ema{window_size}'),\n",
    "        (f'prev_favorite_tov_pct_ema{window_size}',   f'post_favorite_tov_pct_ema{window_size}'),\n",
    "        (f'prev_favorite_ast_ema{window_size}',       f'post_favorite_ast_ema{window_size}'),\n",
    "        (f'prev_favorite_ast_pct_ema{window_size}',   f'post_favorite_ast_pct_ema{window_size}'),\n",
    "        (f'prev_favorite_stl_ema{window_size}',       f'post_favorite_stl_ema{window_size}'),\n",
    "        (f'prev_favorite_stl_pct_ema{window_size}',   f'post_favorite_stl_pct_ema{window_size}'),\n",
    "        (f'prev_favorite_blk_ema{window_size}',       f'post_favorite_blk_ema{window_size}'),\n",
    "        (f'prev_favorite_blk_pct_ema{window_size}',   f'post_favorite_blk_pct_ema{window_size}'),\n",
    "        (f'prev_favorite_drtg_ema{window_size}',      f'post_favorite_drtg_ema{window_size}'),\n",
    "        (f'prev_favorite_ortg_ema{window_size}',      f'post_favorite_ortg_ema{window_size}'),\n",
    "        (f'prev_favorite_efg_pct_ema{window_size}',   f'post_favorite_efg_pct_ema{window_size}'),\n",
    "        (f'prev_favorite_pace_ema{window_size}',      f'post_favorite_pace_ema{window_size}')]\n",
    "\n",
    "features = ['favorite_pace','underdog_pace']\n",
    "\n",
    "#all_features = "
   ]
  }
 ],
 "metadata": {
  "kernelspec": {
   "display_name": "Python 3 (ipykernel)",
   "language": "python",
   "name": "python3"
  },
  "language_info": {
   "codemirror_mode": {
    "name": "ipython",
    "version": 3
   },
   "file_extension": ".py",
   "mimetype": "text/x-python",
   "name": "python",
   "nbconvert_exporter": "python",
   "pygments_lexer": "ipython3",
   "version": "3.9.12"
  }
 },
 "nbformat": 4,
 "nbformat_minor": 5
}
